{
 "cells": [
  {
   "cell_type": "code",
   "source": [
    "!pip install keras-tuner"
   ],
   "metadata": {
    "colab": {
     "base_uri": "https://localhost:8080/"
    },
    "id": "isNz8NkK4_sI",
    "outputId": "1dc11e35-8198-4fa4-c57b-0bb4c9d0a6a1"
   },
   "execution_count": 1,
   "outputs": [
    {
     "output_type": "stream",
     "name": "stdout",
     "text": [
      "Installing collected packages: kt-legacy, jedi, keras-tuner\n",
      "Successfully installed jedi-0.18.2 keras-tuner-1.3.0 kt-legacy-1.0.4\n"
     ]
    }
   ]
  },
  {
   "cell_type": "code",
   "execution_count": 78,
   "metadata": {
    "id": "BlIfrc1Gl2fu"
   },
   "outputs": [],
   "source": [
    "# Importing dependencies\n",
    "import pandas as pd\n",
    "import os\n",
    "import numpy as np\n",
    "from datetime import datetime\n",
    "from glob import glob\n",
    "from typing import List, Union, Iterator, Tuple\n",
    "%matplotlib inline\n",
    "import matplotlib.pyplot as plt\n",
    "plt.style.use('dark_background')\n",
    "from sklearn.model_selection import train_test_split\n",
    "\n",
    "import tensorflow as tf\n",
    "from keras.preprocessing.image import ImageDataGenerator\n",
    "from keras.layers import Dense, GlobalAveragePooling2D, Dropout, BatchNormalization, Input, Activation, Flatten, Concatenate,  MaxPooling2D, UpSampling2D, Conv2D\n",
    "from keras.models import Sequential, Model\n",
    "from keras.applications.mobilenet_v2 import MobileNetV2\n",
    "from keras.applications import EfficientNetV2B0, Xception, DenseNet201\n",
    "from keras.callbacks import EarlyStopping, ModelCheckpoint, TensorBoard, History\n",
    "from keras.optimizers import Adam, RMSprop, Adagrad, Adadelta\n",
    "import keras_tuner as kt"
   ]
  },
  {
   "cell_type": "code",
   "source": [
    "def load_data(data_path: str) -> pd.DataFrame:\n",
    "    \"\"\"Loads data from csv file\n",
    "    Params\n",
    "    ------\n",
    "    data_path: str\n",
    "        Data path containing images and csv data\n",
    "    Returns\n",
    "    -------\n",
    "    pd.DataFrame\n",
    "        Loaded data as pandas dataframe\n",
    "    \"\"\"\n",
    "    columns = ['image_id', 'angle', 'speed']\n",
    "    data = pd.read_csv(os.path.join(data_path, 'training_norm.csv'), delimiter= ',', header=0, names = columns)\n",
    "\n",
    "    return data"
   ],
   "metadata": {
    "id": "0cmhIYoJn-V0"
   },
   "execution_count": 3,
   "outputs": []
  },
  {
   "cell_type": "code",
   "source": [
    "# Appends absolute path with image id column\n",
    "def append_path(data: pd.DataFrame, data_path: os.PathLike) -> pd.DataFrame:\n",
    "  data['image_id'] = data.image_id.apply(lambda x: os.path.join(data_path, 'training_data/', str(x)) + '.png')\n",
    "  return data"
   ],
   "metadata": {
    "id": "9xggw4koo26n"
   },
   "execution_count": 4,
   "outputs": []
  },
  {
   "cell_type": "markdown",
   "source": [
    "## Data preprocessing"
   ],
   "metadata": {
    "id": "AWsOtfs-o8SQ"
   }
  },
  {
   "cell_type": "code",
   "source": [
    "# train test split of dataset\n",
    "def split_data(data: pd.DataFrame) -> Tuple[pd.DataFrame, pd.DataFrame]:\n",
    "    \"\"\"\n",
    "    Params\n",
    "    ------\n",
    "    data: pd.DataFrame\n",
    "        Pandas dataframe containing all data.\n",
    "    Returns\n",
    "    -------\n",
    "    Tuple[pd.DataFrame, pd.DataFrame, pd.DataFrame]\n",
    "        A tuple of train, test and val split\n",
    "    \"\"\"\n",
    "    rnd = np.random.RandomState(seed=None)\n",
    "\n",
    "    train_data, val_data = train_test_split(data, test_size=0.2, random_state=rnd.seed(1234)) # split data with test size of 20%\n",
    "\n",
    "    return train_data, val_data"
   ],
   "metadata": {
    "id": "6TMHCf2Go-nC"
   },
   "execution_count": 5,
   "outputs": []
  },
  {
   "cell_type": "code",
   "source": [
    "data_path='/content/drive/MyDrive/picarnet'\n",
    "data = load_data(data_path)"
   ],
   "metadata": {
    "id": "Ti7mUZzHKJa4"
   },
   "execution_count": 6,
   "outputs": []
  },
  {
   "cell_type": "code",
   "source": [
    "data.head()"
   ],
   "metadata": {
    "colab": {
     "base_uri": "https://localhost:8080/",
     "height": 206
    },
    "id": "sEErtJDaKTqQ",
    "outputId": "da41ac5c-cec2-4a23-d6c7-041528ea4906"
   },
   "execution_count": 7,
   "outputs": [
    {
     "output_type": "execute_result",
     "data": {
      "text/plain": [
       "   image_id   angle  speed\n",
       "0         1  0.4375    0.0\n",
       "1         2  0.8125    1.0\n",
       "2         3  0.4375    1.0\n",
       "3         4  0.6250    1.0\n",
       "4         5  0.5000    0.0"
      ],
      "text/html": [
       "\n",
       "  <div id=\"df-8d71a9d4-80b1-4f5e-a942-40dba9664e0c\">\n",
       "    <div class=\"colab-df-container\">\n",
       "      <div>\n",
       "<style scoped>\n",
       "    .dataframe tbody tr th:only-of-type {\n",
       "        vertical-align: middle;\n",
       "    }\n",
       "\n",
       "    .dataframe tbody tr th {\n",
       "        vertical-align: top;\n",
       "    }\n",
       "\n",
       "    .dataframe thead th {\n",
       "        text-align: right;\n",
       "    }\n",
       "</style>\n",
       "<table border=\"1\" class=\"dataframe\">\n",
       "  <thead>\n",
       "    <tr style=\"text-align: right;\">\n",
       "      <th></th>\n",
       "      <th>image_id</th>\n",
       "      <th>angle</th>\n",
       "      <th>speed</th>\n",
       "    </tr>\n",
       "  </thead>\n",
       "  <tbody>\n",
       "    <tr>\n",
       "      <th>0</th>\n",
       "      <td>1</td>\n",
       "      <td>0.4375</td>\n",
       "      <td>0.0</td>\n",
       "    </tr>\n",
       "    <tr>\n",
       "      <th>1</th>\n",
       "      <td>2</td>\n",
       "      <td>0.8125</td>\n",
       "      <td>1.0</td>\n",
       "    </tr>\n",
       "    <tr>\n",
       "      <th>2</th>\n",
       "      <td>3</td>\n",
       "      <td>0.4375</td>\n",
       "      <td>1.0</td>\n",
       "    </tr>\n",
       "    <tr>\n",
       "      <th>3</th>\n",
       "      <td>4</td>\n",
       "      <td>0.6250</td>\n",
       "      <td>1.0</td>\n",
       "    </tr>\n",
       "    <tr>\n",
       "      <th>4</th>\n",
       "      <td>5</td>\n",
       "      <td>0.5000</td>\n",
       "      <td>0.0</td>\n",
       "    </tr>\n",
       "  </tbody>\n",
       "</table>\n",
       "</div>\n",
       "      <button class=\"colab-df-convert\" onclick=\"convertToInteractive('df-8d71a9d4-80b1-4f5e-a942-40dba9664e0c')\"\n",
       "              title=\"Convert this dataframe to an interactive table.\"\n",
       "              style=\"display:none;\">\n",
       "        \n",
       "  <svg xmlns=\"http://www.w3.org/2000/svg\" height=\"24px\"viewBox=\"0 0 24 24\"\n",
       "       width=\"24px\">\n",
       "    <path d=\"M0 0h24v24H0V0z\" fill=\"none\"/>\n",
       "    <path d=\"M18.56 5.44l.94 2.06.94-2.06 2.06-.94-2.06-.94-.94-2.06-.94 2.06-2.06.94zm-11 1L8.5 8.5l.94-2.06 2.06-.94-2.06-.94L8.5 2.5l-.94 2.06-2.06.94zm10 10l.94 2.06.94-2.06 2.06-.94-2.06-.94-.94-2.06-.94 2.06-2.06.94z\"/><path d=\"M17.41 7.96l-1.37-1.37c-.4-.4-.92-.59-1.43-.59-.52 0-1.04.2-1.43.59L10.3 9.45l-7.72 7.72c-.78.78-.78 2.05 0 2.83L4 21.41c.39.39.9.59 1.41.59.51 0 1.02-.2 1.41-.59l7.78-7.78 2.81-2.81c.8-.78.8-2.07 0-2.86zM5.41 20L4 18.59l7.72-7.72 1.47 1.35L5.41 20z\"/>\n",
       "  </svg>\n",
       "      </button>\n",
       "      \n",
       "  <style>\n",
       "    .colab-df-container {\n",
       "      display:flex;\n",
       "      flex-wrap:wrap;\n",
       "      gap: 12px;\n",
       "    }\n",
       "\n",
       "    .colab-df-convert {\n",
       "      background-color: #E8F0FE;\n",
       "      border: none;\n",
       "      border-radius: 50%;\n",
       "      cursor: pointer;\n",
       "      display: none;\n",
       "      fill: #1967D2;\n",
       "      height: 32px;\n",
       "      padding: 0 0 0 0;\n",
       "      width: 32px;\n",
       "    }\n",
       "\n",
       "    .colab-df-convert:hover {\n",
       "      background-color: #E2EBFA;\n",
       "      box-shadow: 0px 1px 2px rgba(60, 64, 67, 0.3), 0px 1px 3px 1px rgba(60, 64, 67, 0.15);\n",
       "      fill: #174EA6;\n",
       "    }\n",
       "\n",
       "    [theme=dark] .colab-df-convert {\n",
       "      background-color: #3B4455;\n",
       "      fill: #D2E3FC;\n",
       "    }\n",
       "\n",
       "    [theme=dark] .colab-df-convert:hover {\n",
       "      background-color: #434B5C;\n",
       "      box-shadow: 0px 1px 3px 1px rgba(0, 0, 0, 0.15);\n",
       "      filter: drop-shadow(0px 1px 2px rgba(0, 0, 0, 0.3));\n",
       "      fill: #FFFFFF;\n",
       "    }\n",
       "  </style>\n",
       "\n",
       "      <script>\n",
       "        const buttonEl =\n",
       "          document.querySelector('#df-8d71a9d4-80b1-4f5e-a942-40dba9664e0c button.colab-df-convert');\n",
       "        buttonEl.style.display =\n",
       "          google.colab.kernel.accessAllowed ? 'block' : 'none';\n",
       "\n",
       "        async function convertToInteractive(key) {\n",
       "          const element = document.querySelector('#df-8d71a9d4-80b1-4f5e-a942-40dba9664e0c');\n",
       "          const dataTable =\n",
       "            await google.colab.kernel.invokeFunction('convertToInteractive',\n",
       "                                                     [key], {});\n",
       "          if (!dataTable) return;\n",
       "\n",
       "          const docLinkHtml = 'Like what you see? Visit the ' +\n",
       "            '<a target=\"_blank\" href=https://colab.research.google.com/notebooks/data_table.ipynb>data table notebook</a>'\n",
       "            + ' to learn more about interactive tables.';\n",
       "          element.innerHTML = '';\n",
       "          dataTable['output_type'] = 'display_data';\n",
       "          await google.colab.output.renderOutput(dataTable, element);\n",
       "          const docLink = document.createElement('div');\n",
       "          docLink.innerHTML = docLinkHtml;\n",
       "          element.appendChild(docLink);\n",
       "        }\n",
       "      </script>\n",
       "    </div>\n",
       "  </div>\n",
       "  "
      ]
     },
     "metadata": {},
     "execution_count": 7
    }
   ]
  },
  {
   "cell_type": "code",
   "source": [
    "data = append_path(data, data_path)"
   ],
   "metadata": {
    "id": "cQ_RoYeBKXqB"
   },
   "execution_count": 8,
   "outputs": []
  },
  {
   "cell_type": "code",
   "source": [
    "train_data, val_data = split_data(data)"
   ],
   "metadata": {
    "id": "4ikSujIRK058"
   },
   "execution_count": 9,
   "outputs": []
  },
  {
   "cell_type": "code",
   "source": [
    "# plotting distribution of output labels\n",
    "def visualize(data, attr):\n",
    "    nBins = 60\n",
    "    plt.hist(data.loc[:,attr], bins=nBins)\n",
    "    plt.grid(False)\n",
    "    plt.gca().set(title=f'Distribution of steering {attr}', ylabel='Frequency')"
   ],
   "metadata": {
    "id": "xLyPZ2tjpCEh"
   },
   "execution_count": 79,
   "outputs": []
  },
  {
   "cell_type": "code",
   "source": [
    "visualize(data=train_data, attr='angle')\n",
    "visualize(data=train_data, attr='speed')"
   ],
   "metadata": {
    "colab": {
     "base_uri": "https://localhost:8080/",
     "height": 279
    },
    "id": "HZsDngK805Ap",
    "outputId": "dc67edeb-fd54-4371-ec8e-1eb054829647"
   },
   "execution_count": 80,
   "outputs": [
    {
     "output_type": "display_data",
     "data": {
      "text/plain": [
       "<Figure size 432x288 with 1 Axes>"
      ],
      "image/png": "[encoded data removed]"
     },
     "metadata": {}
    }
   ]
  },
  {
   "cell_type": "markdown",
   "source": [
    "## Data pipeline"
   ],
   "metadata": {
    "id": "-BCbMBY8pJad"
   }
  },
  {
   "cell_type": "code",
   "source": [
    "# Generate images on the fly while training model\n",
    "def img_generator(train_data: pd.DataFrame, val_data: pd.DataFrame, test_dir: os.PathLike, BATCH_SIZE: int, IMG_HEIGHT: int, IMG_WIDTH: int) -> Tuple[Iterator, Iterator]:\n",
    "    \"\"\"\n",
    "    Params\n",
    "    ------\n",
    "    train_data: pd.DataFrame\n",
    "        Pandas dataframe containing training data\n",
    "    val_data: pd.DataFrame\n",
    "        Pandas dataframe containing validation data\n",
    "    test_dir: os.PathLike\n",
    "        path to test data directory\n",
    "    BATCH_SIZE: int\n",
    "        Number of images to process in each batch\n",
    "    IMG_HEIGHT: int\n",
    "        image height\n",
    "    IMG_WIDTH: int\n",
    "        image width\n",
    "\n",
    "    Returns\n",
    "    -------\n",
    "    Tuple[Iterator, Iterator]\n",
    "        keras ImageDataGenerators used for training and validating model.\n",
    "    \"\"\"\n",
    "\n",
    "    train_generator = ImageDataGenerator(\n",
    "        rescale=1.0 / 255,\n",
    "        rotation_range=20,\n",
    "        width_shift_range=0.1,\n",
    "        height_shift_range=0.1,\n",
    "        brightness_range=(0.75, 1),\n",
    "        shear_range=0.1,\n",
    "        zoom_range=[0.75, 1]\n",
    "    )\n",
    "\n",
    "    val_generator = ImageDataGenerator(rescale=1.0 / 255)\n",
    "    test_generator = ImageDataGenerator(rescale=1.0 / 255)\n",
    "\n",
    "    train_generator = train_generator.flow_from_dataframe(dataframe=train_data,\n",
    "                                                          directory=None,\n",
    "                                                          x_col='image_id',\n",
    "                                                          y_col=['angle','speed'],\n",
    "                                                          color_mode='rgb',\n",
    "                                                          target_size=(IMG_HEIGHT, IMG_WIDTH),\n",
    "                                                          class_mode='multi_output',\n",
    "                                                          batch_size=BATCH_SIZE,\n",
    "                                                          shuffle=True)\n",
    "\n",
    "    val_generator = val_generator.flow_from_dataframe(dataframe=val_data,\n",
    "                                                      x_col='image_id',\n",
    "                                                      y_col=['angle', 'speed'],\n",
    "                                                      color_mode='rgb',\n",
    "                                                      target_size=(IMG_HEIGHT, IMG_WIDTH),\n",
    "                                                      class_mode='multi_output',\n",
    "                                                      batch_size=BATCH_SIZE,\n",
    "                                                      shuffle=True)\n",
    "    \n",
    "    test_generator = test_generator.flow_from_directory(\n",
    "        directory=test_dir,\n",
    "        target_size=(IMG_HEIGHT, IMG_WIDTH),\n",
    "        color_mode='rgb',\n",
    "        class_mode=None,\n",
    "        classes=None,\n",
    "        batch_size=BATCH_SIZE,\n",
    "        seed=1234,\n",
    "        shuffle=False)\n",
    "\n",
    "\n",
    "\n",
    "    return train_generator, val_generator, test_generator\n"
   ],
   "metadata": {
    "id": "XPc65R3CpE37"
   },
   "execution_count": 12,
   "outputs": []
  },
  {
   "cell_type": "code",
   "source": [
    "# create data generators for train test and val data\n",
    "#training_ds, testing_ds, validation_ds = create_img_pipeline(train_ds, test_ds, val_ds)\n",
    "BATCH_SIZE = 64\n",
    "IMG_HEIGHT = 224\n",
    "IMG_WIDTH = 224\n",
    "test_dir = os.path.join(data_path, 'test_data')\n",
    "\n",
    "train_generator, val_generator, test_generator = img_generator(train_data, val_data, test_dir=test_dir, BATCH_SIZE=BATCH_SIZE, IMG_HEIGHT=IMG_HEIGHT, IMG_WIDTH=IMG_WIDTH)"
   ],
   "metadata": {
    "colab": {
     "base_uri": "https://localhost:8080/"
    },
    "id": "e2qxYfeC1uim",
    "outputId": "6e5e1fb0-ac21-4f02-b996-5a0b331f27ac"
   },
   "execution_count": 13,
   "outputs": [
    {
     "output_type": "stream",
     "name": "stdout",
     "text": [
      "Found 11034 validated image filenames.\n",
      "Found 2759 validated image filenames.\n",
      "Found 1020 images belonging to 1 classes.\n"
     ]
    }
   ]
  },
  {
   "cell_type": "code",
   "source": [
    "# defining callbacks\n",
    "def get_callbacks(model: str) -> List[Union[TensorBoard, EarlyStopping, ModelCheckpoint]]:\n",
    "    \"\"\"Accepts the model name as a string and returns multiple keras callbacks\n",
    "\n",
    "    Params\n",
    "    ------\n",
    "    model: str\n",
    "        The name of model as a string\n",
    "\n",
    "    Returns\n",
    "    -------\n",
    "    A list of multiple keras callbacks\n",
    "    \"\"\"\n",
    "    logdir = (\n",
    "        'logs/scalars/' + model + '_' + datetime.now().strftime('%Y%m%d-%H%M%S')\n",
    "    ) # logging for each model\n",
    "    tensorboard_callback = TensorBoard(log_dir=logdir)\n",
    "\n",
    "    early_stopping_callback = EarlyStopping(\n",
    "        monitor='loss',\n",
    "        min_delta=0.01,  # model should improve by at least 0.1\n",
    "        patience=10,  # amount of epochs  with improvements worse than 1% until the model stops\n",
    "        verbose=1,\n",
    "        mode='min',\n",
    "        restore_best_weights=True,  # restore the best model with the lowest validation error\n",
    "    )\n",
    "\n",
    "    model_checkpoint_callback = ModelCheckpoint(\n",
    "        './data/models/' + model + '.h5',\n",
    "        monitor='loss',\n",
    "        verbose=0,\n",
    "        save_best_only=True,  # save the best model\n",
    "        mode='min',\n",
    "        save_freq='epoch',  # save the model on disk at end of every epoch\n",
    "    )\n",
    "    return [model_checkpoint_callback, tensorboard_callback, early_stopping_callback]"
   ],
   "metadata": {
    "id": "o5T5ByyEx5HA"
   },
   "execution_count": 14,
   "outputs": []
  },
  {
   "cell_type": "code",
   "source": [
    "# model building function\n",
    "def tune_model(hp):\n",
    "    \"\"\"\n",
    "    Build model for hyperparamter tuning\n",
    "\n",
    "    Params\n",
    "    ------\n",
    "    hp: HyperParameters class instance\n",
    "\n",
    "    Returns\n",
    "    -------\n",
    "    Model: Keras model object\n",
    "    \"\"\"\n",
    "    # Define parameter tuning space\n",
    "    # Tune the number of units in the first Dense layer\n",
    "    # Choose an optimal value between 32-512\n",
    "    hp_units = hp.Int('units', min_value=32, max_value=128, step=32)\n",
    "    hp_dropout_rate = hp.Choice(name = 'dropout_rate', values=[1e-1, 2e-1, 5e-1, 2e-2])\n",
    "    hp_activation = hp.Choice(name = 'activation', values=['elu', 'relu', 'leaky_relu'], ordered=False)\n",
    "    # Tune the learning rate for the optimizer\n",
    "    # Choose an optimal value from 0.01, 0.001, or 0.0001\n",
    "    hp_learning_rate = hp.Choice('learning_rate', values=[1e-2, 1e-3, 2e-3, 2e-4, 5e-2])\n",
    "    # choose optimal optimizer\n",
    "    if hp.Choice('optimizer', ['Adam', 'RMSprop', 'Adadelta']) == 'Adam':\n",
    "        opt = Adam(learning_rate=hp_learning_rate)\n",
    "    elif hp.Choice('optimizer', ['Adam', 'RMSprop', 'Adadelta']) == 'RMSprop':\n",
    "        opt = RMSprop(learning_rate=hp_learning_rate)\n",
    "    else:\n",
    "        opt = Adadelta(learning_rate=hp_learning_rate)\n",
    "\n",
    "    input_shape=(224, 224, 3)\n",
    "\n",
    "    # Define model\n",
    "    mobilenet = MobileNetV2(include_top=False, weights='imagenet', input_shape=input_shape)\n",
    "    mobilenet.trainable = False # Freeze the model\n",
    "\n",
    "    # Rebuild top\n",
    "    model = Sequential(name='tuned_baseline')\n",
    "    model.add(mobilenet)\n",
    "    model.add(GlobalAveragePooling2D())\n",
    "    model.add(Dropout(hp_dropout_rate))\n",
    "    model.add(Flatten())\n",
    "    model.add(Dense(2, activation='linear'))\n",
    "\n",
    "    # compile model\n",
    "    model.compile(loss='mean_squared_error',\n",
    "                  optimizer=opt,\n",
    "                  metrics='mse')\n",
    "\n",
    "    return model"
   ],
   "metadata": {
    "id": "PlAM9p4vpRT2"
   },
   "execution_count": 15,
   "outputs": []
  },
  {
   "cell_type": "code",
   "source": [
    "tuning_dir = (\n",
    "        'logs/tuned_scalars/' + 'tuned_baseline' + '_' + datetime.now().strftime('%Y%m%d-%H%M%S')\n",
    "    ) # dir to save tuning logs\n",
    "\n",
    "# Define tuner\n",
    "tuner = kt.BayesianOptimization(hypermodel=tune_model,\n",
    "                        objective=kt.Objective('val_mse', direction='min'),\n",
    "                        max_trials=5,\n",
    "                        overwrite=True,\n",
    "                        project_name='./data/tuned_models')"
   ],
   "metadata": {
    "id": "2Km2XrRw1gKl"
   },
   "execution_count": 19,
   "outputs": []
  },
  {
   "cell_type": "code",
   "source": [
    "tuner.search(train_generator,\n",
    "             epochs=20,\n",
    "             callbacks = [EarlyStopping(monitor='val_mse', patience=5, min_delta=0.01),\n",
    "                          TensorBoard(log_dir=tuning_dir)],\n",
    "             batch_size=BATCH_SIZE,\n",
    "             validation_data=val_generator)"
   ],
   "metadata": {
    "id": "GWFLcCZA1q0X",
    "colab": {
     "base_uri": "https://localhost:8080/"
    },
    "outputId": "61fe7e68-4788-4729-b502-aa0d715ccb50"
   },
   "execution_count": 22,
   "outputs": [
    {
     "output_type": "stream",
     "name": "stdout",
     "text": [
      "Trial 5 Complete [00h 40m 23s]\n",
      "val_mse: 0.04785354807972908\n",
      "\n",
      "Best val_mse So Far: 0.011908035725355148\n",
      "Total elapsed time: 03h 49m 52s\n"
     ]
    }
   ]
  },
  {
   "cell_type": "code",
   "source": [
    "tuner.results_summary()"
   ],
   "metadata": {
    "colab": {
     "base_uri": "https://localhost:8080/"
    },
    "id": "OydDcLooMC5P",
    "outputId": "7deacc83-b519-4faa-9838-8c3cbcc41bf4"
   },
   "execution_count": 27,
   "outputs": [
    {
     "output_type": "stream",
     "name": "stdout",
     "text": [
      "Results summary\n",
      "Results in ././data/tuned_models\n",
      "Showing 10 best trials\n",
      "<keras_tuner.engine.objective.Objective object at 0x7f757c68cc10>\n",
      "Trial summary\n",
      "Hyperparameters:\n",
      "units: 96\n",
      "dropout_rate: 0.2\n",
      "activation: elu\n",
      "learning_rate: 0.001\n",
      "optimizer: Adam\n",
      "Score: 0.011908035725355148\n",
      "Trial summary\n",
      "Hyperparameters:\n",
      "units: 64\n",
      "dropout_rate: 0.5\n",
      "activation: leaky_relu\n",
      "learning_rate: 0.01\n",
      "optimizer: Adam\n",
      "Score: 0.017780790105462074\n",
      "Trial summary\n",
      "Hyperparameters:\n",
      "units: 128\n",
      "dropout_rate: 0.2\n",
      "activation: relu\n",
      "learning_rate: 0.001\n",
      "optimizer: RMSprop\n",
      "Score: 0.04785354807972908\n",
      "Trial summary\n",
      "Hyperparameters:\n",
      "units: 128\n",
      "dropout_rate: 0.02\n",
      "activation: relu\n",
      "learning_rate: 0.002\n",
      "optimizer: Adadelta\n",
      "Score: 0.3424091637134552\n",
      "Trial summary\n",
      "Hyperparameters:\n",
      "units: 32\n",
      "dropout_rate: 0.5\n",
      "activation: elu\n",
      "learning_rate: 0.01\n",
      "optimizer: RMSprop\n",
      "Score: 5.663029193878174\n"
     ]
    }
   ]
  },
  {
   "cell_type": "code",
   "source": [
    "best_params = tuner.get_best_hyperparameters()[0]"
   ],
   "metadata": {
    "id": "Mnen5CAaH8J6"
   },
   "execution_count": 25,
   "outputs": []
  },
  {
   "cell_type": "code",
   "source": [
    "best_model = tuner.hypermodel.build(best_params)"
   ],
   "metadata": {
    "id": "OWecCBy8LzW1"
   },
   "execution_count": 26,
   "outputs": []
  },
  {
   "cell_type": "code",
   "source": [
    "best_model.summary()"
   ],
   "metadata": {
    "colab": {
     "base_uri": "https://localhost:8080/"
    },
    "id": "5Z__9f_IMKTl",
    "outputId": "94f2def7-b1ee-4da9-a1bc-82cbbde01cf1"
   },
   "execution_count": 29,
   "outputs": [
    {
     "output_type": "stream",
     "name": "stdout",
     "text": [
      "Model: \"tuned_baseline\"\n",
      "_________________________________________________________________\n",
      " Layer (type)                Output Shape              Param #   \n",
      "=================================================================\n",
      " mobilenetv2_1.00_224 (Funct  (None, 7, 7, 1280)       2257984   \n",
      " ional)                                                          \n",
      "                                                                 \n",
      " global_average_pooling2d_1   (None, 1280)             0         \n",
      " (GlobalAveragePooling2D)                                        \n",
      "                                                                 \n",
      " dropout_1 (Dropout)         (None, 1280)              0         \n",
      "                                                                 \n",
      " flatten_1 (Flatten)         (None, 1280)              0         \n",
      "                                                                 \n",
      " dense_1 (Dense)             (None, 2)                 2562      \n",
      "                                                                 \n",
      "=================================================================\n",
      "Total params: 2,260,546\n",
      "Trainable params: 2,562\n",
      "Non-trainable params: 2,257,984\n",
      "_________________________________________________________________\n"
     ]
    }
   ]
  },
  {
   "cell_type": "code",
   "source": [
    "tf.keras.backend.clear_session() # clear keras session"
   ],
   "metadata": {
    "id": "tEMj7cC3MNe5"
   },
   "execution_count": 30,
   "outputs": []
  },
  {
   "cell_type": "code",
   "source": [
    "## Train model with best hyperparameters\n",
    "def train(name: str, model: Model, train_generator: Iterator, val_generator: Iterator, epoch: int) -> History:\n",
    "    \"\"\"\n",
    "    Params\n",
    "    ------\n",
    "    name: str\n",
    "        Model name\n",
    "    model: keras.models.Model\n",
    "        Model we are training\n",
    "    train_generator: Iterator\n",
    "        Image data generator for training\n",
    "    val_generator: Iterator\n",
    "        Image data generator for validation\n",
    "    epoch: int\n",
    "        Number of epochs to train for\n",
    "    Returns\n",
    "    -------\n",
    "    keras.callbacks.History\n",
    "    \"\"\"\n",
    "    callbacks = get_callbacks(name)\n",
    "\n",
    "    history = model.fit(train_generator,\n",
    "              epochs=epoch,\n",
    "              steps_per_epoch=300,\n",
    "              validation_data=val_generator,\n",
    "              validation_steps=100,\n",
    "              callbacks=callbacks,\n",
    "              workers=4,\n",
    "              verbose=1,\n",
    "              batch_size=len(train_data))\n",
    "\n",
    "    return history"
   ],
   "metadata": {
    "id": "uSIVCxc5MS2a"
   },
   "execution_count": 34,
   "outputs": []
  },
  {
   "cell_type": "code",
   "source": [
    "baseline_history = train(name='tuned_baseline', model=best_model, train_generator=train_generator, val_generator=val_generator, epoch=50)"
   ],
   "metadata": {
    "colab": {
     "base_uri": "https://localhost:8080/"
    },
    "id": "XlZUhyyzMivw",
    "outputId": "53541d4a-0653-4c39-d73c-cb1bb203045c"
   },
   "execution_count": 36,
   "outputs": [
    {
     "output_type": "stream",
     "name": "stdout",
     "text": [
      "Epoch 1/50\n",
      "300/300 [==============================] - 115s 373ms/step - loss: 0.3481 - mse: 0.3481 - val_loss: 0.0627 - val_mse: 0.0627\n",
      "Epoch 2/50\n",
      "300/300 [==============================] - 112s 370ms/step - loss: 0.0830 - mse: 0.0830 - val_loss: 0.0233 - val_mse: 0.0233\n",
      "Epoch 3/50\n",
      "300/300 [==============================] - 111s 367ms/step - loss: 0.0283 - mse: 0.0283 - val_loss: 0.0197 - val_mse: 0.0197\n",
      "Epoch 4/50\n",
      "300/300 [==============================] - 111s 368ms/step - loss: 0.0166 - mse: 0.0166 - val_loss: 0.0150 - val_mse: 0.0150\n",
      "Epoch 5/50\n",
      "300/300 [==============================] - 112s 371ms/step - loss: 0.0143 - mse: 0.0143 - val_loss: 0.0142 - val_mse: 0.0142\n",
      "Epoch 6/50\n",
      "300/300 [==============================] - 112s 369ms/step - loss: 0.0142 - mse: 0.0142 - val_loss: 0.0115 - val_mse: 0.0115\n",
      "Epoch 7/50\n",
      "300/300 [==============================] - 112s 369ms/step - loss: 0.0144 - mse: 0.0144 - val_loss: 0.0188 - val_mse: 0.0188\n",
      "Epoch 8/50\n",
      "300/300 [==============================] - 112s 369ms/step - loss: 0.0155 - mse: 0.0155 - val_loss: 0.0159 - val_mse: 0.0159\n",
      "Epoch 9/50\n",
      "300/300 [==============================] - 112s 369ms/step - loss: 0.0152 - mse: 0.0152 - val_loss: 0.0115 - val_mse: 0.0115\n",
      "Epoch 10/50\n",
      "300/300 [==============================] - 111s 368ms/step - loss: 0.0146 - mse: 0.0146 - val_loss: 0.0119 - val_mse: 0.0119\n",
      "Epoch 11/50\n",
      "300/300 [==============================] - 111s 366ms/step - loss: 0.0146 - mse: 0.0146 - val_loss: 0.0141 - val_mse: 0.0141\n",
      "Epoch 12/50\n",
      "300/300 [==============================] - 112s 369ms/step - loss: 0.0158 - mse: 0.0158 - val_loss: 0.0175 - val_mse: 0.0175\n",
      "Epoch 13/50\n",
      "300/300 [==============================] - 112s 370ms/step - loss: 0.0143 - mse: 0.0143 - val_loss: 0.0113 - val_mse: 0.0113\n",
      "Epoch 14/50\n",
      "300/300 [==============================] - ETA: 0s - loss: 0.0145 - mse: 0.0145Restoring model weights from the end of the best epoch: 4.\n",
      "300/300 [==============================] - 112s 368ms/step - loss: 0.0145 - mse: 0.0145 - val_loss: 0.0132 - val_mse: 0.0132\n",
      "Epoch 14: early stopping\n"
     ]
    }
   ]
  },
  {
   "cell_type": "code",
   "source": [
    "def plot_history(history):\n",
    "    loss_list = [s for s in history.history.keys() if 'loss' in s and 'val' not in s]\n",
    "    val_loss_list = [s for s in history.history.keys() if 'loss' in s and 'val' in s]\n",
    "    \n",
    "    if len(loss_list) == 0:\n",
    "        print('Loss is missing in history')\n",
    "        return \n",
    "    \n",
    "    ## As loss always exists\n",
    "    epochs = range(1,len(history.history[loss_list[0]]) + 1)\n",
    "    \n",
    "    ## Loss\n",
    "    plt.figure(1)\n",
    "    for l in loss_list:\n",
    "        plt.plot(epochs, history.history[l], 'lightblue', label='Training loss (' + str(str(format(history.history[l][-1],'.3f'))+')'))\n",
    "    for l in val_loss_list:\n",
    "        plt.plot(epochs, history.history[l], 'coral', label='Validation loss (' + str(str(format(history.history[l][-1],'.3f'))+')'))\n",
    "    \n",
    "    plt.title('Loss')\n",
    "    plt.xlabel('Epochs')\n",
    "    plt.ylabel('Loss')\n",
    "    plt.grid(False)\n",
    "    plt.legend()\n",
    "    plt.show()"
   ],
   "metadata": {
    "id": "90vYww6aPILr"
   },
   "execution_count": 82,
   "outputs": []
  },
  {
   "cell_type": "code",
   "source": [
    "plot_history(baseline_history)"
   ],
   "metadata": {
    "colab": {
     "base_uri": "https://localhost:8080/",
     "height": 296
    },
    "id": "9ghhVnI7Sz4E",
    "outputId": "78775b56-8d67-449b-cdc8-87178c476ab7"
   },
   "execution_count": 83,
   "outputs": [
    {
     "output_type": "display_data",
     "data": {
      "text/plain": [
       "<Figure size 432x288 with 1 Axes>"
      ],
      "image/png": "[encoded data removed]"
     },
     "metadata": {}
    }
   ]
  },
  {
   "cell_type": "code",
   "source": [
    "def get_predictions(test_path: str, test_generator: Iterator, model: Sequential) -> pd.DataFrame:\n",
    "    \"\"\"\n",
    "    Params\n",
    "    ------\n",
    "    test: str\n",
    "        path to test data\n",
    "    test_generator: Iterator\n",
    "        Data generator for testing\n",
    "    model: Sequential model\n",
    "        trained model to make\n",
    "\n",
    "    Returns\n",
    "    -------\n",
    "    pd.DataFrame\n",
    "        predictions as pandas dataframe\n",
    "    \"\"\"\n",
    "    test_dir = os.path.join(data_path, test_path)\n",
    "\n",
    "    # list of all png files in test data\n",
    "    png_files = glob(f'{test_dir}/*png')\n",
    "\n",
    "    # convert to pandas dataframe with image_id as column name\n",
    "    png_df = pd.DataFrame(data=png_files, columns=['image_id'])\n",
    "    png_df['image_id'] = png_df.image_id.apply(lambda x: os.path.split(x)[-1].split('.png')[0])\n",
    "\n",
    "    \"\"\"    \n",
    "    # prepare test tensorflow dataset for making predictions\n",
    "    test_ds = tf.data.Dataset.from_tensor_slices(png_files).map(\n",
    "        lambda image: (tf.image.decode_png(tf.io.read_file(image), channels=1))\n",
    "    ).map(\n",
    "        lambda image: (tf.image.convert_image_dtype(image, dtype=tf.float32))\n",
    "    ).map(\n",
    "        lambda image: (tf.image.resize(image, [128, 128]))\n",
    "    ).batch(32)\"\"\"\n",
    "\n",
    "    # make predictions\n",
    "    pred = model.predict(test_generator)\n",
    "\n",
    "    # convert prediction numpy.ndarray( to pd.DataFrame\n",
    "    pred_df = pd.concat([png_df, pd.DataFrame(data=pred, columns=['angle', 'speed'])], axis=1)\n",
    "    # dropping index from dataframe\n",
    "    pred_df.reset_index(drop=True)\n",
    "\n",
    "    # return predictions\n",
    "    return pred_df"
   ],
   "metadata": {
    "id": "vjC71urSx_df"
   },
   "execution_count": 86,
   "outputs": []
  },
  {
   "cell_type": "code",
   "source": [
    "def save_csv(pred_df: pd.DataFrame) -> None:\n",
    "    \"\"\"\n",
    "    Params\n",
    "    ------\n",
    "    pred_df: pd.DataFrame\n",
    "        predictions in pandas dataframe\n",
    "\n",
    "    Returns\n",
    "    -------\n",
    "    None\n",
    "    \"\"\"\n",
    "\n",
    "    savedir='./submissions' # submissions directory\n",
    "    if not os.path.exists(savedir):\n",
    "        os.mkdir(savedir)\n",
    "\n",
    "    csvfile = 'submission' + '_' + datetime.now().strftime('%d-%b_%I-%M%p') + '.csv' # csv file name\n",
    "    savedir = str(os.path.join(savedir, csvfile))\n",
    "    pred_df.to_csv(savedir, sep=',', index=False) # save to disk\n",
    "    print('Saved CSV file on disk!')"
   ],
   "metadata": {
    "id": "raC2R1y3yAIj"
   },
   "execution_count": 87,
   "outputs": []
  },
  {
   "cell_type": "code",
   "source": [
    "test_path = os.path.join('test_data', 'images') # path to test data\n",
    "pred_df = get_predictions(test_path, test_generator, best_model)"
   ],
   "metadata": {
    "colab": {
     "base_uri": "https://localhost:8080/"
    },
    "id": "5NulLTRvUx2v",
    "outputId": "55e607e0-d919-4e45-a0e1-de5b608b7bb1"
   },
   "execution_count": 88,
   "outputs": [
    {
     "output_type": "stream",
     "name": "stdout",
     "text": [
      "16/16 [==============================] - 199s 13s/step\n"
     ]
    }
   ]
  },
  {
   "cell_type": "code",
   "source": [
    "save_csv(pred_df)"
   ],
   "metadata": {
    "colab": {
     "base_uri": "https://localhost:8080/"
    },
    "id": "eIqoemWoVsbG",
    "outputId": "39bb55f0-3e3f-4e79-9566-c05ee851b5dc"
   },
   "execution_count": 89,
   "outputs": [
    {
     "output_type": "stream",
     "name": "stdout",
     "text": [
      "Saved CSV file on disk!\n"
     ]
    }
   ]
  },
  {
   "cell_type": "code",
   "source": [
    "pred_df.head()"
   ],
   "metadata": {
    "colab": {
     "base_uri": "https://localhost:8080/",
     "height": 206
    },
    "id": "SyKShGmlVwTk",
    "outputId": "02569547-aab6-44cb-fb3b-c9c4420964f8"
   },
   "execution_count": 91,
   "outputs": [
    {
     "output_type": "execute_result",
     "data": {
      "text/plain": [
       "  image_id     angle     speed\n",
       "0       32  0.510792  0.500949\n",
       "1       31  0.705226  0.585691\n",
       "2       35  0.611279  0.576562\n",
       "3       38  0.333033  0.298415\n",
       "4       42  0.322233  0.237704"
      ],
      "text/html": [
       "\n",
       "  <div id=\"df-08c97509-a1e3-46e0-9f6e-44e3b5a3d661\">\n",
       "    <div class=\"colab-df-container\">\n",
       "      <div>\n",
       "<style scoped>\n",
       "    .dataframe tbody tr th:only-of-type {\n",
       "        vertical-align: middle;\n",
       "    }\n",
       "\n",
       "    .dataframe tbody tr th {\n",
       "        vertical-align: top;\n",
       "    }\n",
       "\n",
       "    .dataframe thead th {\n",
       "        text-align: right;\n",
       "    }\n",
       "</style>\n",
       "<table border=\"1\" class=\"dataframe\">\n",
       "  <thead>\n",
       "    <tr style=\"text-align: right;\">\n",
       "      <th></th>\n",
       "      <th>image_id</th>\n",
       "      <th>angle</th>\n",
       "      <th>speed</th>\n",
       "    </tr>\n",
       "  </thead>\n",
       "  <tbody>\n",
       "    <tr>\n",
       "      <th>0</th>\n",
       "      <td>32</td>\n",
       "      <td>0.510792</td>\n",
       "      <td>0.500949</td>\n",
       "    </tr>\n",
       "    <tr>\n",
       "      <th>1</th>\n",
       "      <td>31</td>\n",
       "      <td>0.705226</td>\n",
       "      <td>0.585691</td>\n",
       "    </tr>\n",
       "    <tr>\n",
       "      <th>2</th>\n",
       "      <td>35</td>\n",
       "      <td>0.611279</td>\n",
       "      <td>0.576562</td>\n",
       "    </tr>\n",
       "    <tr>\n",
       "      <th>3</th>\n",
       "      <td>38</td>\n",
       "      <td>0.333033</td>\n",
       "      <td>0.298415</td>\n",
       "    </tr>\n",
       "    <tr>\n",
       "      <th>4</th>\n",
       "      <td>42</td>\n",
       "      <td>0.322233</td>\n",
       "      <td>0.237704</td>\n",
       "    </tr>\n",
       "  </tbody>\n",
       "</table>\n",
       "</div>\n",
       "      <button class=\"colab-df-convert\" onclick=\"convertToInteractive('df-08c97509-a1e3-46e0-9f6e-44e3b5a3d661')\"\n",
       "              title=\"Convert this dataframe to an interactive table.\"\n",
       "              style=\"display:none;\">\n",
       "        \n",
       "  <svg xmlns=\"http://www.w3.org/2000/svg\" height=\"24px\"viewBox=\"0 0 24 24\"\n",
       "       width=\"24px\">\n",
       "    <path d=\"M0 0h24v24H0V0z\" fill=\"none\"/>\n",
       "    <path d=\"M18.56 5.44l.94 2.06.94-2.06 2.06-.94-2.06-.94-.94-2.06-.94 2.06-2.06.94zm-11 1L8.5 8.5l.94-2.06 2.06-.94-2.06-.94L8.5 2.5l-.94 2.06-2.06.94zm10 10l.94 2.06.94-2.06 2.06-.94-2.06-.94-.94-2.06-.94 2.06-2.06.94z\"/><path d=\"M17.41 7.96l-1.37-1.37c-.4-.4-.92-.59-1.43-.59-.52 0-1.04.2-1.43.59L10.3 9.45l-7.72 7.72c-.78.78-.78 2.05 0 2.83L4 21.41c.39.39.9.59 1.41.59.51 0 1.02-.2 1.41-.59l7.78-7.78 2.81-2.81c.8-.78.8-2.07 0-2.86zM5.41 20L4 18.59l7.72-7.72 1.47 1.35L5.41 20z\"/>\n",
       "  </svg>\n",
       "      </button>\n",
       "      \n",
       "  <style>\n",
       "    .colab-df-container {\n",
       "      display:flex;\n",
       "      flex-wrap:wrap;\n",
       "      gap: 12px;\n",
       "    }\n",
       "\n",
       "    .colab-df-convert {\n",
       "      background-color: #E8F0FE;\n",
       "      border: none;\n",
       "      border-radius: 50%;\n",
       "      cursor: pointer;\n",
       "      display: none;\n",
       "      fill: #1967D2;\n",
       "      height: 32px;\n",
       "      padding: 0 0 0 0;\n",
       "      width: 32px;\n",
       "    }\n",
       "\n",
       "    .colab-df-convert:hover {\n",
       "      background-color: #E2EBFA;\n",
       "      box-shadow: 0px 1px 2px rgba(60, 64, 67, 0.3), 0px 1px 3px 1px rgba(60, 64, 67, 0.15);\n",
       "      fill: #174EA6;\n",
       "    }\n",
       "\n",
       "    [theme=dark] .colab-df-convert {\n",
       "      background-color: #3B4455;\n",
       "      fill: #D2E3FC;\n",
       "    }\n",
       "\n",
       "    [theme=dark] .colab-df-convert:hover {\n",
       "      background-color: #434B5C;\n",
       "      box-shadow: 0px 1px 3px 1px rgba(0, 0, 0, 0.15);\n",
       "      filter: drop-shadow(0px 1px 2px rgba(0, 0, 0, 0.3));\n",
       "      fill: #FFFFFF;\n",
       "    }\n",
       "  </style>\n",
       "\n",
       "      <script>\n",
       "        const buttonEl =\n",
       "          document.querySelector('#df-08c97509-a1e3-46e0-9f6e-44e3b5a3d661 button.colab-df-convert');\n",
       "        buttonEl.style.display =\n",
       "          google.colab.kernel.accessAllowed ? 'block' : 'none';\n",
       "\n",
       "        async function convertToInteractive(key) {\n",
       "          const element = document.querySelector('#df-08c97509-a1e3-46e0-9f6e-44e3b5a3d661');\n",
       "          const dataTable =\n",
       "            await google.colab.kernel.invokeFunction('convertToInteractive',\n",
       "                                                     [key], {});\n",
       "          if (!dataTable) return;\n",
       "\n",
       "          const docLinkHtml = 'Like what you see? Visit the ' +\n",
       "            '<a target=\"_blank\" href=https://colab.research.google.com/notebooks/data_table.ipynb>data table notebook</a>'\n",
       "            + ' to learn more about interactive tables.';\n",
       "          element.innerHTML = '';\n",
       "          dataTable['output_type'] = 'display_data';\n",
       "          await google.colab.output.renderOutput(dataTable, element);\n",
       "          const docLink = document.createElement('div');\n",
       "          docLink.innerHTML = docLinkHtml;\n",
       "          element.appendChild(docLink);\n",
       "        }\n",
       "      </script>\n",
       "    </div>\n",
       "  </div>\n",
       "  "
      ]
     },
     "metadata": {},
     "execution_count": 91
    }
   ]
  }
 ],
 "metadata": {
  "colab": {
   "provenance": [],
   "machine_shape": "hm"
  },
  "kernelspec": {
   "display_name": "Python 3",
   "name": "python3"
  },
  "language_info": {
   "name": "python"
  },
  "accelerator": "GPU",
  "gpuClass": "premium"
 },
 "nbformat": 4,
 "nbformat_minor": 0
}
