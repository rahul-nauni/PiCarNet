{
 "cells": [
  {
   "cell_type": "code",
   "execution_count": 84,
   "metadata": {
    "id": "BlIfrc1Gl2fu"
   },
   "outputs": [],
   "source": [
    "# Importing dependencies\n",
    "import pandas as pd\n",
    "import os\n",
    "import numpy as np\n",
    "from datetime import datetime\n",
    "from glob import glob\n",
    "from typing import List, Union, Iterator, Tuple\n",
    "%matplotlib inline\n",
    "import matplotlib.pyplot as plt\n",
    "plt.style.use('dark_background')\n",
    "from sklearn.model_selection import train_test_split\n",
    "\n",
    "import tensorflow as tf\n",
    "from keras.preprocessing.image import ImageDataGenerator\n",
    "from keras.layers import Dense, Dropout, BatchNormalization, Input, Activation, Flatten,  MaxPooling2D,  Conv2D\n",
    "from keras.models import Sequential, Model\n",
    "from keras.applications.mobilenet_v2 import MobileNetV2\n",
    "from keras.applications import EfficientNetV2B0, Xception, DenseNet201\n",
    "from keras.callbacks import EarlyStopping, ModelCheckpoint, TensorBoard, History\n",
    "from keras.optimizers import Adam, RMSprop, Adadelta\n",
    "import keras_tuner as kt"
   ]
  },
  {
   "cell_type": "code",
   "source": [
    "def load_data(data_path: str) -> pd.DataFrame:\n",
    "    \"\"\"Loads data from csv file\n",
    "    Params\n",
    "    ------\n",
    "    data_path: str\n",
    "        Data path containing images and csv data\n",
    "    Returns\n",
    "    -------\n",
    "    pd.DataFrame\n",
    "        Loaded data as pandas dataframe\n",
    "    \"\"\"\n",
    "    columns = ['image_id', 'angle', 'speed']\n",
    "    data = pd.read_csv(os.path.join(data_path, 'training_norm.csv'), delimiter= ',', header=0, names = columns)\n",
    "\n",
    "    return data"
   ],
   "metadata": {
    "id": "0cmhIYoJn-V0"
   },
   "execution_count": 31,
   "outputs": []
  },
  {
   "cell_type": "code",
   "source": [
    "# Appends absolute path with image id column\n",
    "def append_path(data: pd.DataFrame, data_path: os.PathLike) -> pd.DataFrame:\n",
    "  data['image_id'] = data.image_id.apply(lambda x: os.path.join(data_path, 'training_data/', str(x)) + '.png')\n",
    "  return data"
   ],
   "metadata": {
    "id": "9xggw4koo26n"
   },
   "execution_count": 32,
   "outputs": []
  },
  {
   "cell_type": "markdown",
   "source": [
    "## Data preprocessing"
   ],
   "metadata": {
    "id": "AWsOtfs-o8SQ"
   }
  },
  {
   "cell_type": "code",
   "source": [
    "# train test split of dataset\n",
    "def split_data(data: pd.DataFrame) -> Tuple[pd.DataFrame, pd.DataFrame]:\n",
    "    \"\"\"\n",
    "    Params\n",
    "    ------\n",
    "    data: pd.DataFrame\n",
    "        Pandas dataframe containing all data.\n",
    "    Returns\n",
    "    -------\n",
    "    Tuple[pd.DataFrame, pd.DataFrame, pd.DataFrame]\n",
    "        A tuple of train, test and val split\n",
    "    \"\"\"\n",
    "    rnd = np.random.RandomState(seed=None)\n",
    "\n",
    "    train_data, val_data = train_test_split(data, test_size=0.2, random_state=rnd.seed(1234)) # split data with test size of 20%\n",
    "\n",
    "    return train_data, val_data"
   ],
   "metadata": {
    "id": "6TMHCf2Go-nC"
   },
   "execution_count": 33,
   "outputs": []
  },
  {
   "cell_type": "code",
   "source": [
    "data_path='/Users/rahuln/PycharmProjects/PiCarNet/machine-learning-in-science-ii-2023'\n",
    "data = load_data(data_path)"
   ],
   "metadata": {
    "id": "Ti7mUZzHKJa4"
   },
   "execution_count": 34,
   "outputs": []
  },
  {
   "cell_type": "code",
   "source": [
    "data.head()"
   ],
   "metadata": {
    "colab": {
     "base_uri": "https://localhost:8080/",
     "height": 206
    },
    "id": "sEErtJDaKTqQ",
    "outputId": "da41ac5c-cec2-4a23-d6c7-041528ea4906"
   },
   "execution_count": 35,
   "outputs": [
    {
     "data": {
      "text/plain": "   image_id   angle  speed\n0         1  0.4375    0.0\n1         2  0.8125    1.0\n2         3  0.4375    1.0\n3         4  0.6250    1.0\n4         5  0.5000    0.0",
      "text/html": "<div>\n<style scoped>\n    .dataframe tbody tr th:only-of-type {\n        vertical-align: middle;\n    }\n\n    .dataframe tbody tr th {\n        vertical-align: top;\n    }\n\n    .dataframe thead th {\n        text-align: right;\n    }\n</style>\n<table border=\"1\" class=\"dataframe\">\n  <thead>\n    <tr style=\"text-align: right;\">\n      <th></th>\n      <th>image_id</th>\n      <th>angle</th>\n      <th>speed</th>\n    </tr>\n  </thead>\n  <tbody>\n    <tr>\n      <th>0</th>\n      <td>1</td>\n      <td>0.4375</td>\n      <td>0.0</td>\n    </tr>\n    <tr>\n      <th>1</th>\n      <td>2</td>\n      <td>0.8125</td>\n      <td>1.0</td>\n    </tr>\n    <tr>\n      <th>2</th>\n      <td>3</td>\n      <td>0.4375</td>\n      <td>1.0</td>\n    </tr>\n    <tr>\n      <th>3</th>\n      <td>4</td>\n      <td>0.6250</td>\n      <td>1.0</td>\n    </tr>\n    <tr>\n      <th>4</th>\n      <td>5</td>\n      <td>0.5000</td>\n      <td>0.0</td>\n    </tr>\n  </tbody>\n</table>\n</div>"
     },
     "execution_count": 35,
     "metadata": {},
     "output_type": "execute_result"
    }
   ]
  },
  {
   "cell_type": "code",
   "source": [
    "data = append_path(data, data_path)"
   ],
   "metadata": {
    "id": "cQ_RoYeBKXqB"
   },
   "execution_count": 36,
   "outputs": []
  },
  {
   "cell_type": "code",
   "source": [
    "train_data, val_data = split_data(data)"
   ],
   "metadata": {
    "id": "4ikSujIRK058"
   },
   "execution_count": 37,
   "outputs": []
  },
  {
   "cell_type": "code",
   "source": [
    "# plotting distribution of output labels\n",
    "def visualize(data):\n",
    "    plt.hist(data.loc[:,'speed'])\n",
    "    plt.hist(data.loc[:,'angle'])\n",
    "    plt.legend(['Steering angle', 'Driving speed'])\n",
    "    plt.title('Distribution plot for steering angle and speed')\n",
    "    plt.grid(False)\n",
    "    plt.show()"
   ],
   "metadata": {
    "id": "xLyPZ2tjpCEh"
   },
   "execution_count": 141,
   "outputs": []
  },
  {
   "cell_type": "code",
   "source": [
    "visualize(data=train_data)"
   ],
   "metadata": {
    "colab": {
     "base_uri": "https://localhost:8080/",
     "height": 279
    },
    "id": "HZsDngK805Ap",
    "outputId": "dc67edeb-fd54-4371-ec8e-1eb054829647"
   },
   "execution_count": 142,
   "outputs": [
    {
     "data": {
      "text/plain": "<Figure size 640x480 with 1 Axes>",
      "image/png": "[encoded data removed]"
     },
     "metadata": {},
     "output_type": "display_data"
    }
   ]
  },
  {
   "cell_type": "markdown",
   "source": [
    "## Data pipeline"
   ],
   "metadata": {
    "id": "-BCbMBY8pJad"
   }
  },
  {
   "cell_type": "code",
   "source": [
    "# Generate images on the fly while training model\n",
    "def img_generator(train_data: pd.DataFrame, val_data: pd.DataFrame, test_dir: os.PathLike, BATCH_SIZE: int, IMG_HEIGHT: int, IMG_WIDTH: int) -> Tuple[Iterator, Iterator, Iterator]:\n",
    "    \"\"\"\n",
    "    Params\n",
    "    ------\n",
    "    train_data: pd.DataFrame\n",
    "        Pandas dataframe containing training data\n",
    "    val_data: pd.DataFrame\n",
    "        Pandas dataframe containing validation data\n",
    "    test_dir: os.PathLike\n",
    "        path to test data directory\n",
    "    BATCH_SIZE: int\n",
    "        Number of images to process in each batch\n",
    "    IMG_HEIGHT: int\n",
    "        image height\n",
    "    IMG_WIDTH: int\n",
    "        image width\n",
    "\n",
    "    Returns\n",
    "    -------\n",
    "    Tuple[Iterator, Iterator]\n",
    "        keras ImageDataGenerators used for training and validating model.\n",
    "    \"\"\"\n",
    "\n",
    "    train_generator = ImageDataGenerator(\n",
    "        rescale=1.0 / 255,\n",
    "        rotation_range=20,\n",
    "        width_shift_range=0.1,\n",
    "        height_shift_range=0.1,\n",
    "        brightness_range=(0.75, 1),\n",
    "        shear_range=0.1,\n",
    "        zoom_range=[0.75, 1]\n",
    "    )\n",
    "\n",
    "    val_generator = ImageDataGenerator(rescale=1.0 / 255)\n",
    "    test_generator = ImageDataGenerator(rescale=1.0 / 255)\n",
    "\n",
    "    train_generator = train_generator.flow_from_dataframe(dataframe=train_data,\n",
    "                                                          directory=None,\n",
    "                                                          x_col='image_id',\n",
    "                                                          y_col=['angle','speed'],\n",
    "                                                          color_mode='grayscale',\n",
    "                                                          target_size=(IMG_HEIGHT, IMG_WIDTH),\n",
    "                                                          class_mode='multi_output',\n",
    "                                                          batch_size=BATCH_SIZE,\n",
    "                                                          shuffle=True)\n",
    "\n",
    "    val_generator = val_generator.flow_from_dataframe(dataframe=val_data,\n",
    "                                                      x_col='image_id',\n",
    "                                                      y_col=['angle', 'speed'],\n",
    "                                                      color_mode='grayscale',\n",
    "                                                      target_size=(IMG_HEIGHT, IMG_WIDTH),\n",
    "                                                      class_mode='multi_output',\n",
    "                                                      batch_size=BATCH_SIZE,\n",
    "                                                      shuffle=True)\n",
    "    \n",
    "    test_generator = test_generator.flow_from_directory(\n",
    "        directory=test_dir,\n",
    "        target_size=(IMG_HEIGHT, IMG_WIDTH),\n",
    "        color_mode='grayscale',\n",
    "        class_mode=None,\n",
    "        classes=None,\n",
    "        batch_size=BATCH_SIZE,\n",
    "        seed=1234,\n",
    "        shuffle=False)\n",
    "\n",
    "\n",
    "\n",
    "    return train_generator, val_generator, test_generator\n"
   ],
   "metadata": {
    "id": "XPc65R3CpE37"
   },
   "execution_count": 49,
   "outputs": []
  },
  {
   "cell_type": "code",
   "source": [
    "# create data generators for train test and val data\n",
    "#training_ds, testing_ds, validation_ds = create_img_pipeline(train_ds, test_ds, val_ds)\n",
    "BATCH_SIZE = 128\n",
    "IMG_HEIGHT = 100\n",
    "IMG_WIDTH = 100\n",
    "test_dir = os.path.join(data_path, 'test_data')\n",
    "\n",
    "train_generator, val_generator, test_generator = img_generator(train_data, val_data, test_dir=test_dir, BATCH_SIZE=BATCH_SIZE, IMG_HEIGHT=IMG_HEIGHT, IMG_WIDTH=IMG_WIDTH)"
   ],
   "metadata": {
    "colab": {
     "base_uri": "https://localhost:8080/"
    },
    "id": "e2qxYfeC1uim",
    "outputId": "6e5e1fb0-ac21-4f02-b996-5a0b331f27ac"
   },
   "execution_count": 56,
   "outputs": [
    {
     "name": "stdout",
     "output_type": "stream",
     "text": [
      "Found 11034 validated image filenames.\n",
      "Found 2759 validated image filenames.\n",
      "Found 1020 images belonging to 1 classes.\n"
     ]
    }
   ]
  },
  {
   "cell_type": "code",
   "source": [
    "# defining callbacks\n",
    "def get_callbacks(model: str) -> List[Union[TensorBoard, EarlyStopping, ModelCheckpoint]]:\n",
    "    \"\"\"Accepts the model name as a string and returns multiple keras callbacks\n",
    "\n",
    "    Params\n",
    "    ------\n",
    "    model: str\n",
    "        The name of model as a string\n",
    "\n",
    "    Returns\n",
    "    -------\n",
    "    A list of multiple keras callbacks\n",
    "    \"\"\"\n",
    "    logdir = (\n",
    "        'logs/scalars/' + model + '_' + datetime.now().strftime('%Y%m%d-%H%M%S')\n",
    "    ) # logging for each model\n",
    "    tensorboard_callback = TensorBoard(log_dir=logdir)\n",
    "\n",
    "    early_stopping_callback = EarlyStopping(\n",
    "        monitor='loss',\n",
    "        min_delta=0.01,  # model should improve by at least 0.1\n",
    "        patience=10,  # amount of epochs  with improvements worse than 1% until the model stops\n",
    "        verbose=1,\n",
    "        mode='min',\n",
    "        restore_best_weights=True,  # restore the best model with the lowest validation error\n",
    "    )\n",
    "\n",
    "    model_checkpoint_callback = ModelCheckpoint(\n",
    "        './data/models/' + model + '.h5',\n",
    "        monitor='loss',\n",
    "        verbose=0,\n",
    "        save_best_only=True,  # save the best model\n",
    "        mode='min',\n",
    "        save_freq='epoch',  # save the model on disk at end of every epoch\n",
    "    )\n",
    "    return [model_checkpoint_callback, tensorboard_callback, early_stopping_callback]"
   ],
   "metadata": {
    "id": "o5T5ByyEx5HA"
   },
   "execution_count": 51,
   "outputs": []
  },
  {
   "cell_type": "code",
   "source": [
    "# model building function\n",
    "def tune_model(hp):\n",
    "    \"\"\"\n",
    "    Build model for hyperparamter tuning\n",
    "\n",
    "    Params\n",
    "    ------\n",
    "    hp: HyperParameters class instance\n",
    "\n",
    "    Returns\n",
    "    -------\n",
    "    Model: Keras model object\n",
    "    \"\"\"\n",
    "    # Define parameter tuning space\n",
    "    # Tune the number of units in the first Dense layer\n",
    "    # Choose an optimal value between 32-512\n",
    "    hp_units = hp.Int('units', min_value=32, max_value=128, step=32)\n",
    "    hp_dropout_rate = hp.Choice(name = 'dropout_rate', values=[1e-1, 2e-1, 5e-1, 2e-2])\n",
    "    hp_activation = hp.Choice(name = 'activation', values=['elu', 'relu', 'leaky_relu'], ordered=False)\n",
    "    # Tune the learning rate for the optimizer\n",
    "    # Choose an optimal value from 0.01, 0.001, or 0.0001\n",
    "    hp_learning_rate = hp.Choice('learning_rate', values=[5e-2, 1e-3, 2e-3])\n",
    "    # choose optimal optimizer\n",
    "    if hp.Choice('optimizer', ['Adam', 'RMSprop', 'Adadelta']) == 'Adam':\n",
    "        opt = Adam(learning_rate=hp_learning_rate)\n",
    "    elif hp.Choice('optimizer', ['Adam', 'RMSprop', 'Adadelta']) == 'RMSprop':\n",
    "        opt = RMSprop(learning_rate=hp_learning_rate)\n",
    "    else:\n",
    "        opt = Adadelta(learning_rate=hp_learning_rate)\n",
    "\n",
    "    # define input shape\n",
    "    input_shape=(100, 100, 1)\n",
    "\n",
    "    # Reference to original paper: https://images.nvidia.com/content/tegra/automotive/images/2016/solutions/pdf/end-to-end-dl-using-px.pdf\n",
    "\n",
    "    # Define model\n",
    "    #mobilenet = MobileNetV2(include_top=False, weights='imagenet', input_shape=input_shape)\n",
    "    #mobilenet.trainable = False # Freeze the model\n",
    "\n",
    "    # Rebuild top\n",
    "    model = Sequential(name='nvidia_model')\n",
    "    model.add(Input(shape=input_shape))\n",
    "\n",
    "    model.add(Conv2D(32, (3, 3), padding='same'))\n",
    "    model.add(Activation('relu'))\n",
    "    model.add(MaxPooling2D((2, 2), padding='valid'))\n",
    "\n",
    "    model.add(Conv2D(32, (3, 3), padding='same'))\n",
    "    model.add(Activation('relu'))\n",
    "    model.add(MaxPooling2D((2, 2), padding='valid'))\n",
    "\n",
    "    model.add(Conv2D(64, (3, 3), padding='same'))\n",
    "    model.add(Activation('relu'))\n",
    "    model.add(MaxPooling2D((2, 2), padding='valid'))\n",
    "\n",
    "    model.add(Conv2D(64, (3, 3), padding='same'))\n",
    "    model.add(Activation('relu'))\n",
    "    model.add(MaxPooling2D((2, 2), padding='valid'))\n",
    "\n",
    "    model.add(Conv2D(128, (3, 3), padding='same'))\n",
    "    model.add(Activation('relu'))\n",
    "    model.add(MaxPooling2D((2, 2), padding='valid'))\n",
    "\n",
    "    model.add(Conv2D(128, (3, 3), padding='same'))\n",
    "    model.add(Activation('relu'))\n",
    "    model.add(MaxPooling2D((2, 2), padding='valid'))\n",
    "\n",
    "    model.add(Flatten())\n",
    "    model.add(Dropout(hp_dropout_rate))\n",
    "\n",
    "    model.add(BatchNormalization())\n",
    "    model.add(Dense(64))\n",
    "    model.add(Dense(2, activation='linear'))\n",
    "\n",
    "    # compile model\n",
    "    model.compile(loss='mean_squared_error',\n",
    "                  optimizer=opt,\n",
    "                  metrics='mse')\n",
    "\n",
    "    return model"
   ],
   "metadata": {
    "id": "PlAM9p4vpRT2"
   },
   "execution_count": 57,
   "outputs": []
  },
  {
   "cell_type": "code",
   "source": [
    "tuning_dir = (\n",
    "        'logs/tuned_scalars/' + 'nvidia_model' + '_' + datetime.now().strftime('%Y%m%d-%H%M%S')\n",
    "    ) # dir to save tuning logs\n",
    "\n",
    "# Define tuner\n",
    "tuner = kt.BayesianOptimization(hypermodel=tune_model,\n",
    "                        objective=kt.Objective('val_mse', direction='min'),\n",
    "                        max_trials=3,\n",
    "                        overwrite=True,\n",
    "                        project_name='./data/tuned_models')"
   ],
   "metadata": {
    "id": "2Km2XrRw1gKl"
   },
   "execution_count": 58,
   "outputs": []
  },
  {
   "cell_type": "code",
   "source": [
    "tuner.search(train_generator,\n",
    "             epochs=30,\n",
    "             callbacks = [EarlyStopping(monitor='val_mse', patience=5, min_delta=0.01),\n",
    "                          TensorBoard(log_dir=tuning_dir)],\n",
    "             batch_size=BATCH_SIZE,\n",
    "             validation_data=val_generator)"
   ],
   "metadata": {
    "id": "GWFLcCZA1q0X",
    "colab": {
     "base_uri": "https://localhost:8080/"
    },
    "outputId": "61fe7e68-4788-4729-b502-aa0d715ccb50"
   },
   "execution_count": 59,
   "outputs": [
    {
     "name": "stdout",
     "output_type": "stream",
     "text": [
      "Trial 3 Complete [00h 05m 12s]\n",
      "val_mse: 0.022736940532922745\n",
      "\n",
      "Best val_mse So Far: 0.01663116365671158\n",
      "Total elapsed time: 00h 32m 08s\n",
      "INFO:tensorflow:Oracle triggered exit\n"
     ]
    }
   ]
  },
  {
   "cell_type": "code",
   "source": [
    "tuner.results_summary()"
   ],
   "metadata": {
    "colab": {
     "base_uri": "https://localhost:8080/"
    },
    "id": "OydDcLooMC5P",
    "outputId": "7deacc83-b519-4faa-9838-8c3cbcc41bf4"
   },
   "execution_count": 60,
   "outputs": [
    {
     "name": "stdout",
     "output_type": "stream",
     "text": [
      "Results summary\n",
      "Results in ././data/tuned_models\n",
      "Showing 10 best trials\n",
      "<keras_tuner.engine.objective.Objective object at 0x2aed2f040>\n",
      "Trial summary\n",
      "Hyperparameters:\n",
      "units: 64\n",
      "dropout_rate: 0.5\n",
      "activation: elu\n",
      "learning_rate: 0.001\n",
      "optimizer: Adam\n",
      "Score: 0.01663116365671158\n",
      "Trial summary\n",
      "Hyperparameters:\n",
      "units: 128\n",
      "dropout_rate: 0.02\n",
      "activation: elu\n",
      "learning_rate: 0.05\n",
      "optimizer: Adam\n",
      "Score: 0.022736940532922745\n",
      "Trial summary\n",
      "Hyperparameters:\n",
      "units: 96\n",
      "dropout_rate: 0.1\n",
      "activation: leaky_relu\n",
      "learning_rate: 0.002\n",
      "optimizer: Adadelta\n",
      "Score: 0.09680280089378357\n"
     ]
    }
   ]
  },
  {
   "cell_type": "code",
   "source": [
    "best_params = tuner.get_best_hyperparameters()[0]"
   ],
   "metadata": {
    "id": "Mnen5CAaH8J6"
   },
   "execution_count": 61,
   "outputs": []
  },
  {
   "cell_type": "code",
   "source": [
    "best_model = tuner.hypermodel.build(best_params)"
   ],
   "metadata": {
    "id": "OWecCBy8LzW1"
   },
   "execution_count": 62,
   "outputs": []
  },
  {
   "cell_type": "code",
   "source": [
    "best_model.summary()"
   ],
   "metadata": {
    "colab": {
     "base_uri": "https://localhost:8080/"
    },
    "id": "5Z__9f_IMKTl",
    "outputId": "94f2def7-b1ee-4da9-a1bc-82cbbde01cf1"
   },
   "execution_count": 63,
   "outputs": [
    {
     "name": "stdout",
     "output_type": "stream",
     "text": [
      "Model: \"nvidia_model\"\n",
      "_________________________________________________________________\n",
      " Layer (type)                Output Shape              Param #   \n",
      "=================================================================\n",
      " conv2d_6 (Conv2D)           (None, 100, 100, 32)      320       \n",
      "                                                                 \n",
      " activation_6 (Activation)   (None, 100, 100, 32)      0         \n",
      "                                                                 \n",
      " max_pooling2d_6 (MaxPooling  (None, 50, 50, 32)       0         \n",
      " 2D)                                                             \n",
      "                                                                 \n",
      " conv2d_7 (Conv2D)           (None, 50, 50, 32)        9248      \n",
      "                                                                 \n",
      " activation_7 (Activation)   (None, 50, 50, 32)        0         \n",
      "                                                                 \n",
      " max_pooling2d_7 (MaxPooling  (None, 25, 25, 32)       0         \n",
      " 2D)                                                             \n",
      "                                                                 \n",
      " conv2d_8 (Conv2D)           (None, 25, 25, 64)        18496     \n",
      "                                                                 \n",
      " activation_8 (Activation)   (None, 25, 25, 64)        0         \n",
      "                                                                 \n",
      " max_pooling2d_8 (MaxPooling  (None, 12, 12, 64)       0         \n",
      " 2D)                                                             \n",
      "                                                                 \n",
      " conv2d_9 (Conv2D)           (None, 12, 12, 64)        36928     \n",
      "                                                                 \n",
      " activation_9 (Activation)   (None, 12, 12, 64)        0         \n",
      "                                                                 \n",
      " max_pooling2d_9 (MaxPooling  (None, 6, 6, 64)         0         \n",
      " 2D)                                                             \n",
      "                                                                 \n",
      " conv2d_10 (Conv2D)          (None, 6, 6, 128)         73856     \n",
      "                                                                 \n",
      " activation_10 (Activation)  (None, 6, 6, 128)         0         \n",
      "                                                                 \n",
      " max_pooling2d_10 (MaxPoolin  (None, 3, 3, 128)        0         \n",
      " g2D)                                                            \n",
      "                                                                 \n",
      " conv2d_11 (Conv2D)          (None, 3, 3, 128)         147584    \n",
      "                                                                 \n",
      " activation_11 (Activation)  (None, 3, 3, 128)         0         \n",
      "                                                                 \n",
      " max_pooling2d_11 (MaxPoolin  (None, 1, 1, 128)        0         \n",
      " g2D)                                                            \n",
      "                                                                 \n",
      " flatten_1 (Flatten)         (None, 128)               0         \n",
      "                                                                 \n",
      " dropout_1 (Dropout)         (None, 128)               0         \n",
      "                                                                 \n",
      " batch_normalization_1 (Batc  (None, 128)              512       \n",
      " hNormalization)                                                 \n",
      "                                                                 \n",
      " dense_2 (Dense)             (None, 64)                8256      \n",
      "                                                                 \n",
      " dense_3 (Dense)             (None, 2)                 130       \n",
      "                                                                 \n",
      "=================================================================\n",
      "Total params: 295,330\n",
      "Trainable params: 295,074\n",
      "Non-trainable params: 256\n",
      "_________________________________________________________________\n"
     ]
    }
   ]
  },
  {
   "cell_type": "code",
   "source": [
    "tf.keras.backend.clear_session() # clear keras session"
   ],
   "metadata": {
    "id": "tEMj7cC3MNe5"
   },
   "execution_count": 64,
   "outputs": []
  },
  {
   "cell_type": "code",
   "source": [
    "## Train model with best hyperparameters\n",
    "def train(name: str, model: Model, train_generator: Iterator, val_generator: Iterator, epoch: int) -> History:\n",
    "    \"\"\"\n",
    "    Params\n",
    "    ------\n",
    "    name: str\n",
    "        Model name\n",
    "    model: keras.models.Model\n",
    "        Model we are training\n",
    "    train_generator: Iterator\n",
    "        Image data generator for training\n",
    "    val_generator: Iterator\n",
    "        Image data generator for validation\n",
    "    epoch: int\n",
    "        Number of epochs to train for\n",
    "    Returns\n",
    "    -------\n",
    "    keras.callbacks.History\n",
    "    \"\"\"\n",
    "    callbacks = get_callbacks(name)\n",
    "\n",
    "    history = model.fit(train_generator,\n",
    "              epochs=epoch,\n",
    "              steps_per_epoch=300,\n",
    "              validation_data=val_generator,\n",
    "              validation_steps=100,\n",
    "              callbacks=callbacks,\n",
    "              workers=4,\n",
    "              verbose=1,\n",
    "              batch_size=len(train_data))\n",
    "\n",
    "    return history"
   ],
   "metadata": {
    "id": "uSIVCxc5MS2a"
   },
   "execution_count": 66,
   "outputs": []
  },
  {
   "cell_type": "code",
   "source": [
    "nvidia_history = train(name='nvidia_model', model=best_model, train_generator=train_generator, val_generator=val_generator, epoch=50)"
   ],
   "metadata": {
    "colab": {
     "base_uri": "https://localhost:8080/"
    },
    "id": "XlZUhyyzMivw",
    "outputId": "53541d4a-0653-4c39-d73c-cb1bb203045c"
   },
   "execution_count": 67,
   "outputs": [
    {
     "name": "stdout",
     "output_type": "stream",
     "text": [
      "Epoch 1/50\n"
     ]
    },
    {
     "name": "stderr",
     "output_type": "stream",
     "text": [
      "2023-03-15 14:45:33.302378: I tensorflow/core/grappler/optimizers/custom_graph_optimizer_registry.cc:114] Plugin optimizer for device_type GPU is enabled.\n"
     ]
    },
    {
     "name": "stdout",
     "output_type": "stream",
     "text": [
      "300/300 [==============================] - ETA: 0s - loss: 0.0310 - mse: 0.0310"
     ]
    },
    {
     "name": "stderr",
     "output_type": "stream",
     "text": [
      "2023-03-15 14:46:11.286782: I tensorflow/core/grappler/optimizers/custom_graph_optimizer_registry.cc:114] Plugin optimizer for device_type GPU is enabled.\n"
     ]
    },
    {
     "name": "stdout",
     "output_type": "stream",
     "text": [
      "300/300 [==============================] - 49s 160ms/step - loss: 0.0310 - mse: 0.0310 - val_loss: 0.0202 - val_mse: 0.0202\n",
      "Epoch 2/50\n",
      "300/300 [==============================] - 48s 159ms/step - loss: 0.0117 - mse: 0.0117 - val_loss: 0.0125 - val_mse: 0.0125\n",
      "Epoch 3/50\n",
      "300/300 [==============================] - 48s 160ms/step - loss: 0.0106 - mse: 0.0106 - val_loss: 0.0100 - val_mse: 0.0100\n",
      "Epoch 4/50\n",
      "300/300 [==============================] - 48s 158ms/step - loss: 0.0102 - mse: 0.0102 - val_loss: 0.0079 - val_mse: 0.0079\n",
      "Epoch 5/50\n",
      "300/300 [==============================] - 48s 159ms/step - loss: 0.0099 - mse: 0.0099 - val_loss: 0.0072 - val_mse: 0.0072\n",
      "Epoch 6/50\n",
      "300/300 [==============================] - 48s 158ms/step - loss: 0.0099 - mse: 0.0099 - val_loss: 0.0074 - val_mse: 0.0074\n",
      "Epoch 7/50\n",
      "300/300 [==============================] - 48s 158ms/step - loss: 0.0097 - mse: 0.0097 - val_loss: 0.0069 - val_mse: 0.0069\n",
      "Epoch 8/50\n",
      "300/300 [==============================] - 47s 157ms/step - loss: 0.0095 - mse: 0.0095 - val_loss: 0.0069 - val_mse: 0.0069\n",
      "Epoch 9/50\n",
      "300/300 [==============================] - 48s 159ms/step - loss: 0.0094 - mse: 0.0094 - val_loss: 0.0071 - val_mse: 0.0071\n",
      "Epoch 10/50\n",
      "300/300 [==============================] - 48s 159ms/step - loss: 0.0093 - mse: 0.0093 - val_loss: 0.0074 - val_mse: 0.0074\n",
      "Epoch 11/50\n",
      "300/300 [==============================] - 48s 159ms/step - loss: 0.0090 - mse: 0.0090 - val_loss: 0.0068 - val_mse: 0.0068\n",
      "Epoch 12/50\n",
      "299/300 [============================>.] - ETA: 0s - loss: 0.0089 - mse: 0.0089Restoring model weights from the end of the best epoch: 2.\n",
      "300/300 [==============================] - 48s 160ms/step - loss: 0.0089 - mse: 0.0089 - val_loss: 0.0088 - val_mse: 0.0088\n",
      "Epoch 12: early stopping\n"
     ]
    }
   ]
  },
  {
   "cell_type": "code",
   "source": [
    "def plot_history(history):\n",
    "    loss_list = [s for s in history.history.keys() if 'loss' in s and 'val' not in s]\n",
    "    val_loss_list = [s for s in history.history.keys() if 'loss' in s and 'val' in s]\n",
    "    \n",
    "    if len(loss_list) == 0:\n",
    "        print('Loss is missing in history')\n",
    "        return \n",
    "    \n",
    "    ## As loss always exists\n",
    "    epochs = range(1,len(history.history[loss_list[0]]) + 1)\n",
    "    \n",
    "    ## Loss\n",
    "    plt.figure(1)\n",
    "    for l in loss_list:\n",
    "        plt.plot(epochs, history.history[l], 'lightblue', label='Training loss (' + str(str(format(history.history[l][-1],'.5f'))+')'))\n",
    "    for l in val_loss_list:\n",
    "        plt.plot(epochs, history.history[l], 'coral', label='Validation loss (' + str(str(format(history.history[l][-1],'.5f'))+')'))\n",
    "    \n",
    "    plt.title('Nvidia Model: Loss')\n",
    "    plt.xlabel('Epochs')\n",
    "    plt.ylabel('Loss')\n",
    "    plt.grid(False)\n",
    "    plt.legend()\n",
    "    plt.savefig('nvidia_model_plot.pdf')\n",
    "    plt.show()"
   ],
   "metadata": {
    "id": "90vYww6aPILr"
   },
   "execution_count": 167,
   "outputs": []
  },
  {
   "cell_type": "code",
   "source": [
    "plot_history(nvidia_history)"
   ],
   "metadata": {
    "colab": {
     "base_uri": "https://localhost:8080/",
     "height": 296
    },
    "id": "9ghhVnI7Sz4E",
    "outputId": "78775b56-8d67-449b-cdc8-87178c476ab7"
   },
   "execution_count": 168,
   "outputs": [
    {
     "data": {
      "text/plain": "<Figure size 640x480 with 1 Axes>",
      "image/png": "[encoded data removed]"
     },
     "metadata": {},
     "output_type": "display_data"
    }
   ]
  },
  {
   "cell_type": "code",
   "source": [
    "def get_predictions(test_path: str, test_generator: Iterator, model: Sequential) -> pd.DataFrame:\n",
    "    \"\"\"\n",
    "    Params\n",
    "    ------\n",
    "    test: str\n",
    "        path to test data\n",
    "    test_generator: Iterator\n",
    "        Data generator for testing\n",
    "    model: Sequential model\n",
    "        trained model to make\n",
    "\n",
    "    Returns\n",
    "    -------\n",
    "    pd.DataFrame\n",
    "        predictions as pandas dataframe\n",
    "    \"\"\"\n",
    "    test_dir = os.path.join(data_path, test_path)\n",
    "\n",
    "    # list of all png files in test data\n",
    "    png_files = glob(f'{test_dir}/*png')\n",
    "\n",
    "    # convert to pandas dataframe with image_id as column name\n",
    "    png_df = pd.DataFrame(data=png_files, columns=['image_id'])\n",
    "    png_df['image_id'] = png_df.image_id.apply(lambda x: os.path.split(x)[-1].split('.png')[0])\n",
    "\n",
    "    \"\"\"    \n",
    "    # prepare test tensorflow dataset for making predictions\n",
    "    test_ds = tf.data.Dataset.from_tensor_slices(png_files).map(\n",
    "        lambda image: (tf.image.decode_png(tf.io.read_file(image), channels=1))\n",
    "    ).map(\n",
    "        lambda image: (tf.image.convert_image_dtype(image, dtype=tf.float32))\n",
    "    ).map(\n",
    "        lambda image: (tf.image.resize(image, [128, 128]))\n",
    "    ).batch(32)\"\"\"\n",
    "\n",
    "    # make predictions\n",
    "    pred = model.predict(test_generator)\n",
    "\n",
    "    # convert prediction numpy.ndarray( to pd.DataFrame\n",
    "    pred_df = pd.concat([png_df, pd.DataFrame(data=pred, columns=['angle', 'speed'])], axis=1)\n",
    "    # dropping index from dataframe\n",
    "    pred_df.reset_index(drop=True)\n",
    "\n",
    "    # return predictions\n",
    "    return pred_df"
   ],
   "metadata": {
    "id": "vjC71urSx_df"
   },
   "execution_count": 71,
   "outputs": []
  },
  {
   "cell_type": "code",
   "source": [
    "def save_csv(pred_df: pd.DataFrame) -> None:\n",
    "    \"\"\"\n",
    "    Params\n",
    "    ------\n",
    "    pred_df: pd.DataFrame\n",
    "        predictions in pandas dataframe\n",
    "\n",
    "    Returns\n",
    "    -------\n",
    "    None\n",
    "    \"\"\"\n",
    "\n",
    "    savedir='./submissions' # submissions directory\n",
    "    if not os.path.exists(savedir):\n",
    "        os.mkdir(savedir)\n",
    "\n",
    "    csvfile = 'submission' + '_' + datetime.now().strftime('%d-%b_%I-%M%p') + '.csv' # csv file name\n",
    "    savedir = str(os.path.join(savedir, csvfile))\n",
    "    pred_df.to_csv(savedir, sep=',', index=False) # save to disk\n",
    "    print('Saved CSV file on disk!')"
   ],
   "metadata": {
    "id": "raC2R1y3yAIj"
   },
   "execution_count": 72,
   "outputs": []
  },
  {
   "cell_type": "code",
   "source": [
    "test_path = os.path.join('test_data', 'images') # path to test data\n",
    "pred_df = get_predictions(test_path, test_generator, best_model)"
   ],
   "metadata": {
    "colab": {
     "base_uri": "https://localhost:8080/"
    },
    "id": "5NulLTRvUx2v",
    "outputId": "55e607e0-d919-4e45-a0e1-de5b608b7bb1"
   },
   "execution_count": 73,
   "outputs": [
    {
     "name": "stderr",
     "output_type": "stream",
     "text": [
      "2023-03-15 14:56:09.448509: I tensorflow/core/grappler/optimizers/custom_graph_optimizer_registry.cc:114] Plugin optimizer for device_type GPU is enabled.\n"
     ]
    },
    {
     "name": "stdout",
     "output_type": "stream",
     "text": [
      "8/8 [==============================] - 3s 375ms/step\n"
     ]
    }
   ]
  },
  {
   "cell_type": "code",
   "source": [
    "pred_df.head()"
   ],
   "metadata": {
    "colab": {
     "base_uri": "https://localhost:8080/",
     "height": 206
    },
    "id": "SyKShGmlVwTk",
    "outputId": "02569547-aab6-44cb-fb3b-c9c4420964f8"
   },
   "execution_count": 74,
   "outputs": [
    {
     "data": {
      "text/plain": "  image_id     angle     speed\n0      348  0.564468  0.565829\n1      412  0.649417  0.649643\n2      374  0.615468  0.616161\n3      360  0.343298  0.344916\n4      406  0.370654  0.372110",
      "text/html": "<div>\n<style scoped>\n    .dataframe tbody tr th:only-of-type {\n        vertical-align: middle;\n    }\n\n    .dataframe tbody tr th {\n        vertical-align: top;\n    }\n\n    .dataframe thead th {\n        text-align: right;\n    }\n</style>\n<table border=\"1\" class=\"dataframe\">\n  <thead>\n    <tr style=\"text-align: right;\">\n      <th></th>\n      <th>image_id</th>\n      <th>angle</th>\n      <th>speed</th>\n    </tr>\n  </thead>\n  <tbody>\n    <tr>\n      <th>0</th>\n      <td>348</td>\n      <td>0.564468</td>\n      <td>0.565829</td>\n    </tr>\n    <tr>\n      <th>1</th>\n      <td>412</td>\n      <td>0.649417</td>\n      <td>0.649643</td>\n    </tr>\n    <tr>\n      <th>2</th>\n      <td>374</td>\n      <td>0.615468</td>\n      <td>0.616161</td>\n    </tr>\n    <tr>\n      <th>3</th>\n      <td>360</td>\n      <td>0.343298</td>\n      <td>0.344916</td>\n    </tr>\n    <tr>\n      <th>4</th>\n      <td>406</td>\n      <td>0.370654</td>\n      <td>0.372110</td>\n    </tr>\n  </tbody>\n</table>\n</div>"
     },
     "execution_count": 74,
     "metadata": {},
     "output_type": "execute_result"
    }
   ]
  },
  {
   "cell_type": "code",
   "execution_count": 75,
   "outputs": [
    {
     "name": "stdout",
     "output_type": "stream",
     "text": [
      "Saved CSV file on disk!\n"
     ]
    }
   ],
   "source": [
    "save_csv(pred_df)"
   ],
   "metadata": {
    "collapsed": false
   }
  }
 ],
 "metadata": {
  "colab": {
   "provenance": [],
   "machine_shape": "hm"
  },
  "kernelspec": {
   "display_name": "Python 3",
   "name": "python3"
  },
  "language_info": {
   "name": "python"
  },
  "accelerator": "GPU",
  "gpuClass": "premium"
 },
 "nbformat": 4,
 "nbformat_minor": 0
}
