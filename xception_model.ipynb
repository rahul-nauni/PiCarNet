{
 "cells": [
  {
   "cell_type": "code",
   "execution_count": 2,
   "metadata": {
    "id": "BlIfrc1Gl2fu"
   },
   "outputs": [],
   "source": [
    "# Importing dependencies\n",
    "import pandas as pd\n",
    "import os\n",
    "import numpy as np\n",
    "from datetime import datetime\n",
    "from glob import glob\n",
    "from typing import List, Union, Iterator, Tuple\n",
    "%matplotlib inline\n",
    "import matplotlib.pyplot as plt\n",
    "plt.style.use('dark_background')\n",
    "from sklearn.model_selection import train_test_split\n",
    "\n",
    "import tensorflow as tf\n",
    "from keras.preprocessing.image import ImageDataGenerator\n",
    "from keras.layers import Dense, GlobalAveragePooling2D, Dropout, BatchNormalization, Input, Activation, Flatten, Concatenate,  MaxPooling2D, UpSampling2D, Conv2D\n",
    "from keras.models import Sequential, Model\n",
    "from keras.applications.mobilenet_v2 import MobileNetV2\n",
    "from keras.applications import ResNet50, Xception\n",
    "from keras.callbacks import EarlyStopping, ModelCheckpoint, TensorBoard, History\n",
    "from keras.optimizers import Adam, RMSprop, Adadelta\n",
    "import keras_tuner as kt"
   ]
  },
  {
   "cell_type": "code",
   "execution_count": 3,
   "metadata": {
    "id": "0cmhIYoJn-V0"
   },
   "outputs": [],
   "source": [
    "def load_data(data_path: str) -> pd.DataFrame:\n",
    "    \"\"\"Loads data from csv file\n",
    "    Params\n",
    "    ------\n",
    "    data_path: str\n",
    "        Data path containing images and csv data\n",
    "    Returns\n",
    "    -------\n",
    "    pd.DataFrame\n",
    "        Loaded data as pandas dataframe\n",
    "    \"\"\"\n",
    "    columns = ['image_id', 'angle', 'speed']\n",
    "    data = pd.read_csv(os.path.join(data_path, 'training_norm.csv'), delimiter= ',', header=0, names = columns)\n",
    "\n",
    "    return data"
   ]
  },
  {
   "cell_type": "code",
   "execution_count": 4,
   "metadata": {
    "id": "9xggw4koo26n"
   },
   "outputs": [],
   "source": [
    "# Appends absolute path with image id column\n",
    "def append_path(data: pd.DataFrame, data_path: os.PathLike) -> pd.DataFrame:\n",
    "  data['image_id'] = data.image_id.apply(lambda x: os.path.join(data_path, 'training_data/', str(x)) + '.png')\n",
    "  return data"
   ]
  },
  {
   "cell_type": "markdown",
   "metadata": {
    "id": "AWsOtfs-o8SQ"
   },
   "source": [
    "## Data preprocessing"
   ]
  },
  {
   "cell_type": "code",
   "execution_count": 5,
   "metadata": {
    "id": "6TMHCf2Go-nC"
   },
   "outputs": [],
   "source": [
    "# train test split of dataset\n",
    "def split_data(data: pd.DataFrame) -> Tuple[pd.DataFrame, pd.DataFrame]:\n",
    "    \"\"\"\n",
    "    Params\n",
    "    ------\n",
    "    data: pd.DataFrame\n",
    "        Pandas dataframe containing all data.\n",
    "    Returns\n",
    "    -------\n",
    "    Tuple[pd.DataFrame, pd.DataFrame, pd.DataFrame]\n",
    "        A tuple of train, test and val split\n",
    "    \"\"\"\n",
    "    rnd = np.random.RandomState(seed=None)\n",
    "\n",
    "    train_data, val_data = train_test_split(data, test_size=0.2, random_state=rnd.seed(1234)) # split data with test size of 20%\n",
    "\n",
    "    return train_data, val_data"
   ]
  },
  {
   "cell_type": "code",
   "execution_count": 6,
   "metadata": {
    "id": "Ti7mUZzHKJa4"
   },
   "outputs": [],
   "source": [
    "data_path='machine-learning-in-science-ii-2023'\n",
    "data = load_data(data_path)"
   ]
  },
  {
   "cell_type": "code",
   "execution_count": 7,
   "metadata": {
    "colab": {
     "base_uri": "https://localhost:8080/",
     "height": 206
    },
    "id": "sEErtJDaKTqQ",
    "outputId": "da41ac5c-cec2-4a23-d6c7-041528ea4906"
   },
   "outputs": [
    {
     "data": {
      "text/html": [
       "<div>\n",
       "<style scoped>\n",
       "    .dataframe tbody tr th:only-of-type {\n",
       "        vertical-align: middle;\n",
       "    }\n",
       "\n",
       "    .dataframe tbody tr th {\n",
       "        vertical-align: top;\n",
       "    }\n",
       "\n",
       "    .dataframe thead th {\n",
       "        text-align: right;\n",
       "    }\n",
       "</style>\n",
       "<table border=\"1\" class=\"dataframe\">\n",
       "  <thead>\n",
       "    <tr style=\"text-align: right;\">\n",
       "      <th></th>\n",
       "      <th>image_id</th>\n",
       "      <th>angle</th>\n",
       "      <th>speed</th>\n",
       "    </tr>\n",
       "  </thead>\n",
       "  <tbody>\n",
       "    <tr>\n",
       "      <th>0</th>\n",
       "      <td>1</td>\n",
       "      <td>0.4375</td>\n",
       "      <td>0.0</td>\n",
       "    </tr>\n",
       "    <tr>\n",
       "      <th>1</th>\n",
       "      <td>2</td>\n",
       "      <td>0.8125</td>\n",
       "      <td>1.0</td>\n",
       "    </tr>\n",
       "    <tr>\n",
       "      <th>2</th>\n",
       "      <td>3</td>\n",
       "      <td>0.4375</td>\n",
       "      <td>1.0</td>\n",
       "    </tr>\n",
       "    <tr>\n",
       "      <th>3</th>\n",
       "      <td>4</td>\n",
       "      <td>0.6250</td>\n",
       "      <td>1.0</td>\n",
       "    </tr>\n",
       "    <tr>\n",
       "      <th>4</th>\n",
       "      <td>5</td>\n",
       "      <td>0.5000</td>\n",
       "      <td>0.0</td>\n",
       "    </tr>\n",
       "  </tbody>\n",
       "</table>\n",
       "</div>"
      ],
      "text/plain": [
       "   image_id   angle  speed\n",
       "0         1  0.4375    0.0\n",
       "1         2  0.8125    1.0\n",
       "2         3  0.4375    1.0\n",
       "3         4  0.6250    1.0\n",
       "4         5  0.5000    0.0"
      ]
     },
     "execution_count": 7,
     "metadata": {},
     "output_type": "execute_result"
    }
   ],
   "source": [
    "data.head()"
   ]
  },
  {
   "cell_type": "code",
   "execution_count": 8,
   "metadata": {
    "id": "cQ_RoYeBKXqB"
   },
   "outputs": [],
   "source": [
    "data = append_path(data, data_path)"
   ]
  },
  {
   "cell_type": "code",
   "execution_count": 9,
   "metadata": {
    "id": "4ikSujIRK058"
   },
   "outputs": [],
   "source": [
    "train_data, val_data = split_data(data)"
   ]
  },
  {
   "cell_type": "code",
   "execution_count": 10,
   "metadata": {
    "id": "xLyPZ2tjpCEh"
   },
   "outputs": [],
   "source": [
    "# plotting distribution of output labels\n",
    "def visualize(data):\n",
    "    plt.hist(data.loc[:,'angle'])\n",
    "    plt.hist(data.loc[:,'speed'])\n",
    "    plt.legend(['Steering angle', 'Driving speed'])\n",
    "    plt.title('Distribution plot for steering angle and speed')\n",
    "    plt.grid(False)\n",
    "    plt.show()"
   ]
  },
  {
   "cell_type": "code",
   "execution_count": 11,
   "metadata": {
    "colab": {
     "base_uri": "https://localhost:8080/",
     "height": 279
    },
    "id": "HZsDngK805Ap",
    "outputId": "dc67edeb-fd54-4371-ec8e-1eb054829647"
   },
   "outputs": [
    {
     "data": {
      "image/png": "[encoded data removed]",
      "text/plain": [
       "<Figure size 640x480 with 1 Axes>"
      ]
     },
     "metadata": {},
     "output_type": "display_data"
    }
   ],
   "source": [
    "visualize(data=train_data)"
   ]
  },
  {
   "cell_type": "markdown",
   "metadata": {
    "id": "-BCbMBY8pJad"
   },
   "source": [
    "## Data pipeline"
   ]
  },
  {
   "cell_type": "code",
   "execution_count": 12,
   "metadata": {
    "id": "XPc65R3CpE37"
   },
   "outputs": [],
   "source": [
    "# Generate images on the fly while training model\n",
    "def img_generator(train_data: pd.DataFrame, val_data: pd.DataFrame, test_dir: os.PathLike, BATCH_SIZE: int, IMG_HEIGHT: int, IMG_WIDTH: int) -> Tuple[Iterator, Iterator]:\n",
    "    \"\"\"\n",
    "    Params\n",
    "    ------\n",
    "    train_data: pd.DataFrame\n",
    "        Pandas dataframe containing training data\n",
    "    val_data: pd.DataFrame\n",
    "        Pandas dataframe containing validation data\n",
    "    test_dir: os.PathLike\n",
    "        path to test data directory\n",
    "    BATCH_SIZE: int\n",
    "        Number of images to process in each batch\n",
    "    IMG_HEIGHT: int\n",
    "        image height\n",
    "    IMG_WIDTH: int\n",
    "        image width\n",
    "\n",
    "    Returns\n",
    "    -------\n",
    "    Tuple[Iterator, Iterator]\n",
    "        keras ImageDataGenerators used for training and validating model.\n",
    "    \"\"\"\n",
    "\n",
    "    train_generator = ImageDataGenerator(\n",
    "        rescale=1.0 / 255,\n",
    "        rotation_range=20,\n",
    "        width_shift_range=0.1,\n",
    "        height_shift_range=0.1,\n",
    "        brightness_range=(0.75, 1),\n",
    "        shear_range=0.1\n",
    "    )\n",
    "\n",
    "    val_generator = ImageDataGenerator(rescale=1.0 / 255)\n",
    "    test_generator = ImageDataGenerator(rescale=1.0 / 255)\n",
    "\n",
    "    train_generator = train_generator.flow_from_dataframe(dataframe=train_data,\n",
    "                                                          directory=None,\n",
    "                                                          x_col='image_id',\n",
    "                                                          y_col=['angle','speed'],\n",
    "                                                          color_mode='rgb',\n",
    "                                                          target_size=(IMG_HEIGHT, IMG_WIDTH),\n",
    "                                                          class_mode='raw',\n",
    "                                                          batch_size=BATCH_SIZE,\n",
    "                                                          shuffle=True)\n",
    "\n",
    "    val_generator = val_generator.flow_from_dataframe(dataframe=val_data,\n",
    "                                                      x_col='image_id',\n",
    "                                                      y_col=['angle', 'speed'],\n",
    "                                                      color_mode='rgb',\n",
    "                                                      target_size=(IMG_HEIGHT, IMG_WIDTH),\n",
    "                                                      class_mode='raw',\n",
    "                                                      batch_size=BATCH_SIZE,\n",
    "                                                      shuffle=True)\n",
    "    \n",
    "    test_generator = test_generator.flow_from_directory(\n",
    "        directory=test_dir,\n",
    "        target_size=(IMG_HEIGHT, IMG_WIDTH),\n",
    "        color_mode='rgb',\n",
    "        class_mode=None,\n",
    "        classes=None,\n",
    "        batch_size=BATCH_SIZE,\n",
    "        seed=1234,\n",
    "        shuffle=False)\n",
    "\n",
    "\n",
    "\n",
    "    return train_generator, val_generator, test_generator\n"
   ]
  },
  {
   "cell_type": "code",
   "execution_count": 13,
   "metadata": {
    "colab": {
     "base_uri": "https://localhost:8080/"
    },
    "id": "e2qxYfeC1uim",
    "outputId": "6e5e1fb0-ac21-4f02-b996-5a0b331f27ac"
   },
   "outputs": [
    {
     "name": "stdout",
     "output_type": "stream",
     "text": [
      "Found 11034 validated image filenames.\n",
      "Found 2759 validated image filenames.\n",
      "Found 1020 images belonging to 1 classes.\n"
     ]
    }
   ],
   "source": [
    "# create data generators for train test and val data\n",
    "#training_ds, testing_ds, validation_ds = create_img_pipeline(train_ds, test_ds, val_ds)\n",
    "BATCH_SIZE = 32\n",
    "IMG_HEIGHT = 100\n",
    "IMG_WIDTH = 100\n",
    "test_dir = os.path.join(data_path, 'test_data')\n",
    "\n",
    "train_generator, val_generator, test_generator = img_generator(train_data, val_data, test_dir=test_dir, BATCH_SIZE=BATCH_SIZE, IMG_HEIGHT=IMG_HEIGHT, IMG_WIDTH=IMG_WIDTH)"
   ]
  },
  {
   "cell_type": "code",
   "execution_count": 14,
   "metadata": {
    "id": "o5T5ByyEx5HA"
   },
   "outputs": [],
   "source": [
    "# defining callbacks\n",
    "def get_callbacks(model: str) -> List[Union[TensorBoard, EarlyStopping, ModelCheckpoint]]:\n",
    "    \"\"\"Accepts the model name as a string and returns multiple keras callbacks\n",
    "\n",
    "    Params\n",
    "    ------\n",
    "    model: str\n",
    "        The name of model as a string\n",
    "\n",
    "    Returns\n",
    "    -------\n",
    "    A list of multiple keras callbacks\n",
    "    \"\"\"\n",
    "    logdir = (\n",
    "        'logs/scalars/' + model + '_' + datetime.now().strftime('%Y%m%d-%H%M%S')\n",
    "    ) # logging for each model\n",
    "    tensorboard_callback = TensorBoard(log_dir=logdir)\n",
    "\n",
    "    early_stopping_callback = EarlyStopping(\n",
    "        monitor='loss',\n",
    "        min_delta=0.01,  # model should improve by at least 0.1\n",
    "        patience=10,  # amount of epochs  with improvements worse than 1% until the model stops\n",
    "        verbose=1,\n",
    "        mode='min',\n",
    "        restore_best_weights=True,  # restore the best model with the lowest validation error\n",
    "    )\n",
    "\n",
    "    model_checkpoint_callback = ModelCheckpoint(\n",
    "        './data/models/' + model + '.h5',\n",
    "        monitor='loss',\n",
    "        verbose=0,\n",
    "        save_best_only=True,  # save the best model\n",
    "        mode='min',\n",
    "        save_freq='epoch',  # save the model on disk at end of every epoch\n",
    "    )\n",
    "    return [model_checkpoint_callback, tensorboard_callback, early_stopping_callback]"
   ]
  },
  {
   "cell_type": "code",
   "execution_count": 15,
   "metadata": {},
   "outputs": [],
   "source": [
    "# create base model using transfer learning\n",
    "def create_xception_model(input_shape, dropout_rate, optimizer) -> Sequential:\n",
    "    \"\"\"Creates a baseline model from MobileNetV2\n",
    "\n",
    "    Params\n",
    "    ------\n",
    "    input_shape: input dimensions of image (224x224x3).\n",
    "    dropout_rate: Applies Dropout to the input, to prevent over-fitting.\n",
    "    optimizer: Optimization algorithm.\n",
    "\n",
    "    Returns\n",
    "    -------\n",
    "    Sequential\n",
    "        The keras model.\n",
    "    \"\"\"\n",
    "\n",
    "    xception = Xception(include_top=False, weights='imagenet', input_shape=input_shape)\n",
    "    #xception.trainable = False # Freeze the model\n",
    "    # Set the last 5 layers to be trainable\n",
    "    for layer in xception.layers[-5:]:\n",
    "        layer.trainable = True\n",
    "\n",
    "    model = Sequential([\n",
    "        xception, \n",
    "        Flatten(),\n",
    "        Dense(512, activation='relu'),\n",
    "        BatchNormalization(),\n",
    "        Dense(256, activation='relu'),\n",
    "        BatchNormalization(),\n",
    "        Dense(64, activation='relu'),\n",
    "        BatchNormalization(),\n",
    "        Dropout(dropout_rate),\n",
    "        Dense(2, activation='linear')], name='xception_model')\n",
    "\n",
    "    # compile model\n",
    "    model.compile(loss='mean_squared_error',\n",
    "                  optimizer=optimizer,\n",
    "                  metrics=['mse', 'accuracy'])\n",
    "\n",
    "    return model"
   ]
  },
  {
   "cell_type": "code",
   "execution_count": 16,
   "metadata": {},
   "outputs": [
    {
     "name": "stdout",
     "output_type": "stream",
     "text": [
      "Metal device set to: Apple M1 Pro\n",
      "\n",
      "systemMemory: 16.00 GB\n",
      "maxCacheSize: 5.33 GB\n",
      "\n"
     ]
    },
    {
     "name": "stderr",
     "output_type": "stream",
     "text": [
      "2023-03-16 14:31:13.211599: I tensorflow/core/common_runtime/pluggable_device/pluggable_device_factory.cc:306] Could not identify NUMA node of platform GPU ID 0, defaulting to 0. Your kernel may not have been built with NUMA support.\n",
      "2023-03-16 14:31:13.211626: I tensorflow/core/common_runtime/pluggable_device/pluggable_device_factory.cc:272] Created TensorFlow device (/job:localhost/replica:0/task:0/device:GPU:0 with 0 MB memory) -> physical PluggableDevice (device: 0, name: METAL, pci bus id: <undefined>)\n"
     ]
    }
   ],
   "source": [
    "lr = 2e-3 # learning rate\n",
    "#decay = 0.01 # weight decay\n",
    "dropout_rate = 0.2\n",
    "input_shape = (IMG_HEIGHT, IMG_WIDTH, 3)\n",
    "\n",
    "optimizer = Adam(learning_rate=lr)  # optimizer\n",
    "\n",
    "xception_model = create_xception_model(input_shape, dropout_rate, optimizer)"
   ]
  },
  {
   "cell_type": "code",
   "execution_count": 17,
   "metadata": {
    "colab": {
     "base_uri": "https://localhost:8080/"
    },
    "id": "5Z__9f_IMKTl",
    "outputId": "94f2def7-b1ee-4da9-a1bc-82cbbde01cf1"
   },
   "outputs": [
    {
     "name": "stdout",
     "output_type": "stream",
     "text": [
      "Model: \"xception_model\"\n",
      "_________________________________________________________________\n",
      " Layer (type)                Output Shape              Param #   \n",
      "=================================================================\n",
      " xception (Functional)       (None, 3, 3, 2048)        20861480  \n",
      "                                                                 \n",
      " flatten (Flatten)           (None, 18432)             0         \n",
      "                                                                 \n",
      " dense (Dense)               (None, 512)               9437696   \n",
      "                                                                 \n",
      " batch_normalization_4 (Batc  (None, 512)              2048      \n",
      " hNormalization)                                                 \n",
      "                                                                 \n",
      " dense_1 (Dense)             (None, 256)               131328    \n",
      "                                                                 \n",
      " batch_normalization_5 (Batc  (None, 256)              1024      \n",
      " hNormalization)                                                 \n",
      "                                                                 \n",
      " dense_2 (Dense)             (None, 64)                16448     \n",
      "                                                                 \n",
      " batch_normalization_6 (Batc  (None, 64)               256       \n",
      " hNormalization)                                                 \n",
      "                                                                 \n",
      " dropout (Dropout)           (None, 64)                0         \n",
      "                                                                 \n",
      " dense_3 (Dense)             (None, 2)                 130       \n",
      "                                                                 \n",
      "=================================================================\n",
      "Total params: 30,450,410\n",
      "Trainable params: 30,394,218\n",
      "Non-trainable params: 56,192\n",
      "_________________________________________________________________\n"
     ]
    }
   ],
   "source": [
    "xception_model.summary()"
   ]
  },
  {
   "cell_type": "code",
   "execution_count": 18,
   "metadata": {
    "id": "uSIVCxc5MS2a"
   },
   "outputs": [],
   "source": [
    "## Train model with best hyperparameters\n",
    "def train(name: str, model: Model, train_generator: Iterator, val_generator: Iterator, epoch: int, BATCH_SIZE: int) -> History:\n",
    "    \"\"\"\n",
    "    Params\n",
    "    ------\n",
    "    name: str\n",
    "        Model name\n",
    "    model: keras.models.Model\n",
    "        Model we are training\n",
    "    train_generator: Iterator\n",
    "        Image data generator for training\n",
    "    val_generator: Iterator\n",
    "        Image data generator for validation\n",
    "    epoch: int\n",
    "        Number of epochs to train for\n",
    "    Returns\n",
    "    -------\n",
    "    keras.callbacks.History\n",
    "    \"\"\"\n",
    "    callbacks = get_callbacks(name)\n",
    "\n",
    "    history = model.fit(train_generator,\n",
    "              epochs=epoch,\n",
    "              steps_per_epoch=300,\n",
    "              validation_data=val_generator,\n",
    "              validation_steps=100,\n",
    "              callbacks=callbacks,\n",
    "              workers=4,\n",
    "              verbose=1,\n",
    "              batch_size=BATCH_SIZE)\n",
    "\n",
    "    return history"
   ]
  },
  {
   "cell_type": "code",
   "execution_count": 19,
   "metadata": {
    "id": "tEMj7cC3MNe5"
   },
   "outputs": [],
   "source": [
    "tf.keras.backend.clear_session() # clear keras session"
   ]
  },
  {
   "cell_type": "code",
   "execution_count": 61,
   "metadata": {
    "colab": {
     "base_uri": "https://localhost:8080/"
    },
    "id": "XlZUhyyzMivw",
    "outputId": "53541d4a-0653-4c39-d73c-cb1bb203045c"
   },
   "outputs": [
    {
     "name": "stdout",
     "output_type": "stream",
     "text": [
      "Epoch 1/50\n"
     ]
    },
    {
     "name": "stderr",
     "output_type": "stream",
     "text": [
      "2023-03-16 13:44:54.820231: I tensorflow/core/grappler/optimizers/custom_graph_optimizer_registry.cc:114] Plugin optimizer for device_type GPU is enabled.\n"
     ]
    },
    {
     "name": "stdout",
     "output_type": "stream",
     "text": [
      "300/300 [==============================] - ETA: 0s - loss: 0.2900 - mse: 0.2900 - accuracy: 0.6941"
     ]
    },
    {
     "name": "stderr",
     "output_type": "stream",
     "text": [
      "2023-03-16 13:46:04.788031: I tensorflow/core/grappler/optimizers/custom_graph_optimizer_registry.cc:114] Plugin optimizer for device_type GPU is enabled.\n"
     ]
    },
    {
     "name": "stdout",
     "output_type": "stream",
     "text": [
      "300/300 [==============================] - 83s 245ms/step - loss: 0.2900 - mse: 0.2900 - accuracy: 0.6941 - val_loss: 0.0484 - val_mse: 0.0484 - val_accuracy: 0.9266\n",
      "Epoch 2/50\n",
      "300/300 [==============================] - 62s 205ms/step - loss: 0.0567 - mse: 0.0567 - accuracy: 0.8782 - val_loss: 0.0364 - val_mse: 0.0364 - val_accuracy: 0.8510\n",
      "Epoch 3/50\n",
      "300/300 [==============================] - 62s 205ms/step - loss: 0.0362 - mse: 0.0362 - accuracy: 0.9353 - val_loss: 0.0204 - val_mse: 0.0204 - val_accuracy: 0.9679\n",
      "Epoch 4/50\n",
      "300/300 [==============================] - 62s 207ms/step - loss: 0.0294 - mse: 0.0294 - accuracy: 0.9551 - val_loss: 0.0182 - val_mse: 0.0182 - val_accuracy: 0.9767\n",
      "Epoch 5/50\n",
      "300/300 [==============================] - 61s 203ms/step - loss: 0.0257 - mse: 0.0257 - accuracy: 0.9635 - val_loss: 0.0259 - val_mse: 0.0259 - val_accuracy: 0.9660\n",
      "Epoch 6/50\n",
      "300/300 [==============================] - 61s 202ms/step - loss: 0.0215 - mse: 0.0215 - accuracy: 0.9681 - val_loss: 0.0177 - val_mse: 0.0177 - val_accuracy: 0.9751\n",
      "Epoch 7/50\n",
      "300/300 [==============================] - 61s 203ms/step - loss: 0.0212 - mse: 0.0212 - accuracy: 0.9682 - val_loss: 0.0208 - val_mse: 0.0208 - val_accuracy: 0.9717\n",
      "Epoch 8/50\n",
      "300/300 [==============================] - 61s 203ms/step - loss: 0.0192 - mse: 0.0192 - accuracy: 0.9735 - val_loss: 0.0324 - val_mse: 0.0324 - val_accuracy: 0.9669\n",
      "Epoch 9/50\n",
      "300/300 [==============================] - 61s 202ms/step - loss: 0.0177 - mse: 0.0177 - accuracy: 0.9750 - val_loss: 0.0336 - val_mse: 0.0336 - val_accuracy: 0.8428\n",
      "Epoch 10/50\n",
      "300/300 [==============================] - 60s 201ms/step - loss: 0.0188 - mse: 0.0188 - accuracy: 0.9722 - val_loss: 0.0120 - val_mse: 0.0120 - val_accuracy: 0.9846\n",
      "Epoch 11/50\n",
      "300/300 [==============================] - 61s 201ms/step - loss: 0.0212 - mse: 0.0212 - accuracy: 0.9698 - val_loss: 0.0159 - val_mse: 0.0159 - val_accuracy: 0.9795\n",
      "Epoch 12/50\n",
      "300/300 [==============================] - 60s 199ms/step - loss: 0.0200 - mse: 0.0200 - accuracy: 0.9709 - val_loss: 0.0134 - val_mse: 0.0134 - val_accuracy: 0.9814\n",
      "Epoch 13/50\n",
      "300/300 [==============================] - 61s 203ms/step - loss: 0.0172 - mse: 0.0172 - accuracy: 0.9780 - val_loss: 0.0149 - val_mse: 0.0149 - val_accuracy: 0.9811\n",
      "Epoch 14/50\n",
      "300/300 [==============================] - 61s 201ms/step - loss: 0.0168 - mse: 0.0168 - accuracy: 0.9779 - val_loss: 0.0213 - val_mse: 0.0213 - val_accuracy: 0.9802\n",
      "Epoch 15/50\n",
      "300/300 [==============================] - ETA: 0s - loss: 0.0167 - mse: 0.0167 - accuracy: 0.9776Restoring model weights from the end of the best epoch: 5.\n",
      "300/300 [==============================] - 61s 202ms/step - loss: 0.0167 - mse: 0.0167 - accuracy: 0.9776 - val_loss: 0.0119 - val_mse: 0.0119 - val_accuracy: 0.9833\n",
      "Epoch 15: early stopping\n"
     ]
    }
   ],
   "source": [
    "xception_history = train(name='xception_model', model=xception_model, train_generator=train_generator, val_generator=val_generator, epoch=50, BATCH_SIZE=BATCH_SIZE)"
   ]
  },
  {
   "cell_type": "code",
   "execution_count": 25,
   "metadata": {},
   "outputs": [],
   "source": [
    "xception_model.load_weights(filepath='./data/models/xception_model.h5')"
   ]
  },
  {
   "cell_type": "code",
   "execution_count": 26,
   "metadata": {
    "id": "90vYww6aPILr"
   },
   "outputs": [],
   "source": [
    "def plot_history(history: History):\n",
    "    \"\"\"Plot training and validation loss for a model\n",
    "    Params\n",
    "    ------\n",
    "    history: History\n",
    "        Keras history callback\n",
    "    Returns\n",
    "    -------\n",
    "    None\n",
    "    \"\"\" \n",
    "    loss_list = [s for s in history.history.keys() if 'loss' in s and 'val' not in s]\n",
    "    val_loss_list = [s for s in history.history.keys() if 'loss' in s and 'val' in s]\n",
    "    \n",
    "    if len(loss_list) == 0:\n",
    "        print('Loss is missing in history')\n",
    "        return \n",
    "    \n",
    "    ## As loss always exists\n",
    "    epochs = range(1,len(history.history[loss_list[0]]) + 1)\n",
    "    \n",
    "    ## Loss\n",
    "    plt.figure(1)\n",
    "    for l in loss_list:\n",
    "        plt.plot(epochs, history.history[l], 'lightblue', label='Training loss (' + str(str(format(history.history[l][-1],'.5f'))+')'))\n",
    "    for l in val_loss_list:\n",
    "        plt.plot(epochs, history.history[l], 'coral', label='Validation loss (' + str(str(format(history.history[l][-1],'.5f'))+')'))\n",
    "    \n",
    "    plt.title('Xception model: Loss')\n",
    "    plt.xlabel('Epochs')\n",
    "    plt.ylabel('Loss')\n",
    "    plt.grid(False)\n",
    "    plt.legend()\n",
    "    plt.savefig('xception_model_plot.pdf')\n",
    "    plt.show()"
   ]
  },
  {
   "cell_type": "code",
   "execution_count": 83,
   "metadata": {
    "colab": {
     "base_uri": "https://localhost:8080/",
     "height": 296
    },
    "id": "9ghhVnI7Sz4E",
    "outputId": "78775b56-8d67-449b-cdc8-87178c476ab7"
   },
   "outputs": [
    {
     "data": {
      "image/png": "[encoded data removed]",
      "text/plain": [
       "<Figure size 640x480 with 1 Axes>"
      ]
     },
     "metadata": {},
     "output_type": "display_data"
    }
   ],
   "source": [
    "plot_history(xception_history)"
   ]
  },
  {
   "cell_type": "code",
   "execution_count": 27,
   "metadata": {
    "id": "vjC71urSx_df"
   },
   "outputs": [],
   "source": [
    "def get_predictions(test_path: os.PathLike, test_generator: Iterator, model: Sequential) -> pd.DataFrame:\n",
    "    \"\"\"\n",
    "    Params\n",
    "    ------\n",
    "    test_path: os.PathLike\n",
    "        path to test data\n",
    "    test_generator: Iterator\n",
    "        Data generator for testing\n",
    "    model: Sequential model\n",
    "        trained model to make\n",
    "\n",
    "    Returns\n",
    "    -------\n",
    "    pd.DataFrame\n",
    "        predictions as pandas dataframe\n",
    "    \"\"\"\n",
    "    # list of all png files in test data\n",
    "    png_files = glob(f'{test_path}/*png')\n",
    "\n",
    "    # convert to pandas dataframe with image_id as column name\n",
    "    png_df = pd.DataFrame(data=png_files, columns=['image_id'])\n",
    "    png_df['image_id'] = png_df.image_id.apply(lambda x: os.path.split(x)[-1].split('.png')[0])\n",
    "\n",
    "    # make predictions\n",
    "    pred = model.predict(test_generator)\n",
    "\n",
    "    # convert prediction numpy.ndarray( to pd.DataFrame\n",
    "    pred_df = pd.concat([png_df, pd.DataFrame(data=pred, columns=['angle', 'speed'])], axis=1)\n",
    "    # dropping index from dataframe\n",
    "    pred_df.reset_index(drop=True)\n",
    "\n",
    "    # return predictions\n",
    "    return pred_df"
   ]
  },
  {
   "cell_type": "code",
   "execution_count": 28,
   "metadata": {
    "id": "raC2R1y3yAIj"
   },
   "outputs": [],
   "source": [
    "def save_csv(pred_df: pd.DataFrame) -> None:\n",
    "    \"\"\"\n",
    "    Params\n",
    "    ------\n",
    "    pred_df: pd.DataFrame\n",
    "        predictions in pandas dataframe\n",
    "\n",
    "    Returns\n",
    "    -------\n",
    "    None\n",
    "    \"\"\"\n",
    "    savedir='./submissions' # submissions directory\n",
    "    if not os.path.exists(savedir):\n",
    "        os.mkdir(savedir)\n",
    "\n",
    "    csvfile = 'submission' + ' _' + datetime.now().strftime('%d-%b_%I-%M%p') + '.csv' # csv file name\n",
    "    savedir = str(os.path.join(savedir, csvfile))\n",
    "    pred_df.to_csv(savedir, sep=',', index=False) # save to disk\n",
    "    print('Saved CSV file on disk!')"
   ]
  },
  {
   "cell_type": "code",
   "execution_count": 29,
   "metadata": {
    "colab": {
     "base_uri": "https://localhost:8080/"
    },
    "id": "5NulLTRvUx2v",
    "outputId": "55e607e0-d919-4e45-a0e1-de5b608b7bb1"
   },
   "outputs": [],
   "source": [
    "# directory that holds image data for testing\n",
    "test_path = os.path.join(test_dir, 'images')"
   ]
  },
  {
   "cell_type": "code",
   "execution_count": 30,
   "metadata": {},
   "outputs": [
    {
     "name": "stderr",
     "output_type": "stream",
     "text": [
      "2023-03-16 14:35:18.710310: W tensorflow/tsl/platform/profile_utils/cpu_utils.cc:128] Failed to get CPU frequency: 0 Hz\n",
      "2023-03-16 14:35:19.107755: I tensorflow/core/grappler/optimizers/custom_graph_optimizer_registry.cc:114] Plugin optimizer for device_type GPU is enabled.\n"
     ]
    },
    {
     "name": "stdout",
     "output_type": "stream",
     "text": [
      "32/32 [==============================] - 5s 108ms/step\n"
     ]
    }
   ],
   "source": [
    "pred_df = get_predictions(test_path, test_generator=test_generator, model=xception_model)"
   ]
  },
  {
   "cell_type": "code",
   "execution_count": 31,
   "metadata": {
    "colab": {
     "base_uri": "https://localhost:8080/"
    },
    "id": "eIqoemWoVsbG",
    "outputId": "39bb55f0-3e3f-4e79-9566-c05ee851b5dc"
   },
   "outputs": [
    {
     "name": "stdout",
     "output_type": "stream",
     "text": [
      "Saved CSV file on disk!\n"
     ]
    }
   ],
   "source": [
    "save_csv(pred_df)"
   ]
  },
  {
   "cell_type": "code",
   "execution_count": 32,
   "metadata": {
    "colab": {
     "base_uri": "https://localhost:8080/",
     "height": 206
    },
    "id": "SyKShGmlVwTk",
    "outputId": "02569547-aab6-44cb-fb3b-c9c4420964f8"
   },
   "outputs": [
    {
     "data": {
      "text/html": [
       "<div>\n",
       "<style scoped>\n",
       "    .dataframe tbody tr th:only-of-type {\n",
       "        vertical-align: middle;\n",
       "    }\n",
       "\n",
       "    .dataframe tbody tr th {\n",
       "        vertical-align: top;\n",
       "    }\n",
       "\n",
       "    .dataframe thead th {\n",
       "        text-align: right;\n",
       "    }\n",
       "</style>\n",
       "<table border=\"1\" class=\"dataframe\">\n",
       "  <thead>\n",
       "    <tr style=\"text-align: right;\">\n",
       "      <th></th>\n",
       "      <th>image_id</th>\n",
       "      <th>angle</th>\n",
       "      <th>speed</th>\n",
       "    </tr>\n",
       "  </thead>\n",
       "  <tbody>\n",
       "    <tr>\n",
       "      <th>0</th>\n",
       "      <td>348</td>\n",
       "      <td>0.667612</td>\n",
       "      <td>-0.006725</td>\n",
       "    </tr>\n",
       "    <tr>\n",
       "      <th>1</th>\n",
       "      <td>412</td>\n",
       "      <td>0.580595</td>\n",
       "      <td>0.345606</td>\n",
       "    </tr>\n",
       "    <tr>\n",
       "      <th>2</th>\n",
       "      <td>374</td>\n",
       "      <td>0.559975</td>\n",
       "      <td>0.974746</td>\n",
       "    </tr>\n",
       "    <tr>\n",
       "      <th>3</th>\n",
       "      <td>360</td>\n",
       "      <td>0.162020</td>\n",
       "      <td>0.935089</td>\n",
       "    </tr>\n",
       "    <tr>\n",
       "      <th>4</th>\n",
       "      <td>406</td>\n",
       "      <td>0.181701</td>\n",
       "      <td>0.939384</td>\n",
       "    </tr>\n",
       "  </tbody>\n",
       "</table>\n",
       "</div>"
      ],
      "text/plain": [
       "  image_id     angle     speed\n",
       "0      348  0.667612 -0.006725\n",
       "1      412  0.580595  0.345606\n",
       "2      374  0.559975  0.974746\n",
       "3      360  0.162020  0.935089\n",
       "4      406  0.181701  0.939384"
      ]
     },
     "execution_count": 32,
     "metadata": {},
     "output_type": "execute_result"
    }
   ],
   "source": [
    "pred_df.head()"
   ]
  }
 ],
 "metadata": {
  "accelerator": "GPU",
  "colab": {
   "machine_shape": "hm",
   "provenance": []
  },
  "gpuClass": "premium",
  "kernelspec": {
   "display_name": "Python 3",
   "name": "python3"
  },
  "language_info": {
   "codemirror_mode": {
    "name": "ipython",
    "version": 3
   },
   "file_extension": ".py",
   "mimetype": "text/x-python",
   "name": "python",
   "nbconvert_exporter": "python",
   "pygments_lexer": "ipython3",
   "version": "3.8.16"
  }
 },
 "nbformat": 4,
 "nbformat_minor": 0
}
