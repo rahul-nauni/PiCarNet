{
 "cells": [
  {
   "cell_type": "code",
   "execution_count": 2,
   "metadata": {
    "collapsed": false
   },
   "outputs": [],
   "source": [
    "# Importing dependencies\n",
    "import pandas as pd\n",
    "import os\n",
    "import numpy as np\n",
    "from datetime import datetime\n",
    "from typing import List, Union, Iterator, Tuple\n",
    "import plotly.express as px\n",
    "%matplotlib inline\n",
    "import matplotlib.pyplot as plt\n",
    "plt.style.use('dark_background')\n",
    "from sklearn.model_selection import train_test_split\n",
    "\n",
    "import tensorflow as tf\n",
    "from keras.preprocessing.image import ImageDataGenerator\n",
    "from keras.layers import Dense, GlobalAveragePooling2D, Dropout, BatchNormalization, Input, Activation, Flatten, Concatenate, Conv2D\n",
    "from keras.models import Sequential\n",
    "from keras.applications.mobilenet_v2 import MobileNetV2\n",
    "from keras.applications import EfficientNetB0\n",
    "from keras.callbacks import EarlyStopping, ModelCheckpoint\n",
    "from keras.callbacks import History, TensorBoard\n",
    "from keras import Model\n",
    "from keras.optimizers import Adam, RMSprop, Adagrad"
   ]
  },
  {
   "cell_type": "markdown",
   "metadata": {
    "collapsed": false
   },
   "source": [
    "## Reading data"
   ]
  },
  {
   "cell_type": "code",
   "execution_count": 3,
   "metadata": {
    "collapsed": false
   },
   "outputs": [],
   "source": [
    "data_path = '/Users/rahuln/PycharmProjects/PiCarNet/machine-learning-in-science-ii-2023'"
   ]
  },
  {
   "cell_type": "code",
   "execution_count": 4,
   "metadata": {
    "collapsed": false
   },
   "outputs": [],
   "source": [
    "def load_data(data_path: str) -> pd.DataFrame:\n",
    "    \"\"\"Loads data from csv file\n",
    "    Params\n",
    "    ------\n",
    "    data_path: str\n",
    "        Data path containing images and csv data\n",
    "    Returns\n",
    "    -------\n",
    "    pd.DataFrame\n",
    "        Loaded data as pandas dataframe\n",
    "    \"\"\"\n",
    "    columns = ['image_id', 'angle', 'speed']\n",
    "    data = pd.read_csv(os.path.join(data_path, 'training_norm.csv'), delimiter= ',', header=0, names = columns)\n",
    "\n",
    "    return data"
   ]
  },
  {
   "cell_type": "code",
   "execution_count": 5,
   "metadata": {
    "collapsed": false
   },
   "outputs": [],
   "source": [
    "data = load_data(data_path)"
   ]
  },
  {
   "cell_type": "code",
   "execution_count": 6,
   "metadata": {
    "collapsed": false
   },
   "outputs": [
    {
     "data": {
      "text/plain": "   image_id   angle  speed\n0         1  0.4375    0.0\n1         2  0.8125    1.0\n2         3  0.4375    1.0\n3         4  0.6250    1.0\n4         5  0.5000    0.0",
      "text/html": "<div>\n<style scoped>\n    .dataframe tbody tr th:only-of-type {\n        vertical-align: middle;\n    }\n\n    .dataframe tbody tr th {\n        vertical-align: top;\n    }\n\n    .dataframe thead th {\n        text-align: right;\n    }\n</style>\n<table border=\"1\" class=\"dataframe\">\n  <thead>\n    <tr style=\"text-align: right;\">\n      <th></th>\n      <th>image_id</th>\n      <th>angle</th>\n      <th>speed</th>\n    </tr>\n  </thead>\n  <tbody>\n    <tr>\n      <th>0</th>\n      <td>1</td>\n      <td>0.4375</td>\n      <td>0.0</td>\n    </tr>\n    <tr>\n      <th>1</th>\n      <td>2</td>\n      <td>0.8125</td>\n      <td>1.0</td>\n    </tr>\n    <tr>\n      <th>2</th>\n      <td>3</td>\n      <td>0.4375</td>\n      <td>1.0</td>\n    </tr>\n    <tr>\n      <th>3</th>\n      <td>4</td>\n      <td>0.6250</td>\n      <td>1.0</td>\n    </tr>\n    <tr>\n      <th>4</th>\n      <td>5</td>\n      <td>0.5000</td>\n      <td>0.0</td>\n    </tr>\n  </tbody>\n</table>\n</div>"
     },
     "execution_count": 6,
     "metadata": {},
     "output_type": "execute_result"
    }
   ],
   "source": [
    "data.head(5)"
   ]
  },
  {
   "cell_type": "code",
   "execution_count": 7,
   "metadata": {
    "collapsed": false
   },
   "outputs": [],
   "source": [
    "data['image_id'] = data.image_id.apply(lambda x: os.path.join(data_path, 'training_data/', str(x)) + '.png')"
   ]
  },
  {
   "cell_type": "code",
   "execution_count": 8,
   "metadata": {
    "collapsed": false
   },
   "outputs": [
    {
     "data": {
      "text/plain": "                                            image_id   angle  speed\n0  /Users/rahuln/PycharmProjects/PiCarNet/machine...  0.4375    0.0\n1  /Users/rahuln/PycharmProjects/PiCarNet/machine...  0.8125    1.0\n2  /Users/rahuln/PycharmProjects/PiCarNet/machine...  0.4375    1.0\n3  /Users/rahuln/PycharmProjects/PiCarNet/machine...  0.6250    1.0\n4  /Users/rahuln/PycharmProjects/PiCarNet/machine...  0.5000    0.0",
      "text/html": "<div>\n<style scoped>\n    .dataframe tbody tr th:only-of-type {\n        vertical-align: middle;\n    }\n\n    .dataframe tbody tr th {\n        vertical-align: top;\n    }\n\n    .dataframe thead th {\n        text-align: right;\n    }\n</style>\n<table border=\"1\" class=\"dataframe\">\n  <thead>\n    <tr style=\"text-align: right;\">\n      <th></th>\n      <th>image_id</th>\n      <th>angle</th>\n      <th>speed</th>\n    </tr>\n  </thead>\n  <tbody>\n    <tr>\n      <th>0</th>\n      <td>/Users/rahuln/PycharmProjects/PiCarNet/machine...</td>\n      <td>0.4375</td>\n      <td>0.0</td>\n    </tr>\n    <tr>\n      <th>1</th>\n      <td>/Users/rahuln/PycharmProjects/PiCarNet/machine...</td>\n      <td>0.8125</td>\n      <td>1.0</td>\n    </tr>\n    <tr>\n      <th>2</th>\n      <td>/Users/rahuln/PycharmProjects/PiCarNet/machine...</td>\n      <td>0.4375</td>\n      <td>1.0</td>\n    </tr>\n    <tr>\n      <th>3</th>\n      <td>/Users/rahuln/PycharmProjects/PiCarNet/machine...</td>\n      <td>0.6250</td>\n      <td>1.0</td>\n    </tr>\n    <tr>\n      <th>4</th>\n      <td>/Users/rahuln/PycharmProjects/PiCarNet/machine...</td>\n      <td>0.5000</td>\n      <td>0.0</td>\n    </tr>\n  </tbody>\n</table>\n</div>"
     },
     "execution_count": 8,
     "metadata": {},
     "output_type": "execute_result"
    }
   ],
   "source": [
    "data.head()"
   ]
  },
  {
   "cell_type": "markdown",
   "metadata": {
    "collapsed": false
   },
   "source": [
    "## Data preprocessing"
   ]
  },
  {
   "cell_type": "code",
   "execution_count": 9,
   "metadata": {
    "collapsed": false
   },
   "outputs": [],
   "source": [
    "# train test split of dataset\n",
    "def data_split(data: pd.DataFrame) -> Tuple[pd.DataFrame, pd.DataFrame, pd.DataFrame]:\n",
    "    \"\"\"\n",
    "    Params\n",
    "    ------\n",
    "    data: pd.DataFrame\n",
    "        Pandas dataframe containing all data.\n",
    "    Returns\n",
    "    -------\n",
    "    Tuple[pd.DataFrame, pd.DataFrame, pd.DataFrame]\n",
    "        A tuple of train, test and val split\n",
    "    \"\"\"\n",
    "    rnd = np.random.RandomState(seed=None)\n",
    "\n",
    "    #train_data = data.sample(frac=0.7, random_state=rnd)\n",
    "    #test_data = data.loc[~data.index.isin(train_data.index)]\n",
    "    train_data, test_data = train_test_split(data, test_size=0.2, random_state=rnd.seed(1234)) # split data with test size of 20%\n",
    "    train_data, val_data = train_test_split(train_data, test_size=0.125, random_state=rnd.seed(1234)) # split data with overall test size of 10%\n",
    "\n",
    "    return train_data, test_data, val_data\n",
    "\n",
    "train_data, test_data, val_data = data_split(data)"
   ]
  },
  {
   "cell_type": "code",
   "execution_count": 10,
   "metadata": {
    "collapsed": false
   },
   "outputs": [
    {
     "data": {
      "text/plain": "<Figure size 640x480 with 1 Axes>",
      "image/png": "[encoded data removed]"
     },
     "metadata": {},
     "output_type": "display_data"
    }
   ],
   "source": [
    "# plotting distribution of output labels\n",
    "def visualize(data, attr):\n",
    "    nBins = 60\n",
    "    plt.hist(data.loc[:,attr], bins=nBins)\n",
    "    plt.gca().set(title=f'Distribution of steering {attr}', ylabel='Frequency')\n",
    "\n",
    "visualize(train_data, attr='angle')\n",
    "visualize(train_data, attr='speed')"
   ]
  },
  {
   "attachments": {},
   "cell_type": "markdown",
   "metadata": {},
   "source": [
    "## Data pipeline"
   ]
  },
  {
   "cell_type": "code",
   "execution_count": 11,
   "metadata": {
    "collapsed": false
   },
   "outputs": [],
   "source": [
    "# Generate images on the fly while training model\n",
    "def img_generator(train_data: pd.DataFrame, test_data: pd.DataFrame, val_data: pd.DataFrame, BATCH_SIZE: int) -> Tuple[Iterator, Iterator, Iterator]:\n",
    "    \"\"\"\n",
    "    Params\n",
    "    ------\n",
    "    train_data: pd.DataFrame\n",
    "        Pandas dataframe containing training data\n",
    "    test_data: pd.DataFrame\n",
    "        Pandas dataframe containing testing data\n",
    "    val_data: pd.DataFrame\n",
    "        Pandas dataframe containing validation data\n",
    "    use_augmentation: bool\n",
    "        If true use image augmentations\n",
    "\n",
    "    Returns\n",
    "    -------\n",
    "    Tuple[Iterator, Iterator, Iterator]\n",
    "        keras ImageDataGenerators used for training, testing and validating model.\n",
    "    \"\"\"\n",
    "\n",
    "    train_generator = ImageDataGenerator(\n",
    "        rescale=1.0 / 255,\n",
    "        rotation_range=5,\n",
    "        width_shift_range=0.1,\n",
    "        height_shift_range=0.1,\n",
    "        brightness_range=(0.75, 1),\n",
    "        shear_range=0.1,\n",
    "        zoom_range=[0.75, 1],\n",
    "        horizontal_flip=True,\n",
    "        validation_split=0.2)\n",
    "\n",
    "    val_generator = ImageDataGenerator(rescale=1.0 / 255)\n",
    "    test_generator = ImageDataGenerator(rescale=1.0 / 255)\n",
    "\n",
    "    train_generator = train_generator.flow_from_dataframe(dataframe=train_data,\n",
    "                                                          directory=None,\n",
    "                                                          x_col='image_id',\n",
    "                                                          y_col=['angle','speed'],\n",
    "                                                          color_mode='rgb',\n",
    "                                                          target_size=(224, 224),\n",
    "                                                          class_mode='raw',\n",
    "                                                          batch_size=BATCH_SIZE,\n",
    "                                                          shuffle=True)\n",
    "\n",
    "    test_generator = test_generator.flow_from_dataframe(dataframe=test_data,\n",
    "                                                x_col='image_id',\n",
    "                                                y_col=['angle', 'speed'],\n",
    "                                                class_mode='raw',\n",
    "                                                color_mode='rgb',\n",
    "                                                target_size=(224, 224),\n",
    "                                                batch_size=BATCH_SIZE,\n",
    "                                                shuffle=True)\n",
    "\n",
    "    val_generator = val_generator.flow_from_dataframe(dataframe=val_data,\n",
    "                                               x_col='image_id',\n",
    "                                               y_col=['angle', 'speed'],\n",
    "                                               class_mode='raw',\n",
    "                                               color_mode='rgb',\n",
    "                                               target_size=(224, 224),\n",
    "                                               batch_size=BATCH_SIZE,\n",
    "                                               shuffle=True)\n",
    "\n",
    "\n",
    "\n",
    "    return train_generator, test_generator, val_generator\n"
   ]
  },
  {
   "cell_type": "code",
   "execution_count": 27,
   "metadata": {
    "collapsed": false
   },
   "outputs": [],
   "source": [
    "# create base model using transfer learning\n",
    "def create_baseline_model(input_shape, dropout_rate, optimizer) -> Sequential:\n",
    "    \"\"\"Creates a baseline model from MobileNetV2\n",
    "\n",
    "    Params\n",
    "    ------\n",
    "    input_shape: input dimensions of image (224x224x3).\n",
    "    dropout_rate: Applies Dropout to the input, to prevent over-fitting.\n",
    "    optimizer: Optimization algorithm.\n",
    "\n",
    "    Returns\n",
    "    -------\n",
    "    Sequential\n",
    "        The keras model.\n",
    "    \"\"\"\n",
    "    mobilenet = MobileNetV2(include_top=False, weights='imagenet', input_shape=input_shape)\n",
    "    mobilenet.trainable = False # Freeze the model\n",
    "\n",
    "    # Rebuild top\n",
    "    model = Sequential([\n",
    "        mobilenet,\n",
    "        BatchNormalization(),\n",
    "        Dropout(dropout_rate),\n",
    "        Dense(56, activation='softmax'),\n",
    "        GlobalAveragePooling2D(),\n",
    "        BatchNormalization(),\n",
    "        Dropout(dropout_rate),\n",
    "        Flatten(),\n",
    "        Dense(2, activation='linear')\n",
    "    ])\n",
    "\n",
    "    model.compile(loss=['mean_squared_error'], optimizer=optimizer, metrics=['mse', 'accuracy'])\n",
    "    return model\n",
    "\n",
    "# NOTE: we might need more complex model suggested by NVIDIA\n",
    "# ref: https://towardsdatascience.com/teaching-cars-to-drive-using-deep-learning-steering-angle-prediction-5773154608f2"
   ]
  },
  {
   "cell_type": "code",
   "execution_count": 28,
   "metadata": {
    "collapsed": false
   },
   "outputs": [],
   "source": [
    "IMG_HEIGHT = 224\n",
    "IMG_WIDTH = 224\n",
    "CHANNELS = 3\n",
    "input_shape = (IMG_HEIGHT, IMG_WIDTH, CHANNELS)\n",
    "\n",
    "lr = 2e-3 # learning rate\n",
    "decay = 0.01 # weight decay\n",
    "dropout_rate = 0.1\n",
    "optimizer = Adam(learning_rate=lr)  # optimizer\n",
    "\n",
    "baseline_model = create_baseline_model(input_shape, dropout_rate, optimizer)"
   ]
  },
  {
   "cell_type": "code",
   "execution_count": 29,
   "metadata": {
    "collapsed": false
   },
   "outputs": [
    {
     "name": "stdout",
     "output_type": "stream",
     "text": [
      "Model: \"sequential_2\"\n",
      "_________________________________________________________________\n",
      " Layer (type)                Output Shape              Param #   \n",
      "=================================================================\n",
      " mobilenetv2_1.00_224 (Funct  (None, 7, 7, 1280)       2257984   \n",
      " ional)                                                          \n",
      "                                                                 \n",
      " batch_normalization_4 (Batc  (None, 7, 7, 1280)       5120      \n",
      " hNormalization)                                                 \n",
      "                                                                 \n",
      " dropout_4 (Dropout)         (None, 7, 7, 1280)        0         \n",
      "                                                                 \n",
      " dense_4 (Dense)             (None, 7, 7, 56)          71736     \n",
      "                                                                 \n",
      " global_average_pooling2d_2   (None, 56)               0         \n",
      " (GlobalAveragePooling2D)                                        \n",
      "                                                                 \n",
      " batch_normalization_5 (Batc  (None, 56)               224       \n",
      " hNormalization)                                                 \n",
      "                                                                 \n",
      " dropout_5 (Dropout)         (None, 56)                0         \n",
      "                                                                 \n",
      " flatten_1 (Flatten)         (None, 56)                0         \n",
      "                                                                 \n",
      " dense_5 (Dense)             (None, 2)                 114       \n",
      "                                                                 \n",
      "=================================================================\n",
      "Total params: 2,335,178\n",
      "Trainable params: 74,522\n",
      "Non-trainable params: 2,260,656\n",
      "_________________________________________________________________\n"
     ]
    }
   ],
   "source": [
    "baseline_model.summary()"
   ]
  },
  {
   "cell_type": "code",
   "execution_count": 30,
   "metadata": {
    "collapsed": false
   },
   "outputs": [
    {
     "name": "stdout",
     "output_type": "stream",
     "text": [
      "Found 9654 validated image filenames.\n",
      "Found 2759 validated image filenames.\n",
      "Found 1380 validated image filenames.\n"
     ]
    }
   ],
   "source": [
    "#training_ds, testing_ds, validation_ds = create_img_pipeline(train_ds, test_ds, val_ds)\n",
    "train_generator, test_generator, val_generator = img_generator(train_data, test_data, val_data, BATCH_SIZE=64)"
   ]
  },
  {
   "cell_type": "code",
   "execution_count": 31,
   "metadata": {
    "collapsed": false
   },
   "outputs": [],
   "source": [
    "# defining callbacks\n",
    "def get_callbacks(model: str) -> List[Union[TensorBoard, EarlyStopping, ModelCheckpoint]]:\n",
    "    \"\"\"Accepts the model name as a string and returns multiple keras callbacks\n",
    "\n",
    "    Params\n",
    "    ------\n",
    "    model: str\n",
    "        The name of model as a string\n",
    "\n",
    "    Returns\n",
    "    -------\n",
    "    A list of multiple keras callbacks\n",
    "    \"\"\"\n",
    "    logdir = (\n",
    "        'logs/scalars/' + model + '_' + datetime.now().strftime('%Y%m%d-%H%M%S')\n",
    "    ) # logging for each model\n",
    "    tensorboard_callback = tf.keras.callbacks.TensorBoard(log_dir=logdir)\n",
    "\n",
    "    early_stopping_callback = EarlyStopping(\n",
    "        monitor='mse',\n",
    "        min_delta=0.01,  # model should improve by at least 0.1%\n",
    "        patience=10,  # amount of epochs  with improvements worse than 1% until the model stops\n",
    "        verbose=1,\n",
    "        mode='min',\n",
    "        restore_best_weights=True,  # restore the best model with the lowest validation error\n",
    "    )\n",
    "\n",
    "    model_checkpoint_callback = ModelCheckpoint(\n",
    "        './data/models/' + model + '.h5',\n",
    "        monitor='mse',\n",
    "        verbose=0,\n",
    "        save_best_only=True,  # save the best model\n",
    "        mode='min',\n",
    "        save_freq='epoch',  # save the model on disk at end of every epoch\n",
    "    )\n",
    "    return [model_checkpoint_callback, tensorboard_callback, early_stopping_callback]"
   ]
  },
  {
   "cell_type": "code",
   "execution_count": 32,
   "metadata": {
    "collapsed": false
   },
   "outputs": [],
   "source": [
    "tf.keras.backend.clear_session() # clear keras session"
   ]
  },
  {
   "cell_type": "code",
   "execution_count": 33,
   "metadata": {
    "collapsed": false
   },
   "outputs": [],
   "source": [
    "with tf.GradientTape() as tape:\n",
    "    tape.reset() # This resets gradient tape"
   ]
  },
  {
   "attachments": {},
   "cell_type": "markdown",
   "metadata": {},
   "source": [
    "## Training model"
   ]
  },
  {
   "cell_type": "code",
   "execution_count": 34,
   "metadata": {
    "collapsed": false
   },
   "outputs": [
    {
     "name": "stdout",
     "output_type": "stream",
     "text": [
      "Epoch 1/100\n"
     ]
    },
    {
     "name": "stderr",
     "output_type": "stream",
     "text": [
      "2023-03-09 11:36:46.193951: I tensorflow/core/grappler/optimizers/custom_graph_optimizer_registry.cc:114] Plugin optimizer for device_type GPU is enabled.\n"
     ]
    },
    {
     "name": "stdout",
     "output_type": "stream",
     "text": [
      "151/151 [==============================] - ETA: 0s - loss: 0.1038 - mse: 0.1038 - accuracy: 0.8825"
     ]
    },
    {
     "name": "stderr",
     "output_type": "stream",
     "text": [
      "2023-03-09 11:37:17.100858: I tensorflow/core/grappler/optimizers/custom_graph_optimizer_registry.cc:114] Plugin optimizer for device_type GPU is enabled.\n"
     ]
    },
    {
     "name": "stdout",
     "output_type": "stream",
     "text": [
      "151/151 [==============================] - 36s 218ms/step - loss: 0.1038 - mse: 0.1038 - accuracy: 0.8825 - val_loss: 0.0868 - val_mse: 0.0868 - val_accuracy: 0.7536\n",
      "Epoch 2/100\n",
      "151/151 [==============================] - 33s 215ms/step - loss: 0.0267 - mse: 0.0267 - accuracy: 0.9535 - val_loss: 0.0682 - val_mse: 0.0682 - val_accuracy: 0.9000\n",
      "Epoch 3/100\n",
      "151/151 [==============================] - 33s 216ms/step - loss: 0.0238 - mse: 0.0238 - accuracy: 0.9565 - val_loss: 0.0393 - val_mse: 0.0393 - val_accuracy: 0.9739\n",
      "Epoch 4/100\n",
      "151/151 [==============================] - 35s 228ms/step - loss: 0.0216 - mse: 0.0216 - accuracy: 0.9626 - val_loss: 0.0252 - val_mse: 0.0252 - val_accuracy: 0.9652\n",
      "Epoch 5/100\n",
      "151/151 [==============================] - 34s 218ms/step - loss: 0.0198 - mse: 0.0198 - accuracy: 0.9640 - val_loss: 0.0148 - val_mse: 0.0148 - val_accuracy: 0.9703\n",
      "Epoch 6/100\n",
      "151/151 [==============================] - 33s 215ms/step - loss: 0.0189 - mse: 0.0189 - accuracy: 0.9682 - val_loss: 0.0151 - val_mse: 0.0151 - val_accuracy: 0.9659\n",
      "Epoch 7/100\n",
      "151/151 [==============================] - 33s 211ms/step - loss: 0.0188 - mse: 0.0188 - accuracy: 0.9702 - val_loss: 0.0139 - val_mse: 0.0139 - val_accuracy: 0.9630\n",
      "Epoch 8/100\n",
      "151/151 [==============================] - 35s 228ms/step - loss: 0.0183 - mse: 0.0183 - accuracy: 0.9672 - val_loss: 0.0161 - val_mse: 0.0161 - val_accuracy: 0.9616\n",
      "Epoch 9/100\n",
      "151/151 [==============================] - 34s 218ms/step - loss: 0.0178 - mse: 0.0178 - accuracy: 0.9715 - val_loss: 0.0139 - val_mse: 0.0139 - val_accuracy: 0.9732\n",
      "Epoch 10/100\n",
      "151/151 [==============================] - 35s 228ms/step - loss: 0.0176 - mse: 0.0176 - accuracy: 0.9705 - val_loss: 0.0155 - val_mse: 0.0155 - val_accuracy: 0.9609\n",
      "Epoch 11/100\n",
      "151/151 [==============================] - 34s 219ms/step - loss: 0.0172 - mse: 0.0172 - accuracy: 0.9708 - val_loss: 0.0232 - val_mse: 0.0232 - val_accuracy: 0.9391\n",
      "Epoch 12/100\n",
      "151/151 [==============================] - 35s 227ms/step - loss: 0.0166 - mse: 0.0166 - accuracy: 0.9742 - val_loss: 0.0153 - val_mse: 0.0153 - val_accuracy: 0.9667\n",
      "Epoch 13/100\n",
      "151/151 [==============================] - 34s 216ms/step - loss: 0.0168 - mse: 0.0168 - accuracy: 0.9744 - val_loss: 0.0155 - val_mse: 0.0155 - val_accuracy: 0.9659\n",
      "Epoch 14/100\n",
      "151/151 [==============================] - 34s 216ms/step - loss: 0.0162 - mse: 0.0162 - accuracy: 0.9745 - val_loss: 0.0181 - val_mse: 0.0181 - val_accuracy: 0.9638\n",
      "Epoch 15/100\n",
      "151/151 [==============================] - 34s 219ms/step - loss: 0.0157 - mse: 0.0157 - accuracy: 0.9745 - val_loss: 0.0149 - val_mse: 0.0149 - val_accuracy: 0.9688\n",
      "Epoch 16/100\n",
      "151/151 [==============================] - 33s 214ms/step - loss: 0.0166 - mse: 0.0166 - accuracy: 0.9711 - val_loss: 0.0159 - val_mse: 0.0159 - val_accuracy: 0.9536\n",
      "Epoch 17/100\n",
      "151/151 [==============================] - 34s 220ms/step - loss: 0.0155 - mse: 0.0155 - accuracy: 0.9761 - val_loss: 0.0133 - val_mse: 0.0133 - val_accuracy: 0.9761\n",
      "Epoch 18/100\n",
      "151/151 [==============================] - 33s 215ms/step - loss: 0.0154 - mse: 0.0154 - accuracy: 0.9753 - val_loss: 0.0130 - val_mse: 0.0130 - val_accuracy: 0.9746\n",
      "Epoch 19/100\n",
      "151/151 [==============================] - 33s 213ms/step - loss: 0.0145 - mse: 0.0145 - accuracy: 0.9784 - val_loss: 0.0136 - val_mse: 0.0136 - val_accuracy: 0.9768\n",
      "Epoch 20/100\n",
      "151/151 [==============================] - 34s 219ms/step - loss: 0.0143 - mse: 0.0143 - accuracy: 0.9782 - val_loss: 0.0127 - val_mse: 0.0127 - val_accuracy: 0.9783\n",
      "Epoch 21/100\n",
      "151/151 [==============================] - 33s 214ms/step - loss: 0.0158 - mse: 0.0158 - accuracy: 0.9742 - val_loss: 0.0127 - val_mse: 0.0127 - val_accuracy: 0.9775\n",
      "Epoch 22/100\n",
      "151/151 [==============================] - ETA: 0s - loss: 0.0146 - mse: 0.0146 - accuracy: 0.9769Restoring model weights from the end of the best epoch: 12.\n",
      "151/151 [==============================] - 34s 222ms/step - loss: 0.0146 - mse: 0.0146 - accuracy: 0.9769 - val_loss: 0.0145 - val_mse: 0.0145 - val_accuracy: 0.9768\n",
      "Epoch 22: early stopping\n"
     ]
    },
    {
     "data": {
      "text/plain": "<keras.callbacks.History at 0x303088250>"
     },
     "execution_count": 34,
     "metadata": {},
     "output_type": "execute_result"
    }
   ],
   "source": [
    "callbacks = get_callbacks('baseline_model')\n",
    "baseline_model.fit(train_generator,\n",
    "               epochs=100,\n",
    "                   validation_data=val_generator,\n",
    "                   callbacks=callbacks,\n",
    "                   workers=4,\n",
    "                   verbose=1)"
   ]
  },
  {
   "cell_type": "code",
   "execution_count": 35,
   "outputs": [],
   "source": [
    "test_dir = os.path.join(data_path, 'test_data')"
   ],
   "metadata": {
    "collapsed": false
   }
  },
  {
   "cell_type": "code",
   "execution_count": 36,
   "metadata": {
    "collapsed": false
   },
   "outputs": [
    {
     "name": "stdout",
     "output_type": "stream",
     "text": [
      "Found 1020 files belonging to 1 classes.\n"
     ]
    }
   ],
   "source": [
    "test_ds = tf.keras.preprocessing.image_dataset_from_directory(\n",
    "    test_dir,\n",
    "    image_size=(224, 224),\n",
    "    label_mode=None,\n",
    "    color_mode='rgb',\n",
    "    batch_size=64\n",
    ")"
   ]
  },
  {
   "cell_type": "code",
   "execution_count": 37,
   "outputs": [
    {
     "name": "stderr",
     "output_type": "stream",
     "text": [
      "2023-03-09 11:49:39.227414: I tensorflow/core/grappler/optimizers/custom_graph_optimizer_registry.cc:114] Plugin optimizer for device_type GPU is enabled.\n"
     ]
    },
    {
     "name": "stdout",
     "output_type": "stream",
     "text": [
      "16/16 [==============================] - 4s 152ms/step\n"
     ]
    }
   ],
   "source": [
    "pred = baseline_model.predict(test_ds)"
   ],
   "metadata": {
    "collapsed": false
   }
  },
  {
   "cell_type": "code",
   "execution_count": 40,
   "outputs": [],
   "source": [
    "pred_data = pd.DataFrame(data=pred, columns=['angle','speed'])"
   ],
   "metadata": {
    "collapsed": false
   }
  },
  {
   "cell_type": "code",
   "execution_count": 41,
   "outputs": [
    {
     "data": {
      "text/plain": "         angle     speed\n0     0.585358  0.794022\n1     0.547771  0.826479\n2     0.629216  0.710236\n3     0.636752  0.724962\n4     0.517572  0.772474\n...        ...       ...\n1015 -0.020049  1.043153\n1016  0.307445  0.927990\n1017  0.390521  0.886333\n1018  0.615664  0.800519\n1019  0.327050  0.859707\n\n[1020 rows x 2 columns]",
      "text/html": "<div>\n<style scoped>\n    .dataframe tbody tr th:only-of-type {\n        vertical-align: middle;\n    }\n\n    .dataframe tbody tr th {\n        vertical-align: top;\n    }\n\n    .dataframe thead th {\n        text-align: right;\n    }\n</style>\n<table border=\"1\" class=\"dataframe\">\n  <thead>\n    <tr style=\"text-align: right;\">\n      <th></th>\n      <th>angle</th>\n      <th>speed</th>\n    </tr>\n  </thead>\n  <tbody>\n    <tr>\n      <th>0</th>\n      <td>0.585358</td>\n      <td>0.794022</td>\n    </tr>\n    <tr>\n      <th>1</th>\n      <td>0.547771</td>\n      <td>0.826479</td>\n    </tr>\n    <tr>\n      <th>2</th>\n      <td>0.629216</td>\n      <td>0.710236</td>\n    </tr>\n    <tr>\n      <th>3</th>\n      <td>0.636752</td>\n      <td>0.724962</td>\n    </tr>\n    <tr>\n      <th>4</th>\n      <td>0.517572</td>\n      <td>0.772474</td>\n    </tr>\n    <tr>\n      <th>...</th>\n      <td>...</td>\n      <td>...</td>\n    </tr>\n    <tr>\n      <th>1015</th>\n      <td>-0.020049</td>\n      <td>1.043153</td>\n    </tr>\n    <tr>\n      <th>1016</th>\n      <td>0.307445</td>\n      <td>0.927990</td>\n    </tr>\n    <tr>\n      <th>1017</th>\n      <td>0.390521</td>\n      <td>0.886333</td>\n    </tr>\n    <tr>\n      <th>1018</th>\n      <td>0.615664</td>\n      <td>0.800519</td>\n    </tr>\n    <tr>\n      <th>1019</th>\n      <td>0.327050</td>\n      <td>0.859707</td>\n    </tr>\n  </tbody>\n</table>\n<p>1020 rows × 2 columns</p>\n</div>"
     },
     "execution_count": 41,
     "metadata": {},
     "output_type": "execute_result"
    }
   ],
   "source": [
    "pred_data"
   ],
   "metadata": {
    "collapsed": false
   }
  }
 ],
 "metadata": {
  "kernelspec": {
   "display_name": "Python 3",
   "language": "python",
   "name": "python3"
  },
  "language_info": {
   "codemirror_mode": {
    "name": "ipython",
    "version": 2
   },
   "file_extension": ".py",
   "mimetype": "text/x-python",
   "name": "python",
   "nbconvert_exporter": "python",
   "pygments_lexer": "ipython2",
   "version": "3.8.16"
  }
 },
 "nbformat": 4,
 "nbformat_minor": 0
}
