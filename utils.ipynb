{
 "cells": [
  {
   "cell_type": "code",
   "execution_count": 3,
   "metadata": {
    "collapsed": false
   },
   "outputs": [],
   "source": [
    "# Importing dependencies\n",
    "import pandas as pd\n",
    "import os\n",
    "import numpy as np\n",
    "from datetime import datetime\n",
    "from typing import List, Union, Iterator\n",
    "%matplotlib inline\n",
    "import matplotlib.pyplot as plt\n",
    "plt.style.use('dark_background')\n",
    "from sklearn.model_selection import train_test_split\n",
    "\n",
    "import tensorflow as tf\n",
    "import tensorflow_addons as tfa\n",
    "from keras.preprocessing.image import ImageDataGenerator\n",
    "from keras.layers import Dense, GlobalAveragePooling2D, Dropout, Input\n",
    "from keras.models import Sequential\n",
    "from keras.applications.mobilenet_v2 import MobileNetV2\n",
    "from keras.callbacks import EarlyStopping, ModelCheckpoint\n",
    "from keras.callbacks import History, TensorBoard\n",
    "from keras import Model\n",
    "from keras.optimizers import Adam"
   ]
  },
  {
   "cell_type": "markdown",
   "metadata": {
    "collapsed": false
   },
   "source": [
    "## Reading data"
   ]
  },
  {
   "cell_type": "code",
   "execution_count": 35,
   "metadata": {
    "collapsed": false
   },
   "outputs": [],
   "source": [
    "data_path = '/Users/rahuln/PycharmProjects/PiCarNet/machine-learning-in-science-ii-2023'"
   ]
  },
  {
   "cell_type": "code",
   "execution_count": 36,
   "metadata": {
    "collapsed": false
   },
   "outputs": [],
   "source": [
    "def load_data(data_path: str) -> pd.DataFrame:\n",
    "    \"\"\"Loads data from csv file\n",
    "    Params\n",
    "    ------\n",
    "    data_path: str\n",
    "        Data path containing images and csv data\n",
    "    Returns\n",
    "    -------\n",
    "    pd.DataFrame\n",
    "        Loaded data as pandas dataframe\n",
    "    \"\"\"\n",
    "    columns = ['image_id', 'angle', 'speed']\n",
    "    data = pd.read_csv(os.path.join(data_path, 'training_norm.csv'), delimiter= ',', header=0, names = columns)\n",
    "\n",
    "    return data"
   ]
  },
  {
   "cell_type": "code",
   "execution_count": 37,
   "metadata": {
    "collapsed": false
   },
   "outputs": [],
   "source": [
    "data = load_data(data_path)"
   ]
  },
  {
   "cell_type": "code",
   "execution_count": 7,
   "metadata": {
    "collapsed": false
   },
   "outputs": [
    {
     "data": {
      "text/html": [
       "<div>\n",
       "<style scoped>\n",
       "    .dataframe tbody tr th:only-of-type {\n",
       "        vertical-align: middle;\n",
       "    }\n",
       "\n",
       "    .dataframe tbody tr th {\n",
       "        vertical-align: top;\n",
       "    }\n",
       "\n",
       "    .dataframe thead th {\n",
       "        text-align: right;\n",
       "    }\n",
       "</style>\n",
       "<table border=\"1\" class=\"dataframe\">\n",
       "  <thead>\n",
       "    <tr style=\"text-align: right;\">\n",
       "      <th></th>\n",
       "      <th>image_id</th>\n",
       "      <th>angle</th>\n",
       "      <th>speed</th>\n",
       "    </tr>\n",
       "  </thead>\n",
       "  <tbody>\n",
       "    <tr>\n",
       "      <th>0</th>\n",
       "      <td>1</td>\n",
       "      <td>0.4375</td>\n",
       "      <td>0.0</td>\n",
       "    </tr>\n",
       "    <tr>\n",
       "      <th>1</th>\n",
       "      <td>2</td>\n",
       "      <td>0.8125</td>\n",
       "      <td>1.0</td>\n",
       "    </tr>\n",
       "    <tr>\n",
       "      <th>2</th>\n",
       "      <td>3</td>\n",
       "      <td>0.4375</td>\n",
       "      <td>1.0</td>\n",
       "    </tr>\n",
       "    <tr>\n",
       "      <th>3</th>\n",
       "      <td>4</td>\n",
       "      <td>0.6250</td>\n",
       "      <td>1.0</td>\n",
       "    </tr>\n",
       "    <tr>\n",
       "      <th>4</th>\n",
       "      <td>5</td>\n",
       "      <td>0.5000</td>\n",
       "      <td>0.0</td>\n",
       "    </tr>\n",
       "  </tbody>\n",
       "</table>\n",
       "</div>"
      ],
      "text/plain": [
       "   image_id   angle  speed\n",
       "0         1  0.4375    0.0\n",
       "1         2  0.8125    1.0\n",
       "2         3  0.4375    1.0\n",
       "3         4  0.6250    1.0\n",
       "4         5  0.5000    0.0"
      ]
     },
     "execution_count": 7,
     "metadata": {},
     "output_type": "execute_result"
    }
   ],
   "source": [
    "data.head(5)"
   ]
  },
  {
   "cell_type": "code",
   "execution_count": 8,
   "metadata": {
    "collapsed": false
   },
   "outputs": [],
   "source": [
    "data['image_id'] = data.image_id.apply(lambda x: os.path.join(data_path, 'training_data/', str(x)) + '.png')"
   ]
  },
  {
   "cell_type": "code",
   "execution_count": 10,
   "metadata": {
    "collapsed": false
   },
   "outputs": [
    {
     "data": {
      "text/html": [
       "<div>\n",
       "<style scoped>\n",
       "    .dataframe tbody tr th:only-of-type {\n",
       "        vertical-align: middle;\n",
       "    }\n",
       "\n",
       "    .dataframe tbody tr th {\n",
       "        vertical-align: top;\n",
       "    }\n",
       "\n",
       "    .dataframe thead th {\n",
       "        text-align: right;\n",
       "    }\n",
       "</style>\n",
       "<table border=\"1\" class=\"dataframe\">\n",
       "  <thead>\n",
       "    <tr style=\"text-align: right;\">\n",
       "      <th></th>\n",
       "      <th>image_id</th>\n",
       "      <th>angle</th>\n",
       "      <th>speed</th>\n",
       "    </tr>\n",
       "  </thead>\n",
       "  <tbody>\n",
       "    <tr>\n",
       "      <th>0</th>\n",
       "      <td>/Users/rahuln/PycharmProjects/PiCarNet/machine...</td>\n",
       "      <td>0.4375</td>\n",
       "      <td>0.0</td>\n",
       "    </tr>\n",
       "    <tr>\n",
       "      <th>1</th>\n",
       "      <td>/Users/rahuln/PycharmProjects/PiCarNet/machine...</td>\n",
       "      <td>0.8125</td>\n",
       "      <td>1.0</td>\n",
       "    </tr>\n",
       "    <tr>\n",
       "      <th>2</th>\n",
       "      <td>/Users/rahuln/PycharmProjects/PiCarNet/machine...</td>\n",
       "      <td>0.4375</td>\n",
       "      <td>1.0</td>\n",
       "    </tr>\n",
       "    <tr>\n",
       "      <th>3</th>\n",
       "      <td>/Users/rahuln/PycharmProjects/PiCarNet/machine...</td>\n",
       "      <td>0.6250</td>\n",
       "      <td>1.0</td>\n",
       "    </tr>\n",
       "    <tr>\n",
       "      <th>4</th>\n",
       "      <td>/Users/rahuln/PycharmProjects/PiCarNet/machine...</td>\n",
       "      <td>0.5000</td>\n",
       "      <td>0.0</td>\n",
       "    </tr>\n",
       "  </tbody>\n",
       "</table>\n",
       "</div>"
      ],
      "text/plain": [
       "                                            image_id   angle  speed\n",
       "0  /Users/rahuln/PycharmProjects/PiCarNet/machine...  0.4375    0.0\n",
       "1  /Users/rahuln/PycharmProjects/PiCarNet/machine...  0.8125    1.0\n",
       "2  /Users/rahuln/PycharmProjects/PiCarNet/machine...  0.4375    1.0\n",
       "3  /Users/rahuln/PycharmProjects/PiCarNet/machine...  0.6250    1.0\n",
       "4  /Users/rahuln/PycharmProjects/PiCarNet/machine...  0.5000    0.0"
      ]
     },
     "execution_count": 10,
     "metadata": {},
     "output_type": "execute_result"
    }
   ],
   "source": [
    "data.head()"
   ]
  },
  {
   "cell_type": "markdown",
   "metadata": {
    "collapsed": false
   },
   "source": [
    "## Data preprocessing"
   ]
  },
  {
   "cell_type": "code",
   "execution_count": 14,
   "metadata": {
    "collapsed": false
   },
   "outputs": [],
   "source": [
    "# train test split of dataset\n",
    "def data_split(data: pd.DataFrame) -> Tuple[pd.DataFrame, pd.DataFrame, pd.DataFrame]:\n",
    "    \"\"\"\n",
    "    Params\n",
    "    ------\n",
    "    data: pd.DataFrame\n",
    "        Pandas dataframe containing all data.\n",
    "    Returns\n",
    "    -------\n",
    "    Tuple[pd.DataFrame, pd.DataFrame, pd.DataFrame]\n",
    "        A tuple of train, test and val split\n",
    "    \"\"\"\n",
    "    rnd = np.random.RandomState(seed=None)\n",
    "\n",
    "    #train_data = data.sample(frac=0.7, random_state=rnd)\n",
    "    #test_data = data.loc[~data.index.isin(train_data.index)]\n",
    "    train_data, test_data = train_test_split(data, test_size=0.2, random_state=rnd.seed(1234)) # split data with test size of 20%\n",
    "    train_data, val_data = train_test_split(train_data, test_size=0.125, random_state=rnd.seed(1234)) # split data with overall test size of 10%\n",
    "\n",
    "    return train_data, test_data, val_data\n",
    "\n",
    "train_data, test_data, val_data = data_split(data)"
   ]
  },
  {
   "cell_type": "code",
   "execution_count": 15,
   "metadata": {
    "collapsed": false
   },
   "outputs": [
    {
     "data": {
      "image/png": "[encoded data removed]",
      "text/plain": [
       "<Figure size 640x480 with 1 Axes>"
      ]
     },
     "metadata": {},
     "output_type": "display_data"
    }
   ],
   "source": [
    "# plotting distribution of output labels\n",
    "def visualize(data, attr):\n",
    "    nBins = 60\n",
    "    plt.hist(data.loc[:,attr], bins=nBins)\n",
    "    plt.gca().set(title=f'Distribution of steering {attr}', ylabel='Frequency')\n",
    "\n",
    "visualize(train_data, attr='angle')"
   ]
  },
  {
   "attachments": {},
   "cell_type": "markdown",
   "metadata": {},
   "source": [
    "## Data pipeline"
   ]
  },
  {
   "cell_type": "code",
   "execution_count": 17,
   "metadata": {
    "collapsed": false
   },
   "outputs": [],
   "source": [
    "# Generate images on the fly while training model\n",
    "def img_generator(train_data: pd.DataFrame, test_data: pd.DataFrame, val_data: pd.DataFrame, BATCH_SIZE: int = 1024) -> Tuple[Iterator, Iterator, Iterator]:\n",
    "    \"\"\"\n",
    "    Params\n",
    "    ------\n",
    "    train_data: pd.DataFrame\n",
    "        Pandas dataframe containing training data\n",
    "    test_data: pd.DataFrame\n",
    "        Pandas dataframe containing testing data\n",
    "    val_data: pd.DataFrame\n",
    "        Pandas dataframe containing validation data\n",
    "    use_augmentation: bool\n",
    "        If true use image augmentations\n",
    "\n",
    "    Returns\n",
    "    -------\n",
    "    Tuple[Iterator, Iterator, Iterator]\n",
    "        keras ImageDataGenerators used for training, testing and validating model.\n",
    "    \"\"\"\n",
    "\n",
    "    train_generator = ImageDataGenerator(\n",
    "        rescale=1.0 / 255,\n",
    "        rotation_range=5,\n",
    "        width_shift_range=0.1,\n",
    "        height_shift_range=0.1,\n",
    "        brightness_range=(0.75, 1),\n",
    "        shear_range=0.1,\n",
    "        zoom_range=[0.75, 1],\n",
    "        horizontal_flip=True,\n",
    "        validation_split=0.2)\n",
    "\n",
    "    val_generator = ImageDataGenerator(rescale=1.0 / 255)\n",
    "    test_generator = ImageDataGenerator(rescale=1.0 / 255)\n",
    "\n",
    "    train_generator = train_generator.flow_from_dataframe(dataframe=train_data,\n",
    "                                                          directory=None,\n",
    "                                                          x_col='image_id',\n",
    "                                                          y_col='angle',\n",
    "                                                          color_mode='rgb',\n",
    "                                                          target_size=(224, 224),\n",
    "                                                          class_mode='raw',\n",
    "                                                          batch_size=BATCH_SIZE,\n",
    "                                                          shuffle=True)\n",
    "\n",
    "    test_generator = test_generator.flow_from_dataframe(dataframe=test_data,\n",
    "                                                x_col='image_id',\n",
    "                                                y_col='angle',\n",
    "                                                class_mode='raw',\n",
    "                                                color_mode='rgb',\n",
    "                                                target_size=(224, 224),\n",
    "                                                batch_size=BATCH_SIZE,\n",
    "                                                shuffle=True)\n",
    "\n",
    "    val_generator = val_generator.flow_from_dataframe(dataframe=val_data,\n",
    "                                               x_col='image_id',\n",
    "                                               y_col='angle',\n",
    "                                               class_mode='raw',\n",
    "                                               color_mode='rgb',\n",
    "                                               target_size=(224, 224),\n",
    "                                               batch_size=BATCH_SIZE,\n",
    "                                               shuffle=True)\n",
    "\n",
    "\n",
    "\n",
    "    return train_generator, test_generator, val_generator\n"
   ]
  },
  {
   "cell_type": "code",
   "execution_count": 18,
   "metadata": {
    "collapsed": false
   },
   "outputs": [],
   "source": [
    "# create base model using transfer learning\n",
    "def create_baseline_model(input_shape, dropout_rate, optimizer) -> Sequential:\n",
    "    \"\"\"Creates a baseline model from MobileNetV2\n",
    "\n",
    "    Params\n",
    "    ------\n",
    "    input_shape: input dimensions of image (224x224x3).\n",
    "    dropout_rate: Applies Dropout to the input, to prevent over-fitting.\n",
    "    optimizer: Optimization algorithm.\n",
    "\n",
    "    Returns\n",
    "    -------\n",
    "    Sequential\n",
    "        The keras model.\n",
    "    \"\"\"\n",
    "    mobilenet = MobileNetV2(include_top=False, weights='imagenet', input_shape=input_shape)\n",
    "    mobilenet.trainable = False # Freeze the model\n",
    "\n",
    "    # Rebuild top\n",
    "    model = Sequential()\n",
    "    model.add(mobilenet)\n",
    "    model.add(GlobalAveragePooling2D())\n",
    "    model.add(Dropout(dropout_rate))\n",
    "    model.add(Dense(1, activation='linear'))\n",
    "    model.compile(loss='mean_squared_error', optimizer=optimizer, metrics=['mse'])\n",
    "    return model\n",
    "\n",
    "# NOTE: we might need more complex model suggested by NVIDIA\n",
    "# ref: https://towardsdatascience.com/teaching-cars-to-drive-using-deep-learning-steering-angle-prediction-5773154608f2"
   ]
  },
  {
   "cell_type": "code",
   "execution_count": 19,
   "metadata": {
    "collapsed": false
   },
   "outputs": [
    {
     "name": "stdout",
     "output_type": "stream",
     "text": [
      "Metal device set to: Apple M1 Pro\n"
     ]
    },
    {
     "name": "stderr",
     "output_type": "stream",
     "text": [
      "2023-03-08 21:02:24.516962: I tensorflow/core/common_runtime/pluggable_device/pluggable_device_factory.cc:306] Could not identify NUMA node of platform GPU ID 0, defaulting to 0. Your kernel may not have been built with NUMA support.\n",
      "2023-03-08 21:02:24.516993: I tensorflow/core/common_runtime/pluggable_device/pluggable_device_factory.cc:272] Created TensorFlow device (/job:localhost/replica:0/task:0/device:GPU:0 with 0 MB memory) -> physical PluggableDevice (device: 0, name: METAL, pci bus id: <undefined>)\n"
     ]
    }
   ],
   "source": [
    "IMG_HEIGHT = 224\n",
    "IMG_WIDTH = 224\n",
    "CHANNELS = 3\n",
    "input_shape = (IMG_HEIGHT, IMG_WIDTH, CHANNELS)\n",
    "\n",
    "lr = 1e-3 # learning rate\n",
    "dropout_rate = 0.5\n",
    "optimizer = Adam(learning_rate=lr)  # optimizer\n",
    "\n",
    "baseline_model = create_baseline_model(input_shape, dropout_rate, optimizer)"
   ]
  },
  {
   "cell_type": "code",
   "execution_count": 20,
   "metadata": {
    "collapsed": false
   },
   "outputs": [
    {
     "name": "stdout",
     "output_type": "stream",
     "text": [
      "Found 9654 validated image filenames.\n",
      "Found 2759 validated image filenames.\n",
      "Found 1380 validated image filenames.\n"
     ]
    }
   ],
   "source": [
    "#training_ds, testing_ds, validation_ds = create_img_pipeline(train_ds, test_ds, val_ds)\n",
    "train_generator, test_generator, val_generator = img_generator(train_data, test_data, val_data, BATCH_SIZE=32)"
   ]
  },
  {
   "cell_type": "code",
   "execution_count": 25,
   "metadata": {
    "collapsed": false
   },
   "outputs": [],
   "source": [
    "# defining callbacks\n",
    "def get_callbacks(model: str) -> List[Union[TensorBoard, EarlyStopping, ModelCheckpoint]]:\n",
    "    \"\"\"Accepts the model name as a string and returns multiple keras callbacks\n",
    "\n",
    "    Params\n",
    "    ------\n",
    "    model: str\n",
    "        The name of model as a string\n",
    "\n",
    "    Returns\n",
    "    -------\n",
    "    A list of multiple keras callbacks\n",
    "    \"\"\"\n",
    "    logdir = (\n",
    "        'logs/scalars' + model + '_' + datetime.now().strftime('%Y%m%d-%H%M%S')\n",
    "    ) # logging for each model\n",
    "    tensorboard_callback = tf.keras.callbacks.TensorBoard(log_dir=logdir)\n",
    "\n",
    "    early_stopping_callback = EarlyStopping(\n",
    "        monitor=\"mse\",\n",
    "        min_delta=1,  # model should improve by at least 1%\n",
    "        patience=10,  # amount of epochs  with improvements worse than 1% until the model stops\n",
    "        verbose=2,\n",
    "        mode=\"min\",\n",
    "        restore_best_weights=True,  # restore the best model with the lowest validation error\n",
    "    )\n",
    "\n",
    "    model_checkpoint_callback = ModelCheckpoint(\n",
    "        \"./data/models/\" + model + \".h5\",\n",
    "        monitor=\"mse\",\n",
    "        verbose=0,\n",
    "        save_best_only=True,  # save the best model\n",
    "        mode=\"min\",\n",
    "        save_freq=\"epoch\",  # save every epoch\n",
    "    )  # saving eff_net takes quite a bit of time\n",
    "    return [model_checkpoint_callback, tensorboard_callback, early_stopping_callback]"
   ]
  },
  {
   "cell_type": "code",
   "execution_count": 26,
   "metadata": {
    "collapsed": false
   },
   "outputs": [],
   "source": [
    "tf.keras.backend.clear_session() # clear keras session"
   ]
  },
  {
   "cell_type": "code",
   "execution_count": 27,
   "metadata": {
    "collapsed": false
   },
   "outputs": [],
   "source": [
    "with tf.GradientTape() as tape:\n",
    "    tape.reset() # This resets gradient tape"
   ]
  },
  {
   "attachments": {},
   "cell_type": "markdown",
   "metadata": {},
   "source": [
    "## Training model"
   ]
  },
  {
   "cell_type": "code",
   "execution_count": 28,
   "metadata": {
    "collapsed": false
   },
   "outputs": [
    {
     "name": "stdout",
     "output_type": "stream",
     "text": [
      "Epoch 1/100\n"
     ]
    },
    {
     "name": "stderr",
     "output_type": "stream",
     "text": [
      "2023-03-08 21:05:20.494250: I tensorflow/core/grappler/optimizers/custom_graph_optimizer_registry.cc:114] Plugin optimizer for device_type GPU is enabled.\n"
     ]
    },
    {
     "name": "stdout",
     "output_type": "stream",
     "text": [
      "302/302 [==============================] - ETA: 0s - loss: 0.0213 - mse: 0.0213"
     ]
    },
    {
     "name": "stderr",
     "output_type": "stream",
     "text": [
      "2023-03-08 21:05:50.093573: I tensorflow/core/grappler/optimizers/custom_graph_optimizer_registry.cc:114] Plugin optimizer for device_type GPU is enabled.\n"
     ]
    },
    {
     "name": "stdout",
     "output_type": "stream",
     "text": [
      "302/302 [==============================] - 33s 105ms/step - loss: 0.0213 - mse: 0.0213 - val_loss: 0.0262 - val_mse: 0.0262\n",
      "Epoch 2/100\n",
      "302/302 [==============================] - 31s 102ms/step - loss: 0.0174 - mse: 0.0174 - val_loss: 0.0181 - val_mse: 0.0181\n",
      "Epoch 3/100\n",
      "302/302 [==============================] - 32s 105ms/step - loss: 0.0176 - mse: 0.0176 - val_loss: 0.0163 - val_mse: 0.0163\n",
      "Epoch 4/100\n",
      "302/302 [==============================] - 32s 104ms/step - loss: 0.0186 - mse: 0.0186 - val_loss: 0.0123 - val_mse: 0.0123\n",
      "Epoch 5/100\n",
      "302/302 [==============================] - 31s 103ms/step - loss: 0.0203 - mse: 0.0203 - val_loss: 0.0147 - val_mse: 0.0147\n",
      "Epoch 6/100\n",
      "302/302 [==============================] - 31s 102ms/step - loss: 0.0205 - mse: 0.0205 - val_loss: 0.0265 - val_mse: 0.0265\n",
      "Epoch 7/100\n",
      "302/302 [==============================] - 31s 103ms/step - loss: 0.0215 - mse: 0.0215 - val_loss: 0.0115 - val_mse: 0.0115\n",
      "Epoch 8/100\n",
      "302/302 [==============================] - 31s 102ms/step - loss: 0.0205 - mse: 0.0205 - val_loss: 0.0180 - val_mse: 0.0180\n",
      "Epoch 9/100\n",
      "302/302 [==============================] - 31s 103ms/step - loss: 0.0207 - mse: 0.0207 - val_loss: 0.0114 - val_mse: 0.0114\n",
      "Epoch 10/100\n",
      "302/302 [==============================] - 31s 102ms/step - loss: 0.0211 - mse: 0.0211 - val_loss: 0.0270 - val_mse: 0.0270\n",
      "Epoch 11/100\n",
      "302/302 [==============================] - ETA: 0s - loss: 0.0215 - mse: 0.0215Restoring model weights from the end of the best epoch: 1.\n",
      "302/302 [==============================] - 31s 102ms/step - loss: 0.0215 - mse: 0.0215 - val_loss: 0.0119 - val_mse: 0.0119\n",
      "Epoch 11: early stopping\n"
     ]
    },
    {
     "data": {
      "text/plain": [
       "<keras.callbacks.History at 0x348ce6250>"
      ]
     },
     "execution_count": 28,
     "metadata": {},
     "output_type": "execute_result"
    }
   ],
   "source": [
    "callbacks = get_callbacks('baseline_model')\n",
    "baseline_model.fit(train_generator,\n",
    "                   epochs=100,\n",
    "                   validation_data=val_generator,\n",
    "                   callbacks=callbacks,\n",
    "                   workers=4,\n",
    "                   verbose=1)"
   ]
  },
  {
   "cell_type": "code",
   "execution_count": 42,
   "metadata": {
    "collapsed": false
   },
   "outputs": [
    {
     "name": "stdout",
     "output_type": "stream",
     "text": [
      "Model: \"sequential\"\n",
      "_________________________________________________________________\n",
      " Layer (type)                Output Shape              Param #   \n",
      "=================================================================\n",
      " mobilenetv2_1.00_224 (Funct  (None, 7, 7, 1280)       2257984   \n",
      " ional)                                                          \n",
      "                                                                 \n",
      " global_average_pooling2d (G  (None, 1280)             0         \n",
      " lobalAveragePooling2D)                                          \n",
      "                                                                 \n",
      " dropout (Dropout)           (None, 1280)              0         \n",
      "                                                                 \n",
      " dense (Dense)               (None, 1)                 1281      \n",
      "                                                                 \n",
      "=================================================================\n",
      "Total params: 2,259,265\n",
      "Trainable params: 1,281\n",
      "Non-trainable params: 2,257,984\n",
      "_________________________________________________________________\n"
     ]
    }
   ],
   "source": [
    "baseline_model.summary()"
   ]
  }
 ],
 "metadata": {
  "kernelspec": {
   "display_name": "Python 3",
   "language": "python",
   "name": "python3"
  },
  "language_info": {
   "codemirror_mode": {
    "name": "ipython",
    "version": 2
   },
   "file_extension": ".py",
   "mimetype": "text/x-python",
   "name": "python",
   "nbconvert_exporter": "python",
   "pygments_lexer": "ipython2",
   "version": "2.7.6"
  }
 },
 "nbformat": 4,
 "nbformat_minor": 0
}
