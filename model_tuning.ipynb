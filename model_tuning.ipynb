{
 "cells": [
  {
   "cell_type": "code",
   "execution_count": 1,
   "metadata": {
    "execution": {
     "iopub.execute_input": "2023-03-17T23:57:13.078783Z",
     "iopub.status.busy": "2023-03-17T23:57:13.077845Z",
     "iopub.status.idle": "2023-03-17T23:57:13.092412Z",
     "shell.execute_reply": "2023-03-17T23:57:13.091095Z",
     "shell.execute_reply.started": "2023-03-17T23:57:13.078745Z"
    },
    "id": "BlIfrc1Gl2fu",
    "trusted": true
   },
   "outputs": [],
   "source": [
    "# Importing dependencies\n",
    "import pandas as pd\n",
    "import os\n",
    "import numpy as np\n",
    "from datetime import datetime\n",
    "from typing import List, Union, Iterator, Tuple, Any\n",
    "%matplotlib inline\n",
    "import matplotlib.pyplot as plt\n",
    "plt.style.use('dark_background')\n",
    "from functools import partial\n",
    "from sklearn.model_selection import train_test_split\n",
    "\n",
    "import tensorflow as tf\n",
    "from keras.preprocessing.image import ImageDataGenerator\n",
    "from keras.layers import Dense, Dropout, GlobalAveragePooling2D, BatchNormalization, Input, Activation, Flatten, Lambda, Resizing, MaxPooling2D,  Conv2D, Concatenate, UpSampling2D, Cropping2D\n",
    "from keras.models import Sequential, Model, load_model\n",
    "from keras.applications import mobilenet_v2, inception_v3, resnet, vgg16, xception, EfficientNetV2S, EfficientNetV2B0, mobilenet_v3\n",
    "from keras.callbacks import Callback, EarlyStopping, ModelCheckpoint, TensorBoard, History, LearningRateScheduler, ReduceLROnPlateau\n",
    "from keras.optimizers import Adam, RMSprop, SGD, Adagrad, Nadam\n",
    "from keras.losses import mean_squared_error\n",
    "import keras_tuner as kt\n",
    "from keras import backend"
   ]
  },
  {
   "cell_type": "code",
   "execution_count": 2,
   "metadata": {
    "collapsed": false
   },
   "outputs": [],
   "source": [
    "# global variables\n",
    "IMG_HEIGHT = 160 # image height\n",
    "IMG_WIDTH = 200 # image width\n",
    "CHANNELS = 3 # choose 1 if you're working with grayscale images else 3\n",
    "BATCH_SIZE = 32 # number of images to process in one batch\n",
    "epochs = 100 # number of epochs\n",
    "step_size = 100 # number of steps per epoch\n",
    "val_step_size = 80 # number of steps per epoch for validation data\n",
    "data_path='./machine-learning-in-science-ii-2023' # parent path to training and testing data"
   ]
  },
  {
   "cell_type": "code",
   "execution_count": 3,
   "metadata": {
    "execution": {
     "iopub.execute_input": "2023-03-17T23:56:37.582989Z",
     "iopub.status.busy": "2023-03-17T23:56:37.582697Z",
     "iopub.status.idle": "2023-03-17T23:56:37.595473Z",
     "shell.execute_reply": "2023-03-17T23:56:37.594541Z",
     "shell.execute_reply.started": "2023-03-17T23:56:37.582964Z"
    },
    "id": "0cmhIYoJn-V0",
    "trusted": true
   },
   "outputs": [],
   "source": [
    "def load_data(data_path: str) -> pd.DataFrame:\n",
    "    \"\"\"Loads data from csv file\n",
    "    Params\n",
    "    ------\n",
    "    data_path: str\n",
    "        Data path containing images and csv data\n",
    "    Returns\n",
    "    -------\n",
    "    pd.DataFrame\n",
    "        Loaded data as pandas dataframe\n",
    "    \"\"\"\n",
    "    columns = ['image_id', 'angle', 'speed']\n",
    "    data = pd.read_csv(os.path.join(data_path, 'training_norm.csv'), delimiter= ',', header=0, names = columns)\n",
    "\n",
    "    return data"
   ]
  },
  {
   "cell_type": "code",
   "execution_count": 4,
   "metadata": {
    "execution": {
     "iopub.execute_input": "2023-03-17T23:56:37.597362Z",
     "iopub.status.busy": "2023-03-17T23:56:37.597072Z",
     "iopub.status.idle": "2023-03-17T23:56:37.608576Z",
     "shell.execute_reply": "2023-03-17T23:56:37.607567Z",
     "shell.execute_reply.started": "2023-03-17T23:56:37.597337Z"
    },
    "id": "9xggw4koo26n",
    "trusted": true
   },
   "outputs": [],
   "source": [
    "# Appends absolute path with image id column\n",
    "def append_path(data: pd.DataFrame, data_path: os.PathLike) -> pd.DataFrame:\n",
    "  data['image_id'] = data.image_id.apply(lambda x: os.path.join(data_path, 'training_data/', str(x)) + '.png')\n",
    "  return data"
   ]
  },
  {
   "cell_type": "markdown",
   "metadata": {
    "id": "AWsOtfs-o8SQ"
   },
   "source": [
    "## Data preprocessing"
   ]
  },
  {
   "cell_type": "code",
   "execution_count": 5,
   "metadata": {
    "execution": {
     "iopub.execute_input": "2023-03-17T23:56:37.610139Z",
     "iopub.status.busy": "2023-03-17T23:56:37.609823Z",
     "iopub.status.idle": "2023-03-17T23:56:37.619261Z",
     "shell.execute_reply": "2023-03-17T23:56:37.618326Z",
     "shell.execute_reply.started": "2023-03-17T23:56:37.610112Z"
    },
    "id": "6TMHCf2Go-nC",
    "trusted": true
   },
   "outputs": [],
   "source": [
    "# train test split of dataset\n",
    "def split_data(data: pd.DataFrame) -> Tuple[pd.DataFrame, pd.DataFrame]:\n",
    "    \"\"\"\n",
    "    Params\n",
    "    ------\n",
    "    data: pd.DataFrame\n",
    "        Pandas dataframe containing all data.\n",
    "    Returns\n",
    "    -------\n",
    "    Tuple[pd.DataFrame, pd.DataFrame]\n",
    "        A tuple of train and val split\n",
    "    \"\"\"\n",
    "    rnd = np.random.RandomState(seed=None)\n",
    "\n",
    "    train_data, val_data = train_test_split(data, test_size=0.2, random_state=rnd.seed(1234)) # split data with test size of 20%\n",
    "    #test_data, val_data = train_test_split(train_data, test_size=0.12, random_state=rnd.seed(1234)) # split validation data with test size of 12.5%\n",
    "    return train_data, val_data"
   ]
  },
  {
   "cell_type": "code",
   "execution_count": 6,
   "metadata": {
    "execution": {
     "iopub.execute_input": "2023-03-17T23:56:37.622551Z",
     "iopub.status.busy": "2023-03-17T23:56:37.621683Z",
     "iopub.status.idle": "2023-03-17T23:56:37.638621Z",
     "shell.execute_reply": "2023-03-17T23:56:37.637780Z",
     "shell.execute_reply.started": "2023-03-17T23:56:37.622521Z"
    },
    "id": "Ti7mUZzHKJa4",
    "trusted": true
   },
   "outputs": [],
   "source": [
    "data = load_data(data_path)"
   ]
  },
  {
   "cell_type": "code",
   "execution_count": 7,
   "metadata": {
    "colab": {
     "base_uri": "https://localhost:8080/",
     "height": 206
    },
    "execution": {
     "iopub.execute_input": "2023-03-17T23:56:37.640164Z",
     "iopub.status.busy": "2023-03-17T23:56:37.639858Z",
     "iopub.status.idle": "2023-03-17T23:56:37.650872Z",
     "shell.execute_reply": "2023-03-17T23:56:37.649944Z",
     "shell.execute_reply.started": "2023-03-17T23:56:37.640137Z"
    },
    "id": "sEErtJDaKTqQ",
    "outputId": "da41ac5c-cec2-4a23-d6c7-041528ea4906",
    "trusted": true
   },
   "outputs": [
    {
     "data": {
      "text/plain": "   image_id   angle  speed\n0         1  0.4375    0.0\n1         2  0.8125    1.0\n2         3  0.4375    1.0\n3         4  0.6250    1.0\n4         5  0.5000    0.0",
      "text/html": "<div>\n<style scoped>\n    .dataframe tbody tr th:only-of-type {\n        vertical-align: middle;\n    }\n\n    .dataframe tbody tr th {\n        vertical-align: top;\n    }\n\n    .dataframe thead th {\n        text-align: right;\n    }\n</style>\n<table border=\"1\" class=\"dataframe\">\n  <thead>\n    <tr style=\"text-align: right;\">\n      <th></th>\n      <th>image_id</th>\n      <th>angle</th>\n      <th>speed</th>\n    </tr>\n  </thead>\n  <tbody>\n    <tr>\n      <th>0</th>\n      <td>1</td>\n      <td>0.4375</td>\n      <td>0.0</td>\n    </tr>\n    <tr>\n      <th>1</th>\n      <td>2</td>\n      <td>0.8125</td>\n      <td>1.0</td>\n    </tr>\n    <tr>\n      <th>2</th>\n      <td>3</td>\n      <td>0.4375</td>\n      <td>1.0</td>\n    </tr>\n    <tr>\n      <th>3</th>\n      <td>4</td>\n      <td>0.6250</td>\n      <td>1.0</td>\n    </tr>\n    <tr>\n      <th>4</th>\n      <td>5</td>\n      <td>0.5000</td>\n      <td>0.0</td>\n    </tr>\n  </tbody>\n</table>\n</div>"
     },
     "execution_count": 7,
     "metadata": {},
     "output_type": "execute_result"
    }
   ],
   "source": [
    "data.head()"
   ]
  },
  {
   "cell_type": "code",
   "execution_count": 8,
   "metadata": {
    "execution": {
     "iopub.execute_input": "2023-03-17T23:56:37.652167Z",
     "iopub.status.busy": "2023-03-17T23:56:37.651894Z",
     "iopub.status.idle": "2023-03-17T23:56:37.716624Z",
     "shell.execute_reply": "2023-03-17T23:56:37.715658Z",
     "shell.execute_reply.started": "2023-03-17T23:56:37.652144Z"
    },
    "id": "cQ_RoYeBKXqB",
    "trusted": true
   },
   "outputs": [],
   "source": [
    "data = append_path(data, data_path)"
   ]
  },
  {
   "cell_type": "code",
   "execution_count": 9,
   "metadata": {
    "execution": {
     "iopub.execute_input": "2023-03-17T23:56:37.718058Z",
     "iopub.status.busy": "2023-03-17T23:56:37.717778Z",
     "iopub.status.idle": "2023-03-17T23:56:37.724303Z",
     "shell.execute_reply": "2023-03-17T23:56:37.723444Z",
     "shell.execute_reply.started": "2023-03-17T23:56:37.718034Z"
    },
    "trusted": true
   },
   "outputs": [
    {
     "data": {
      "text/plain": "'./machine-learning-in-science-ii-2023/training_data/2.png'"
     },
     "execution_count": 9,
     "metadata": {},
     "output_type": "execute_result"
    }
   ],
   "source": [
    "# image_id should contain complete path for images \n",
    "data['image_id'].tolist()[1]"
   ]
  },
  {
   "cell_type": "code",
   "execution_count": 10,
   "outputs": [],
   "source": [
    "data.to_csv('./new_training_data.csv', sep=',')"
   ],
   "metadata": {
    "collapsed": false
   }
  },
  {
   "cell_type": "code",
   "execution_count": 11,
   "metadata": {
    "execution": {
     "iopub.execute_input": "2023-03-17T23:56:37.725700Z",
     "iopub.status.busy": "2023-03-17T23:56:37.725444Z",
     "iopub.status.idle": "2023-03-17T23:56:37.735690Z",
     "shell.execute_reply": "2023-03-17T23:56:37.734789Z",
     "shell.execute_reply.started": "2023-03-17T23:56:37.725677Z"
    },
    "id": "4ikSujIRK058",
    "trusted": true
   },
   "outputs": [],
   "source": [
    "# splitting data into training and validation set\n",
    "train_data, val_data = split_data(data)"
   ]
  },
  {
   "cell_type": "code",
   "execution_count": 12,
   "metadata": {
    "execution": {
     "iopub.execute_input": "2023-03-17T23:56:37.738942Z",
     "iopub.status.busy": "2023-03-17T23:56:37.738610Z",
     "iopub.status.idle": "2023-03-17T23:56:37.744803Z",
     "shell.execute_reply": "2023-03-17T23:56:37.743894Z",
     "shell.execute_reply.started": "2023-03-17T23:56:37.738916Z"
    },
    "id": "xLyPZ2tjpCEh",
    "trusted": true
   },
   "outputs": [],
   "source": [
    "# plotting distribution of output labels\n",
    "def visualize(data):\n",
    "    plt.hist(data.loc[:,'angle'])\n",
    "    plt.hist(data.loc[:,'speed'])\n",
    "    plt.legend(['Steering angle', 'Driving speed'])\n",
    "    plt.title('Distribution plot for steering angle and speed')\n",
    "    plt.grid(False)\n",
    "    plt.show()"
   ]
  },
  {
   "cell_type": "code",
   "execution_count": 13,
   "metadata": {
    "colab": {
     "base_uri": "https://localhost:8080/",
     "height": 279
    },
    "execution": {
     "iopub.execute_input": "2023-03-17T23:56:37.746148Z",
     "iopub.status.busy": "2023-03-17T23:56:37.745894Z",
     "iopub.status.idle": "2023-03-17T23:56:38.025551Z",
     "shell.execute_reply": "2023-03-17T23:56:38.024548Z",
     "shell.execute_reply.started": "2023-03-17T23:56:37.746125Z"
    },
    "id": "HZsDngK805Ap",
    "outputId": "dc67edeb-fd54-4371-ec8e-1eb054829647",
    "trusted": true
   },
   "outputs": [
    {
     "data": {
      "text/plain": "<Figure size 640x480 with 1 Axes>",
      "image/png": "[encoded data removed]"
     },
     "metadata": {},
     "output_type": "display_data"
    }
   ],
   "source": [
    "# Plotting train_data\n",
    "visualize(data=train_data)"
   ]
  },
  {
   "cell_type": "markdown",
   "metadata": {
    "id": "-BCbMBY8pJad"
   },
   "source": [
    "## Data pipeline"
   ]
  },
  {
   "cell_type": "code",
   "execution_count": 14,
   "metadata": {
    "collapsed": false
   },
   "outputs": [],
   "source": [
    "def modify_rgb(img, height: int = 224, width: int= 224, color_mode: str='rgb'):\n",
    "    img = tf.image.resize(img, size=(height, width)) # resize image to given height and width\n",
    "    img = tf.image.convert_image_dtype(img, tf.float32) # convert image to float32\n",
    "    if color_mode == 'yuv':\n",
    "        # normalize pixel values between -1 and 1\n",
    "        img = tf.image.per_image_standardization(img)\n",
    "        img = tf.image.rgb_to_yuv(img) # convert image to YUV\n",
    "    elif color_mode == 'grayscale':\n",
    "        img = tf.image.per_image_standardization(img) # normalize pixel values between -1 and 1\n",
    "        img = tf.image.rgb_to_grayscale(img) # convert to Grayscale\n",
    "    elif color_mode == 'hsv':\n",
    "        img = tf.image.rgb_to_hsv(img) # convert image to YUV\n",
    "        img = tf.image.per_image_standardization(img) # normalize pixel values between -1 and 1\n",
    "    else:\n",
    "        img = tf.image.per_image_standardization(img) # normalize pixel values between -1 and 1\n",
    "    # return modified image\n",
    "    return img"
   ]
  },
  {
   "cell_type": "code",
   "execution_count": 15,
   "metadata": {
    "execution": {
     "iopub.execute_input": "2023-03-17T23:56:38.027203Z",
     "iopub.status.busy": "2023-03-17T23:56:38.026894Z",
     "iopub.status.idle": "2023-03-17T23:56:38.039886Z",
     "shell.execute_reply": "2023-03-17T23:56:38.038888Z",
     "shell.execute_reply.started": "2023-03-17T23:56:38.027177Z"
    },
    "id": "XPc65R3CpE37",
    "trusted": true
   },
   "outputs": [],
   "source": [
    "# Generate images on the fly while training model\n",
    "def img_generator(train_data: pd.DataFrame, test_dir: os.PathLike, val_data: pd.DataFrame, BATCH_SIZE: int, IMG_HEIGHT: int, IMG_WIDTH: int, color_mode: str='rgb') -> Tuple[Iterator, Iterator, Iterator]:\n",
    "    \"\"\"\n",
    "    Params\n",
    "    ------\n",
    "    train_data: pd.DataFrame\n",
    "        Pandas dataframe containing training data\n",
    "    test_dir: os.PathLike\n",
    "        Path containing testing data\n",
    "    val_data: pd.DataFrame\n",
    "        Pandas dataframe containing validation data\n",
    "    BATCH_SIZE: int\n",
    "        Number of images to process in each batch\n",
    "    IMG_HEIGHT: int\n",
    "        image height\n",
    "    IMG_WIDTH: int\n",
    "        image width\n",
    "\n",
    "    Returns\n",
    "    -------\n",
    "    Tuple[Iterator, Iterator, Iterator]\n",
    "        keras ImageDataGenerators used for training and validating model.\n",
    "    \"\"\"\n",
    "    # Define partial function to pass image height and width to preprocessing function\n",
    "    preprocess_input = partial(modify_rgb, height=IMG_HEIGHT, width=IMG_WIDTH, color_mode=color_mode)\n",
    "    # Define a dictionary of arguments for the data generators\n",
    "    datagen_args = dict(\n",
    "        #rescale=(1.0 / 255), # normalize pixels in range 0 and 1\n",
    "        rotation_range=20,\n",
    "        shear_range=0.1,\n",
    "        width_shift_range=0.2,\n",
    "        height_shift_range=0.2,\n",
    "        brightness_range=(0.65, 1.2),\n",
    "        zoom_range=(0.70, 1.2),\n",
    "        fill_mode='reflect',\n",
    "        samplewise_center=False,\n",
    "        horizontal_flip=False,\n",
    "        vertical_flip=False\n",
    "        )\n",
    "\n",
    "    # Define data generators with datagen arguments\n",
    "    train_generator = ImageDataGenerator(**datagen_args, preprocessing_function=preprocess_input)\n",
    "    test_generator = ImageDataGenerator(**datagen_args, preprocessing_function=preprocess_input)\n",
    "    val_generator = ImageDataGenerator(**datagen_args, preprocessing_function=preprocess_input)\n",
    "\n",
    "\n",
    "    train_generator = train_generator.flow_from_dataframe(dataframe=train_data,\n",
    "                                                          directory=None,\n",
    "                                                          x_col='image_id',\n",
    "                                                          y_col=['angle','speed'],\n",
    "                                                          target_size=(IMG_HEIGHT, IMG_WIDTH),\n",
    "                                                          color_mode='rgb',\n",
    "                                                          class_mode='raw',\n",
    "                                                          batch_size=BATCH_SIZE,\n",
    "                                                          seed=tf.random.set_seed(1234),\n",
    "                                                          shuffle=True)\n",
    "\n",
    "    test_generator = test_generator.flow_from_directory(directory=test_dir,\n",
    "                                                        target_size=(IMG_HEIGHT, IMG_WIDTH),\n",
    "                                                        color_mode='rgb',\n",
    "                                                        class_mode=None,\n",
    "                                                        classes=None,\n",
    "                                                        batch_size=1, # Process whole batch at once\n",
    "                                                        seed=tf.random.set_seed(1234),\n",
    "                                                        shuffle=False)\n",
    "\n",
    "    val_generator = val_generator.flow_from_dataframe(dataframe=val_data,\n",
    "                                                      directory=None,\n",
    "                                                      x_col='image_id',\n",
    "                                                      y_col=['angle', 'speed'],\n",
    "                                                      target_size=(IMG_HEIGHT, IMG_WIDTH),\n",
    "                                                      color_mode='rgb',\n",
    "                                                      class_mode='raw',\n",
    "                                                      batch_size=BATCH_SIZE,\n",
    "                                                      seed=tf.random.set_seed(1234),\n",
    "                                                      shuffle=True)\n",
    "                                                      #save_to_dir='machine-learning-in-science-ii-2023/augmentations', save_format='png')\n",
    "\n",
    "    return train_generator, test_generator, val_generator\n"
   ]
  },
  {
   "cell_type": "code",
   "execution_count": 16,
   "metadata": {
    "colab": {
     "base_uri": "https://localhost:8080/"
    },
    "execution": {
     "iopub.execute_input": "2023-03-17T23:56:38.041255Z",
     "iopub.status.busy": "2023-03-17T23:56:38.041011Z",
     "iopub.status.idle": "2023-03-17T23:56:43.197941Z",
     "shell.execute_reply": "2023-03-17T23:56:43.196645Z",
     "shell.execute_reply.started": "2023-03-17T23:56:38.041233Z"
    },
    "id": "e2qxYfeC1uim",
    "outputId": "6e5e1fb0-ac21-4f02-b996-5a0b331f27ac",
    "trusted": true
   },
   "outputs": [
    {
     "name": "stdout",
     "output_type": "stream",
     "text": [
      "Found 11034 validated image filenames.\n",
      "Found 1020 images belonging to 1 classes.\n",
      "Found 2759 validated image filenames.\n"
     ]
    }
   ],
   "source": [
    "# create data generators for train test and val data\n",
    "#training_ds, testing_ds, validation_ds = create_img_pipeline(train_ds, test_ds, val_ds)\n",
    "test_dir = os.path.join(data_path, 'test_data')\n",
    "\n",
    "train_generator, test_generator, val_generator = img_generator(train_data, test_dir, val_data, BATCH_SIZE=BATCH_SIZE, IMG_HEIGHT=IMG_HEIGHT, IMG_WIDTH=IMG_WIDTH, color_mode='rgb')"
   ]
  },
  {
   "cell_type": "code",
   "execution_count": 17,
   "metadata": {
    "collapsed": false
   },
   "outputs": [],
   "source": [
    "for batch in range(1):\n",
    "    next(val_generator)"
   ]
  },
  {
   "cell_type": "code",
   "execution_count": 18,
   "metadata": {},
   "outputs": [],
   "source": [
    "class TestMSECallback(Callback):\n",
    "    def __init__(self, test_generator):\n",
    "        super().__init__()\n",
    "        self.test_generator = test_generator\n",
    "\n",
    "    def on_epoch_end(self, epoch, logs={}):\n",
    "        y_true = self.test_generator.labels\n",
    "        y_pred = self.model.predict(self.test_generator)\n",
    "        mse = mean_squared_error(y_true, y_pred).numpy()\n",
    "        logs['test_mse'] = float(mse)\n",
    "        print(f'MSE on test data at the end of epoch {epoch+1}: {float(mse):.5f}')"
   ]
  },
  {
   "cell_type": "code",
   "execution_count": 19,
   "metadata": {
    "collapsed": false
   },
   "outputs": [],
   "source": [
    "# Define a function to adjust learning rate if val_loss has seen no improvements after 5 epochs\n",
    "class CustomLearningRateScheduler(Callback):\n",
    "    \"\"\"Custom Learning rate scheduler which sets learning rate according to a schedule\"\"\"\n",
    "    def __init__(self, factor=0.1, patience=5, verbose=0):\n",
    "        super(CustomLearningRateScheduler, self).__init__()\n",
    "        self.factor = factor\n",
    "        self.patience = patience\n",
    "        self.verbose = verbose if verbose is not None else 0\n",
    "        self.best_val_loss = float('inf')\n",
    "        self.wait = 0\n",
    "        self.new_lr = None # Initialize new_lr to None\n",
    "\n",
    "    def on_epoch_end(self, epoch, logs=None):\n",
    "        val_loss = logs.get('val_loss')\n",
    "\n",
    "        if val_loss < self.best_val_loss: # if current val_loss is less than best_val_loss\n",
    "            self.best_val_loss = val_loss # update new best_val_loss\n",
    "            self.wait = 0\n",
    "        else:\n",
    "            self.wait += 1 # Start wait timer\n",
    "            if self.wait >= self.patience and self.new_lr is None:\n",
    "                old_lr = float(backend.get_value(self.model.optimizer.learning_rate))\n",
    "                self.new_lr = old_lr * self.factor\n",
    "            if self.verbose == 1:\n",
    "                print(f'\\nEpoch {epoch}: Reducing learning rate to {self.new_lr:.6f}')\n",
    "            backend.set_value(self.model.optimizer.learning_rate, self.new_lr)\n",
    "            self.wait = 0"
   ]
  },
  {
   "cell_type": "code",
   "execution_count": 20,
   "metadata": {
    "collapsed": false
   },
   "outputs": [],
   "source": [
    "# Custom callback to end training when val_loss is NaN\n",
    "class TerminateOnNaN(Callback):\n",
    "    def on_epoch_end(self, epoch, logs=None):\n",
    "        val_loss = logs.get('val_loss')\n",
    "        if val_loss is not None and np.isnan(val_loss):\n",
    "            print('Validation loss is NaN. Stopping training.')\n",
    "            self.model.stop_training = True"
   ]
  },
  {
   "cell_type": "code",
   "execution_count": 21,
   "metadata": {
    "execution": {
     "iopub.execute_input": "2023-03-17T23:56:43.199776Z",
     "iopub.status.busy": "2023-03-17T23:56:43.199411Z",
     "iopub.status.idle": "2023-03-17T23:56:43.208718Z",
     "shell.execute_reply": "2023-03-17T23:56:43.207823Z",
     "shell.execute_reply.started": "2023-03-17T23:56:43.199746Z"
    },
    "id": "o5T5ByyEx5HA",
    "trusted": true
   },
   "outputs": [],
   "source": [
    "# defining callbacks\n",
    "def get_callbacks(model: str) -> List[Union[TensorBoard, EarlyStopping, ModelCheckpoint, LearningRateScheduler]]:\n",
    "    \"\"\"Accepts the model name as a string and returns multiple keras callbacks\n",
    "\n",
    "    Params\n",
    "    ------\n",
    "    model: str\n",
    "        The name of model as a string\n",
    "\n",
    "    Returns\n",
    "    -------\n",
    "    A list of multiple keras callbacks\n",
    "    \"\"\"\n",
    "    logdir = (\n",
    "        'logs/scalars/' + model + '_' + datetime.now().strftime('%Y%m%d-%H%M%S')\n",
    "    ) # logging for each model\n",
    "    tensorboard_callback = TensorBoard(log_dir=logdir)\n",
    "\n",
    "    early_stopping_callback = EarlyStopping(\n",
    "        monitor='val_loss',\n",
    "        min_delta=0.001,  # model should improve by at least 0.1\n",
    "        patience=20,  # amount of epochs  with improvements worse than 1% until the model stops\n",
    "        verbose=1,\n",
    "        baseline=0.009,\n",
    "        mode='min',\n",
    "        restore_best_weights=True,  # restore the best model with the lowest validation error\n",
    "    )\n",
    "\n",
    "    model_checkpoint_callback = ModelCheckpoint(\n",
    "        './data/models/' + model + '.h5',\n",
    "        monitor='val_loss',\n",
    "        verbose=0,\n",
    "        save_best_only=True,  # save the best model\n",
    "        mode='min',\n",
    "        save_freq='epoch',  # save the model on disk at end of every epoch\n",
    "    )\n",
    "\n",
    "    #lr_callback = LearningRateScheduler(schedule_decay)\n",
    "    reduce_lr_callback = ReduceLROnPlateau(monitor='val_loss',\n",
    "                                    factor=0.1,\n",
    "                                    patience=10,\n",
    "                                    cooldown=5,\n",
    "                                    verbose=1,\n",
    "                                    mode='min',\n",
    "                                    min_delta=0.0001,\n",
    "                                    min_lr=1e-9\n",
    "    )\n",
    "    #custom_lr_callback = CustomLearningRateScheduler()\n",
    "    term_on_nan_callback = TerminateOnNaN()\n",
    "\n",
    "    return [tensorboard_callback, early_stopping_callback, model_checkpoint_callback, reduce_lr_callback, term_on_nan_callback]"
   ]
  },
  {
   "cell_type": "code",
   "execution_count": 22,
   "metadata": {
    "collapsed": false
   },
   "outputs": [],
   "source": [
    "## Define train method\n",
    "def train(name: str, model: Model, train_generator: Iterator, val_generator: Iterator, epochs: int, BATCH_SIZE: int, step_size: int, val_step_size: int) -> History:\n",
    "    \"\"\"Used to train a model\n",
    "    Params\n",
    "    ------\n",
    "    name: str\n",
    "        Model name\n",
    "    model: keras.models.Model\n",
    "        Model we are training\n",
    "    train_generator: Iterator=\n",
    "        Image data generator for training\n",
    "    test_generator: Iterator\n",
    "        Image data generator for testing\n",
    "    val_generator: Iterator\n",
    "        Image data generator for validation\n",
    "    epoch: int\n",
    "        Number of epochs to train for\n",
    "    Returns\n",
    "    -------\n",
    "    keras.callbacks.History\n",
    "    \"\"\"\n",
    "    callbacks = get_callbacks(name)\n",
    "\n",
    "    history = model.fit(train_generator,\n",
    "              epochs=epochs,\n",
    "              steps_per_epoch=step_size,\n",
    "              validation_data=val_generator,\n",
    "              validation_steps=val_step_size,\n",
    "              callbacks=callbacks,\n",
    "              workers=6,\n",
    "              verbose=1,\n",
    "              batch_size=BATCH_SIZE)\n",
    "\n",
    "    return history"
   ]
  },
  {
   "cell_type": "code",
   "execution_count": 23,
   "metadata": {
    "collapsed": false
   },
   "outputs": [],
   "source": [
    "def conv_block(input, filters, kernel_size, strides: Any=(1,1), padding: str='same', activation: str='relu'):\n",
    "    x = Conv2D(filters=filters, kernel_size=kernel_size, strides=strides, padding=padding)(input)\n",
    "    x = Activation(activation)(x)\n",
    "    #x = MaxPooling2D((2, 2), padding='same')(x)\n",
    "    return x"
   ]
  },
  {
   "cell_type": "code",
   "execution_count": 24,
   "metadata": {
    "collapsed": false
   },
   "outputs": [],
   "source": [
    "# Custom activation function\n",
    "@tf.function\n",
    "def mish(x):\n",
    "    return x * tf.math.tanh(tf.math.softplus(x))"
   ]
  },
  {
   "cell_type": "code",
   "execution_count": 25,
   "metadata": {
    "collapsed": false
   },
   "outputs": [],
   "source": [
    "# Reference to original paper: https://images.nvidia.com/content/tegra/automotive/images/2016/solutions/pdf/end-to-end-dl-using-px.pdf\n",
    "def create_nvidia_model(input_shape, dropout_rate, optimizer) -> Model:\n",
    "    \"\"\"Creates cnn model based on architecture proposed by NVIDIA\n",
    "    Parmas\n",
    "    -------\n",
    "    input_shape: Any\n",
    "    dropout_rate: float\n",
    "    optimizer: keras.optimizers\n",
    "\n",
    "    Returns\n",
    "    -------\n",
    "    \"\"\"\n",
    "    # Define kernel_initializers\n",
    "    glorot_init = tf.keras.initializers.GlorotNormal(seed=42)\n",
    "    he_init = tf.keras.initializers.HeNormal(seed=42)\n",
    "\n",
    "    # Define model\n",
    "    model = Sequential(name='nvidia_model')\n",
    "    # Cropping input image from 240x320 to 370x110\n",
    "    model.add(Cropping2D(cropping=((0, 130), (85, 5)), input_shape=input_shape))\n",
    "\n",
    "    # Resizing cropped image from 370x110 to 250x70\n",
    "    model.add(Lambda(lambda x: tf.image.resize(x, size=[70, 250])))\n",
    "\n",
    "    # Convolution blocks\n",
    "    model.add(Conv2D(36, (3, 3), strides=(1, 1), padding='same', activation='relu', kernel_initializer=he_init, input_shape=input_shape))\n",
    "    model.add(BatchNormalization())\n",
    "    model.add(MaxPooling2D((2, 2), padding='valid'))\n",
    "\n",
    "    model.add(Conv2D(48, (3, 3), strides=(1, 1), padding='same', activation='relu', kernel_initializer=he_init))\n",
    "    model.add(BatchNormalization())\n",
    "    model.add(MaxPooling2D((2, 2), padding='valid'))\n",
    "\n",
    "    model.add(Conv2D(64, (3, 3), strides=(1, 1), padding='same', activation='relu', kernel_initializer=he_init))\n",
    "    model.add(BatchNormalization())\n",
    "    model.add(MaxPooling2D((2, 2), padding='same'))\n",
    "\n",
    "    model.add(Conv2D(128, (3, 3), padding='same', activation='relu', kernel_initializer=he_init))\n",
    "    model.add(BatchNormalization())\n",
    "    model.add(MaxPooling2D((2, 2), padding='same'))\n",
    "\n",
    "    model.add(Conv2D(128, (3, 3), padding='same', activation='relu', kernel_initializer=he_init))\n",
    "    model.add(BatchNormalization())\n",
    "    model.add(MaxPooling2D((2, 2), padding='same'))\n",
    "\n",
    "    #model.add(GlobalAveragePooling2D())\n",
    "    model.add(Flatten())\n",
    "    model.add(Dropout(dropout_rate))\n",
    "    model.add(Dense(1000, activation='relu', kernel_initializer=he_init))\n",
    "    #model.add(Dropout(dropout_rate))\n",
    "    model.add(Dense(100, activation='relu', kernel_initializer=he_init))\n",
    "    #model.add(Dropout(dropout_rate))\n",
    "    model.add(Dense(2, activation='sigmoid', kernel_initializer=glorot_init))\n",
    "\n",
    "    # Compile model\n",
    "    model.compile(loss='mean_squared_error',\n",
    "                  optimizer=optimizer,\n",
    "                  metrics=['mse', 'accuracy'])\n",
    "\n",
    "    return model"
   ]
  },
  {
   "cell_type": "code",
   "execution_count": 26,
   "metadata": {
    "collapsed": false
   },
   "outputs": [],
   "source": [
    "# Autoencoder implementation\n",
    "def create_autoencoder_model(input_shape, dropout_rate, optimizer) -> Model:\n",
    "    \"\"\"Creates an autoencoder model\n",
    "    Params\n",
    "    ------\n",
    "    input_shape: input dimensions of image (224x224x3).\n",
    "    dropout_rate: Applies Dropout to the input, to prevent over-fitting.\n",
    "    optimizer: Optimization algorithm.\n",
    "\n",
    "    Returns\n",
    "    -------\n",
    "    Sequential\n",
    "        The keras model.\n",
    "    \"\"\"\n",
    "    # Define model\n",
    "\n",
    "    inputs = Input(shape=input_shape, name='input_layer')\n",
    "\n",
    "    num_angle_classes = 100\n",
    "    num_speed_classes = 2\n",
    "\n",
    "    # Encoder\n",
    "    conv1 = Conv2D(32, (3, 3), activation='relu', padding='same', name='conv1')(inputs)\n",
    "    x = BatchNormalization()(conv1)\n",
    "    pool1 = MaxPooling2D((2, 2), padding='same')(x)\n",
    "\n",
    "    conv2 = Conv2D(16, (3, 3),  activation='relu', padding='same', name='conv2')(pool1)\n",
    "    x = BatchNormalization()(conv2)\n",
    "    pool2 = MaxPooling2D((2, 2), padding='same')(x)\n",
    "\n",
    "    conv3 = Conv2D(8, (3, 3),  activation='relu', padding='same', name='conv3')(pool2)\n",
    "    x = BatchNormalization()(conv3)\n",
    "    encoded = MaxPooling2D((2, 2), padding='same')(x)\n",
    "\n",
    "    # Decoder\n",
    "    deconv1 = Conv2D(8, (3, 3), activation='relu', padding='same', name='deconv1')(encoded)\n",
    "    x = BatchNormalization()(deconv1)\n",
    "    up1 = UpSampling2D((2, 2))(x)\n",
    "\n",
    "    deconv2 = Conv2D(16, (3, 3), strides=(1, 1), activation='relu', padding='same', name='deconv2')(up1)\n",
    "    x = BatchNormalization()(deconv2)\n",
    "    up2 = UpSampling2D((2, 2))(x)\n",
    "\n",
    "    deconv3 = Conv2D(32, (3, 3), strides=(1, 1), activation='relu', padding='same', name='deconv3')(up2)\n",
    "    x = BatchNormalization()(deconv3)\n",
    "    up3 = UpSampling2D((2, 2))(x)\n",
    "\n",
    "    decoded = Conv2D(3, (3, 3), activation='sigmoid', padding='same', name='decoded')(up3)\n",
    "    #decoded = GlobalAveragePooling2D(name='decoded')(decoded)\n",
    "\n",
    "    # Define autoencoder\n",
    "    autoencoder = Model(inputs, decoded)\n",
    "    # Compile autoencoder\n",
    "    autoencoder.compile(optimizer='rmsprop', loss='binary_crossentropy', metrics='accuracy')\n",
    "\n",
    "    # Define encoder model to use for predictions\n",
    "    # add dense layers on top of endoded layer\n",
    "    flat = Flatten()(encoded)\n",
    "    fc1 = Dense(128, activation='relu')(flat)\n",
    "    fc2 = Dense(64, activation='relu')(fc1)\n",
    "    y = Dropout(dropout_rate)(fc2)\n",
    "    y = BatchNormalization()(y)\n",
    "\n",
    "    # Define output layers\n",
    "    angle_output = Dense(num_angle_classes, name='angle_output', activation='softmax')(y)\n",
    "    speed_output = Dense(num_speed_classes, name='speed_output', activation='softmax')(y)\n",
    "    concatenated = Concatenate()([angle_output, speed_output])\n",
    "    outputs = Dense(2, activation='linear')(concatenated)\n",
    "\n",
    "    model = Model(inputs=inputs, outputs=outputs)\n",
    "    model.compile(loss=['mean_squared_error'],\n",
    "                  optimizer=optimizer,\n",
    "                  metrics=['mse', 'accuracy'])\n",
    "    return model"
   ]
  },
  {
   "cell_type": "code",
   "execution_count": 27,
   "metadata": {
    "collapsed": false
   },
   "outputs": [],
   "source": [
    "# Creates hybrid model by combining steering_net and speed_net\n",
    "def create_hybrid_model(input_shape, dropout_rate, optimizer) -> Model:\n",
    "    \"\"\"Creates a hybrid model to make two separate predictions on steering angle and speed.\n",
    "\n",
    "    Params\n",
    "    ------\n",
    "    input_shape: input dimensions of images\n",
    "    dropout_rate: Applies Dropout to the input, to prevent over-fitting.\n",
    "    optimizer: Optimization algorithm.\n",
    "\n",
    "    Returns\n",
    "    -------\n",
    "    Sequential\n",
    "        The keras model.\n",
    "    \"\"\"\n",
    "    # Define kernel_initializers for Dense layers\n",
    "    glorot_init = tf.keras.initializers.GlorotNormal(seed=42)\n",
    "    he_init = tf.keras.initializers.HeNormal(seed=42)\n",
    "\n",
    "    # Define input\n",
    "    inputs = Input(\n",
    "        shape=input_shape\n",
    "    )\n",
    "    ## Define steering_net ##\n",
    "    #########################\n",
    "    steering_net = Sequential([\n",
    "        # Preprocessing\n",
    "        Cropping2D(cropping=((62, 62), (62, 62)), input_shape=input_shape), # Crop input image\n",
    "        Lambda(lambda x: tf.image.resize(x, (100, 100))), # Resize image\n",
    "        # Convolutional layers\n",
    "        Conv2D(filters=32, kernel_size=5, strides=(2, 2), padding='same', activation='relu'),\n",
    "        BatchNormalization(),\n",
    "        MaxPooling2D((2, 2), padding='same'),\n",
    "        Conv2D(filters=32, kernel_size=5, strides=(2, 2), padding='same', activation='relu'),\n",
    "        BatchNormalization(),\n",
    "        MaxPooling2D((2, 2), padding='same'),\n",
    "        Conv2D(filters=64, kernel_size=5, strides=(2, 2), padding='same', activation='relu'),\n",
    "        BatchNormalization(),\n",
    "        MaxPooling2D((2, 2), padding='same'),\n",
    "        Conv2D(filters=64, kernel_size=3, strides=(1, 1), padding='same', activation='relu'),\n",
    "        BatchNormalization(),\n",
    "        MaxPooling2D((2, 2), padding='same'),\n",
    "        Conv2D(filters=128, kernel_size=3, strides=(1, 1), padding='same', activation='relu'),\n",
    "        BatchNormalization(),\n",
    "        MaxPooling2D((2, 2), padding='same'),\n",
    "        GlobalAveragePooling2D(),\n",
    "        # Flatten the convolution output\n",
    "        Flatten(),\n",
    "        BatchNormalization(), # to reduce covariate shift\n",
    "        # Fully-connected layers, returning single output\n",
    "        Dense(100, activation='relu', kernel_initializer=he_init),\n",
    "        Dropout(dropout_rate),\n",
    "        Dense(50, activation='relu', kernel_initializer=he_init),\n",
    "        Dropout(dropout_rate),\n",
    "        Dense(10, activation='relu', kernel_initializer=he_init),\n",
    "        Dropout(dropout_rate),\n",
    "        Dense(1, activation='softmax', kernel_initializer=glorot_init)], name='steering_net')\n",
    "\n",
    "    ## Define speed_net ##\n",
    "    ######################\n",
    "    # use mobilenet as base\n",
    "    base = xception.Xception(include_top=False, weights='imagenet', input_shape=input_shape)\n",
    "    for layers in base.layers[:20]:\n",
    "        layers.trainable = False\n",
    "    # Rebuild top\n",
    "    speed_net = Sequential([\n",
    "        base,\n",
    "        GlobalAveragePooling2D(),\n",
    "        BatchNormalization(),\n",
    "        Flatten(),\n",
    "        Dense(1024, activation='relu', kernel_initializer=he_init),\n",
    "        BatchNormalization(),\n",
    "        Dropout(dropout_rate),\n",
    "        Dense(512, activation='relu', kernel_initializer=he_init),\n",
    "        BatchNormalization(),\n",
    "        Dropout(dropout_rate),\n",
    "        Dense(128, activation='relu', kernel_initializer=he_init),\n",
    "        BatchNormalization(),\n",
    "        Dropout(dropout_rate),\n",
    "        Dense(1, activation='sigmoid', kernel_initializer=glorot_init)\n",
    "    ], name='speed_net')\n",
    "\n",
    "    # Merge both models\n",
    "    merged = Concatenate()([steering_net(inputs), speed_net(inputs)])\n",
    "    outputs = Dense(2, activation='linear', name='output')(merged)\n",
    "    # Define final model\n",
    "    model = Model(inputs=inputs, outputs=outputs)\n",
    "    # Compile the model\n",
    "    model.compile(loss='mean_squared_error',\n",
    "                  optimizer=optimizer,\n",
    "                  metrics='mse')\n",
    "    return model"
   ]
  },
  {
   "cell_type": "code",
   "execution_count": 28,
   "metadata": {
    "collapsed": false
   },
   "outputs": [],
   "source": [
    "def create_baseline_model(input_shape, dropout_rate, optimizer) -> Sequential:\n",
    "    \"\"\"Creates baseline model using TL\n",
    "    Parmas\n",
    "    -------\n",
    "    input_shape: Any\n",
    "    dropout_rate: float\n",
    "    optimizer: keras.optimizers\n",
    "\n",
    "    Returns\n",
    "    -------\n",
    "    \"\"\"\n",
    "    # Define number of classes for both outputs\n",
    "    #num_angle_classes = 100\n",
    "    #num_speed_classes = 10\n",
    "    # Define kernel_initializers for Dense layers\n",
    "    glorot_init = tf.keras.initializers.GlorotNormal(seed=42)\n",
    "    he_init = tf.keras.initializers.HeNormal(seed=42)\n",
    "\n",
    "    \"\"\"\n",
    "    top = base.output\n",
    "\n",
    "    base.trainable = False # Freeze the model\n",
    "    for layers in base.layers[:40]:\n",
    "        layers.trainable = False\n",
    "\n",
    "    #top = base.output\n",
    "    pool = GlobalAveragePooling2D()(top)\n",
    "    #flat = Flatten()(pool)\n",
    "    dropout1 = Dropout(dropout_rate)(pool)\n",
    "    fc1 = Dense(1024, activation='elu', kernel_initializer=he_init)(dropout1)\n",
    "    batch_norm1 = BatchNormalization()(fc1)\n",
    "\n",
    "    dropout2 = Dropout(dropout_rate)(batch_norm1)\n",
    "    fc2 = Dense(512, activation='elu', kernel_initializer=he_init)(dropout2)\n",
    "    batch_norm2 = BatchNormalization()(fc2)\n",
    "\n",
    "    dropout3 = Dropout(dropout_rate)(batch_norm2)\n",
    "    fc3 = Dense(64, activation='elu', kernel_initializer=he_init)(dropout3)\n",
    "    batch_norm3 = BatchNormalization()(fc3)\n",
    "\n",
    "    fc4 = Dense(num_angle_classes, activation='softmax', kernel_initializer=glorot_init)(batch_norm3)\n",
    "    angle_output = BatchNormalization(name='angle_output')(fc4)\n",
    "\n",
    "    fc5 = Dense(num_speed_classes, activation='softmax', kernel_initializer=glorot_init)(batch_norm3)\n",
    "    speed_output = BatchNormalization(name='speed_output')(fc5)\n",
    "\n",
    "    concatenated = Concatenate()([angle_output, speed_output])\n",
    "    outputs = Dense(2, activation='sigmoid', kernel_initializer=glorot_init)(concatenated)\n",
    "\n",
    "    model = Model(inputs=base.input, outputs=outputs)\"\"\"\n",
    "    # Define model\n",
    "    base = xception.Xception(include_top=False, weights='imagenet', input_shape=input_shape)\n",
    "    base.trainable = False # Freeze model\n",
    "    for layers in base.layers[-9:]:\n",
    "        layers.trainable = True\n",
    "\n",
    "    model = Sequential()\n",
    "    model.add(base)\n",
    "    model.add(GlobalAveragePooling2D())\n",
    "    model.add(Flatten())\n",
    "    model.add(Dropout(dropout_rate))\n",
    "    model.add(Dense(512, activation='relu', kernel_initializer=he_init))\n",
    "    model.add(BatchNormalization())\n",
    "    model.add(Dropout(dropout_rate))\n",
    "    model.add(Dense(128, activation='relu', kernel_initializer=he_init))\n",
    "    model.add(BatchNormalization())\n",
    "    model.add(Dropout(dropout_rate))\n",
    "    model.add(Dense(64, activation='relu', kernel_initializer=he_init))\n",
    "    model.add(BatchNormalization())\n",
    "    model.add(Dropout(dropout_rate))\n",
    "    model.add(Dense(32, activation='relu', kernel_initializer=he_init))\n",
    "    model.add(Dense(2, activation='softplus', kernel_initializer=glorot_init))\n",
    "    model.compile(loss='mean_squared_error',\n",
    "                  metrics=['mse', 'accuracy'],\n",
    "                  optimizer=optimizer)\n",
    "    return model"
   ]
  },
  {
   "cell_type": "code",
   "execution_count": 29,
   "metadata": {
    "collapsed": false
   },
   "outputs": [
    {
     "name": "stdout",
     "output_type": "stream",
     "text": [
      "Model: \"sequential\"\n",
      "_________________________________________________________________\n",
      " Layer (type)                Output Shape              Param #   \n",
      "=================================================================\n",
      " xception (Functional)       (None, 5, 7, 2048)        20861480  \n",
      "                                                                 \n",
      " global_average_pooling2d (G  (None, 2048)             0         \n",
      " lobalAveragePooling2D)                                          \n",
      "                                                                 \n",
      " flatten (Flatten)           (None, 2048)              0         \n",
      "                                                                 \n",
      " dropout (Dropout)           (None, 2048)              0         \n",
      "                                                                 \n",
      " dense (Dense)               (None, 512)               1049088   \n",
      "                                                                 \n",
      " batch_normalization_4 (Batc  (None, 512)              2048      \n",
      " hNormalization)                                                 \n",
      "                                                                 \n",
      " dropout_1 (Dropout)         (None, 512)               0         \n",
      "                                                                 \n",
      " dense_1 (Dense)             (None, 128)               65664     \n",
      "                                                                 \n",
      " batch_normalization_5 (Batc  (None, 128)              512       \n",
      " hNormalization)                                                 \n",
      "                                                                 \n",
      " dropout_2 (Dropout)         (None, 128)               0         \n",
      "                                                                 \n",
      " dense_2 (Dense)             (None, 64)                8256      \n",
      "                                                                 \n",
      " batch_normalization_6 (Batc  (None, 64)               256       \n",
      " hNormalization)                                                 \n",
      "                                                                 \n",
      " dropout_3 (Dropout)         (None, 64)                0         \n",
      "                                                                 \n",
      " dense_3 (Dense)             (None, 32)                2080      \n",
      "                                                                 \n",
      " dense_4 (Dense)             (None, 2)                 66        \n",
      "                                                                 \n",
      "=================================================================\n",
      "Total params: 21,989,450\n",
      "Trainable params: 1,126,562\n",
      "Non-trainable params: 20,862,888\n",
      "_________________________________________________________________\n"
     ]
    }
   ],
   "source": [
    "input_shape = (IMG_HEIGHT, IMG_WIDTH, CHANNELS)\n",
    "\n",
    "lr = 2e-3 # learning rate\n",
    "decay = 0.001 # weight decay\n",
    "dropout_rate = 0.2\n",
    "optimizer = Nadam(learning_rate=lr)  # optimizer\n",
    "\n",
    "baseline_model = create_baseline_model(input_shape, dropout_rate, optimizer)\n",
    "baseline_model.summary()"
   ]
  },
  {
   "cell_type": "code",
   "execution_count": 30,
   "metadata": {
    "collapsed": false
   },
   "outputs": [],
   "source": [
    "tf.keras.backend.clear_session() # clear keras session"
   ]
  },
  {
   "cell_type": "code",
   "execution_count": 31,
   "metadata": {
    "collapsed": false
   },
   "outputs": [
    {
     "name": "stdout",
     "output_type": "stream",
     "text": [
      "Epoch 1/100\n",
      " 10/100 [==>...........................] - ETA: 18s - loss: 0.4390 - mse: 0.4390 - accuracy: 0.6219"
     ]
    },
    {
     "ename": "UnknownError",
     "evalue": "Graph execution error:\n\n2 root error(s) found.\n  (0) UNKNOWN:  InvalidArgumentError: {{function_node __wrapped__Prod_device_/job:localhost/replica:0/task:0/device:GPU:0}} Invalid reduction dimension (-2 for input with 1 dimension(s) [Op:Prod]\nTraceback (most recent call last):\n\n  File \"/Users/rahuln/opt/miniconda/envs/picarnet/lib/python3.8/site-packages/tensorflow/python/ops/script_ops.py\", line 271, in __call__\n    ret = func(*args)\n\n  File \"/Users/rahuln/opt/miniconda/envs/picarnet/lib/python3.8/site-packages/tensorflow/python/autograph/impl/api.py\", line 642, in wrapper\n    return func(*args, **kwargs)\n\n  File \"/Users/rahuln/opt/miniconda/envs/picarnet/lib/python3.8/site-packages/tensorflow/python/data/ops/dataset_ops.py\", line 1039, in generator_py_func\n    values = next(generator_state.get_iterator(iterator_id))\n\n  File \"/Users/rahuln/opt/miniconda/envs/picarnet/lib/python3.8/site-packages/keras/engine/data_adapter.py\", line 901, in wrapped_generator\n    for data in generator_fn():\n\n  File \"/Users/rahuln/opt/miniconda/envs/picarnet/lib/python3.8/site-packages/keras/utils/data_utils.py\", line 823, in get\n    raise e\n\n  File \"/Users/rahuln/opt/miniconda/envs/picarnet/lib/python3.8/site-packages/keras/utils/data_utils.py\", line 814, in get\n    inputs = self.queue.get(block=True, timeout=5).get()\n\n  File \"/Users/rahuln/opt/miniconda/envs/picarnet/lib/python3.8/multiprocessing/pool.py\", line 771, in get\n    raise self._value\n\n  File \"/Users/rahuln/opt/miniconda/envs/picarnet/lib/python3.8/multiprocessing/pool.py\", line 125, in worker\n    result = (True, func(*args, **kwds))\n\n  File \"/Users/rahuln/opt/miniconda/envs/picarnet/lib/python3.8/site-packages/keras/utils/data_utils.py\", line 600, in get_index\n    return _SHARED_SEQUENCES[uid][i]\n\n  File \"/Users/rahuln/opt/miniconda/envs/picarnet/lib/python3.8/site-packages/keras/preprocessing/image.py\", line 116, in __getitem__\n    return self._get_batches_of_transformed_samples(index_array)\n\n  File \"/Users/rahuln/opt/miniconda/envs/picarnet/lib/python3.8/site-packages/keras/preprocessing/image.py\", line 385, in _get_batches_of_transformed_samples\n    x = self.image_data_generator.standardize(x)\n\n  File \"/Users/rahuln/opt/miniconda/envs/picarnet/lib/python3.8/site-packages/keras/preprocessing/image.py\", line 1849, in standardize\n    x = self.preprocessing_function(x)\n\n  File \"<ipython-input-14-9459467cad89>\", line 15, in modify_rgb\n    img = tf.image.per_image_standardization(img) # normalize pixel values between -1 and 1\n\n  File \"/Users/rahuln/opt/miniconda/envs/picarnet/lib/python3.8/site-packages/tensorflow/python/util/traceback_utils.py\", line 153, in error_handler\n    raise e.with_traceback(filtered_tb) from None\n\n  File \"/Users/rahuln/opt/miniconda/envs/picarnet/lib/python3.8/site-packages/tensorflow/python/framework/ops.py\", line 7215, in raise_from_not_ok_status\n    raise core._status_to_exception(e) from None  # pylint: disable=protected-access\n\ntensorflow.python.framework.errors_impl.InvalidArgumentError: {{function_node __wrapped__Prod_device_/job:localhost/replica:0/task:0/device:GPU:0}} Invalid reduction dimension (-2 for input with 1 dimension(s) [Op:Prod]\n\n\n\t [[{{node PyFunc}}]]\n\t [[IteratorGetNext]]\n\t [[IteratorGetNext/_10]]\n  (1) UNKNOWN:  InvalidArgumentError: {{function_node __wrapped__Prod_device_/job:localhost/replica:0/task:0/device:GPU:0}} Invalid reduction dimension (-2 for input with 1 dimension(s) [Op:Prod]\nTraceback (most recent call last):\n\n  File \"/Users/rahuln/opt/miniconda/envs/picarnet/lib/python3.8/site-packages/tensorflow/python/ops/script_ops.py\", line 271, in __call__\n    ret = func(*args)\n\n  File \"/Users/rahuln/opt/miniconda/envs/picarnet/lib/python3.8/site-packages/tensorflow/python/autograph/impl/api.py\", line 642, in wrapper\n    return func(*args, **kwargs)\n\n  File \"/Users/rahuln/opt/miniconda/envs/picarnet/lib/python3.8/site-packages/tensorflow/python/data/ops/dataset_ops.py\", line 1039, in generator_py_func\n    values = next(generator_state.get_iterator(iterator_id))\n\n  File \"/Users/rahuln/opt/miniconda/envs/picarnet/lib/python3.8/site-packages/keras/engine/data_adapter.py\", line 901, in wrapped_generator\n    for data in generator_fn():\n\n  File \"/Users/rahuln/opt/miniconda/envs/picarnet/lib/python3.8/site-packages/keras/utils/data_utils.py\", line 823, in get\n    raise e\n\n  File \"/Users/rahuln/opt/miniconda/envs/picarnet/lib/python3.8/site-packages/keras/utils/data_utils.py\", line 814, in get\n    inputs = self.queue.get(block=True, timeout=5).get()\n\n  File \"/Users/rahuln/opt/miniconda/envs/picarnet/lib/python3.8/multiprocessing/pool.py\", line 771, in get\n    raise self._value\n\n  File \"/Users/rahuln/opt/miniconda/envs/picarnet/lib/python3.8/multiprocessing/pool.py\", line 125, in worker\n    result = (True, func(*args, **kwds))\n\n  File \"/Users/rahuln/opt/miniconda/envs/picarnet/lib/python3.8/site-packages/keras/utils/data_utils.py\", line 600, in get_index\n    return _SHARED_SEQUENCES[uid][i]\n\n  File \"/Users/rahuln/opt/miniconda/envs/picarnet/lib/python3.8/site-packages/keras/preprocessing/image.py\", line 116, in __getitem__\n    return self._get_batches_of_transformed_samples(index_array)\n\n  File \"/Users/rahuln/opt/miniconda/envs/picarnet/lib/python3.8/site-packages/keras/preprocessing/image.py\", line 385, in _get_batches_of_transformed_samples\n    x = self.image_data_generator.standardize(x)\n\n  File \"/Users/rahuln/opt/miniconda/envs/picarnet/lib/python3.8/site-packages/keras/preprocessing/image.py\", line 1849, in standardize\n    x = self.preprocessing_function(x)\n\n  File \"<ipython-input-14-9459467cad89>\", line 15, in modify_rgb\n    img = tf.image.per_image_standardization(img) # normalize pixel values between -1 and 1\n\n  File \"/Users/rahuln/opt/miniconda/envs/picarnet/lib/python3.8/site-packages/tensorflow/python/util/traceback_utils.py\", line 153, in error_handler\n    raise e.with_traceback(filtered_tb) from None\n\n  File \"/Users/rahuln/opt/miniconda/envs/picarnet/lib/python3.8/site-packages/tensorflow/python/framework/ops.py\", line 7215, in raise_from_not_ok_status\n    raise core._status_to_exception(e) from None  # pylint: disable=protected-access\n\ntensorflow.python.framework.errors_impl.InvalidArgumentError: {{function_node __wrapped__Prod_device_/job:localhost/replica:0/task:0/device:GPU:0}} Invalid reduction dimension (-2 for input with 1 dimension(s) [Op:Prod]\n\n\n\t [[{{node PyFunc}}]]\n\t [[IteratorGetNext]]\n0 successful operations.\n0 derived errors ignored. [Op:__inference_train_function_12227]",
     "output_type": "error",
     "traceback": [
      "\u001B[0;31m---------------------------------------------------------------------------\u001B[0m",
      "\u001B[0;31mUnknownError\u001B[0m                              Traceback (most recent call last)",
      "Cell \u001B[0;32mIn[31], line 2\u001B[0m\n\u001B[1;32m      1\u001B[0m \u001B[38;5;28;01mwith\u001B[39;00m tf\u001B[38;5;241m.\u001B[39mdevice(device_name\u001B[38;5;241m=\u001B[39m\u001B[38;5;124m'\u001B[39m\u001B[38;5;124mGPU:0\u001B[39m\u001B[38;5;124m'\u001B[39m):\n\u001B[0;32m----> 2\u001B[0m     baseline_history \u001B[38;5;241m=\u001B[39m \u001B[43mtrain\u001B[49m\u001B[43m(\u001B[49m\u001B[43mname\u001B[49m\u001B[38;5;241;43m=\u001B[39;49m\u001B[38;5;124;43m'\u001B[39;49m\u001B[38;5;124;43mbaseline_model\u001B[39;49m\u001B[38;5;124;43m'\u001B[39;49m\u001B[43m,\u001B[49m\u001B[43m \u001B[49m\u001B[43mmodel\u001B[49m\u001B[38;5;241;43m=\u001B[39;49m\u001B[43mbaseline_model\u001B[49m\u001B[43m,\u001B[49m\u001B[43m \u001B[49m\u001B[43mtrain_generator\u001B[49m\u001B[38;5;241;43m=\u001B[39;49m\u001B[43mtrain_generator\u001B[49m\u001B[43m,\u001B[49m\u001B[43m \u001B[49m\u001B[43mval_generator\u001B[49m\u001B[38;5;241;43m=\u001B[39;49m\u001B[43mval_generator\u001B[49m\u001B[43m,\u001B[49m\u001B[43m \u001B[49m\u001B[43mepochs\u001B[49m\u001B[38;5;241;43m=\u001B[39;49m\u001B[43mepochs\u001B[49m\u001B[43m,\u001B[49m\u001B[43m \u001B[49m\u001B[43mBATCH_SIZE\u001B[49m\u001B[38;5;241;43m=\u001B[39;49m\u001B[43mBATCH_SIZE\u001B[49m\u001B[43m,\u001B[49m\u001B[43m  \u001B[49m\u001B[43mstep_size\u001B[49m\u001B[38;5;241;43m=\u001B[39;49m\u001B[43mstep_size\u001B[49m\u001B[43m,\u001B[49m\u001B[43m \u001B[49m\u001B[43mval_step_size\u001B[49m\u001B[38;5;241;43m=\u001B[39;49m\u001B[43mval_step_size\u001B[49m\u001B[43m)\u001B[49m\n",
      "Cell \u001B[0;32mIn[22], line 24\u001B[0m, in \u001B[0;36mtrain\u001B[0;34m(name, model, train_generator, val_generator, epochs, BATCH_SIZE, step_size, val_step_size)\u001B[0m\n\u001B[1;32m      3\u001B[0m \u001B[38;5;124;03m\"\"\"Used to train a model\u001B[39;00m\n\u001B[1;32m      4\u001B[0m \u001B[38;5;124;03mParams\u001B[39;00m\n\u001B[1;32m      5\u001B[0m \u001B[38;5;124;03m------\u001B[39;00m\n\u001B[0;32m   (...)\u001B[0m\n\u001B[1;32m     20\u001B[0m \u001B[38;5;124;03mkeras.callbacks.History\u001B[39;00m\n\u001B[1;32m     21\u001B[0m \u001B[38;5;124;03m\"\"\"\u001B[39;00m\n\u001B[1;32m     22\u001B[0m callbacks \u001B[38;5;241m=\u001B[39m get_callbacks(name)\n\u001B[0;32m---> 24\u001B[0m history \u001B[38;5;241m=\u001B[39m \u001B[43mmodel\u001B[49m\u001B[38;5;241;43m.\u001B[39;49m\u001B[43mfit\u001B[49m\u001B[43m(\u001B[49m\u001B[43mtrain_generator\u001B[49m\u001B[43m,\u001B[49m\n\u001B[1;32m     25\u001B[0m \u001B[43m          \u001B[49m\u001B[43mepochs\u001B[49m\u001B[38;5;241;43m=\u001B[39;49m\u001B[43mepochs\u001B[49m\u001B[43m,\u001B[49m\n\u001B[1;32m     26\u001B[0m \u001B[43m          \u001B[49m\u001B[43msteps_per_epoch\u001B[49m\u001B[38;5;241;43m=\u001B[39;49m\u001B[43mstep_size\u001B[49m\u001B[43m,\u001B[49m\n\u001B[1;32m     27\u001B[0m \u001B[43m          \u001B[49m\u001B[43mvalidation_data\u001B[49m\u001B[38;5;241;43m=\u001B[39;49m\u001B[43mval_generator\u001B[49m\u001B[43m,\u001B[49m\n\u001B[1;32m     28\u001B[0m \u001B[43m          \u001B[49m\u001B[43mvalidation_steps\u001B[49m\u001B[38;5;241;43m=\u001B[39;49m\u001B[43mval_step_size\u001B[49m\u001B[43m,\u001B[49m\n\u001B[1;32m     29\u001B[0m \u001B[43m          \u001B[49m\u001B[43mcallbacks\u001B[49m\u001B[38;5;241;43m=\u001B[39;49m\u001B[43mcallbacks\u001B[49m\u001B[43m,\u001B[49m\n\u001B[1;32m     30\u001B[0m \u001B[43m          \u001B[49m\u001B[43mworkers\u001B[49m\u001B[38;5;241;43m=\u001B[39;49m\u001B[38;5;241;43m6\u001B[39;49m\u001B[43m,\u001B[49m\n\u001B[1;32m     31\u001B[0m \u001B[43m          \u001B[49m\u001B[43mverbose\u001B[49m\u001B[38;5;241;43m=\u001B[39;49m\u001B[38;5;241;43m1\u001B[39;49m\u001B[43m,\u001B[49m\n\u001B[1;32m     32\u001B[0m \u001B[43m          \u001B[49m\u001B[43mbatch_size\u001B[49m\u001B[38;5;241;43m=\u001B[39;49m\u001B[43mBATCH_SIZE\u001B[49m\u001B[43m)\u001B[49m\n\u001B[1;32m     34\u001B[0m \u001B[38;5;28;01mreturn\u001B[39;00m history\n",
      "File \u001B[0;32m~/opt/miniconda/envs/picarnet/lib/python3.8/site-packages/keras/utils/traceback_utils.py:70\u001B[0m, in \u001B[0;36mfilter_traceback.<locals>.error_handler\u001B[0;34m(*args, **kwargs)\u001B[0m\n\u001B[1;32m     67\u001B[0m     filtered_tb \u001B[38;5;241m=\u001B[39m _process_traceback_frames(e\u001B[38;5;241m.\u001B[39m__traceback__)\n\u001B[1;32m     68\u001B[0m     \u001B[38;5;66;03m# To get the full stack trace, call:\u001B[39;00m\n\u001B[1;32m     69\u001B[0m     \u001B[38;5;66;03m# `tf.debugging.disable_traceback_filtering()`\u001B[39;00m\n\u001B[0;32m---> 70\u001B[0m     \u001B[38;5;28;01mraise\u001B[39;00m e\u001B[38;5;241m.\u001B[39mwith_traceback(filtered_tb) \u001B[38;5;28;01mfrom\u001B[39;00m \u001B[38;5;28mNone\u001B[39m\n\u001B[1;32m     71\u001B[0m \u001B[38;5;28;01mfinally\u001B[39;00m:\n\u001B[1;32m     72\u001B[0m     \u001B[38;5;28;01mdel\u001B[39;00m filtered_tb\n",
      "File \u001B[0;32m~/opt/miniconda/envs/picarnet/lib/python3.8/site-packages/tensorflow/python/eager/execute.py:52\u001B[0m, in \u001B[0;36mquick_execute\u001B[0;34m(op_name, num_outputs, inputs, attrs, ctx, name)\u001B[0m\n\u001B[1;32m     50\u001B[0m \u001B[38;5;28;01mtry\u001B[39;00m:\n\u001B[1;32m     51\u001B[0m   ctx\u001B[38;5;241m.\u001B[39mensure_initialized()\n\u001B[0;32m---> 52\u001B[0m   tensors \u001B[38;5;241m=\u001B[39m pywrap_tfe\u001B[38;5;241m.\u001B[39mTFE_Py_Execute(ctx\u001B[38;5;241m.\u001B[39m_handle, device_name, op_name,\n\u001B[1;32m     53\u001B[0m                                       inputs, attrs, num_outputs)\n\u001B[1;32m     54\u001B[0m \u001B[38;5;28;01mexcept\u001B[39;00m core\u001B[38;5;241m.\u001B[39m_NotOkStatusException \u001B[38;5;28;01mas\u001B[39;00m e:\n\u001B[1;32m     55\u001B[0m   \u001B[38;5;28;01mif\u001B[39;00m name \u001B[38;5;129;01mis\u001B[39;00m \u001B[38;5;129;01mnot\u001B[39;00m \u001B[38;5;28;01mNone\u001B[39;00m:\n",
      "\u001B[0;31mUnknownError\u001B[0m: Graph execution error:\n\n2 root error(s) found.\n  (0) UNKNOWN:  InvalidArgumentError: {{function_node __wrapped__Prod_device_/job:localhost/replica:0/task:0/device:GPU:0}} Invalid reduction dimension (-2 for input with 1 dimension(s) [Op:Prod]\nTraceback (most recent call last):\n\n  File \"/Users/rahuln/opt/miniconda/envs/picarnet/lib/python3.8/site-packages/tensorflow/python/ops/script_ops.py\", line 271, in __call__\n    ret = func(*args)\n\n  File \"/Users/rahuln/opt/miniconda/envs/picarnet/lib/python3.8/site-packages/tensorflow/python/autograph/impl/api.py\", line 642, in wrapper\n    return func(*args, **kwargs)\n\n  File \"/Users/rahuln/opt/miniconda/envs/picarnet/lib/python3.8/site-packages/tensorflow/python/data/ops/dataset_ops.py\", line 1039, in generator_py_func\n    values = next(generator_state.get_iterator(iterator_id))\n\n  File \"/Users/rahuln/opt/miniconda/envs/picarnet/lib/python3.8/site-packages/keras/engine/data_adapter.py\", line 901, in wrapped_generator\n    for data in generator_fn():\n\n  File \"/Users/rahuln/opt/miniconda/envs/picarnet/lib/python3.8/site-packages/keras/utils/data_utils.py\", line 823, in get\n    raise e\n\n  File \"/Users/rahuln/opt/miniconda/envs/picarnet/lib/python3.8/site-packages/keras/utils/data_utils.py\", line 814, in get\n    inputs = self.queue.get(block=True, timeout=5).get()\n\n  File \"/Users/rahuln/opt/miniconda/envs/picarnet/lib/python3.8/multiprocessing/pool.py\", line 771, in get\n    raise self._value\n\n  File \"/Users/rahuln/opt/miniconda/envs/picarnet/lib/python3.8/multiprocessing/pool.py\", line 125, in worker\n    result = (True, func(*args, **kwds))\n\n  File \"/Users/rahuln/opt/miniconda/envs/picarnet/lib/python3.8/site-packages/keras/utils/data_utils.py\", line 600, in get_index\n    return _SHARED_SEQUENCES[uid][i]\n\n  File \"/Users/rahuln/opt/miniconda/envs/picarnet/lib/python3.8/site-packages/keras/preprocessing/image.py\", line 116, in __getitem__\n    return self._get_batches_of_transformed_samples(index_array)\n\n  File \"/Users/rahuln/opt/miniconda/envs/picarnet/lib/python3.8/site-packages/keras/preprocessing/image.py\", line 385, in _get_batches_of_transformed_samples\n    x = self.image_data_generator.standardize(x)\n\n  File \"/Users/rahuln/opt/miniconda/envs/picarnet/lib/python3.8/site-packages/keras/preprocessing/image.py\", line 1849, in standardize\n    x = self.preprocessing_function(x)\n\n  File \"<ipython-input-14-9459467cad89>\", line 15, in modify_rgb\n    img = tf.image.per_image_standardization(img) # normalize pixel values between -1 and 1\n\n  File \"/Users/rahuln/opt/miniconda/envs/picarnet/lib/python3.8/site-packages/tensorflow/python/util/traceback_utils.py\", line 153, in error_handler\n    raise e.with_traceback(filtered_tb) from None\n\n  File \"/Users/rahuln/opt/miniconda/envs/picarnet/lib/python3.8/site-packages/tensorflow/python/framework/ops.py\", line 7215, in raise_from_not_ok_status\n    raise core._status_to_exception(e) from None  # pylint: disable=protected-access\n\ntensorflow.python.framework.errors_impl.InvalidArgumentError: {{function_node __wrapped__Prod_device_/job:localhost/replica:0/task:0/device:GPU:0}} Invalid reduction dimension (-2 for input with 1 dimension(s) [Op:Prod]\n\n\n\t [[{{node PyFunc}}]]\n\t [[IteratorGetNext]]\n\t [[IteratorGetNext/_10]]\n  (1) UNKNOWN:  InvalidArgumentError: {{function_node __wrapped__Prod_device_/job:localhost/replica:0/task:0/device:GPU:0}} Invalid reduction dimension (-2 for input with 1 dimension(s) [Op:Prod]\nTraceback (most recent call last):\n\n  File \"/Users/rahuln/opt/miniconda/envs/picarnet/lib/python3.8/site-packages/tensorflow/python/ops/script_ops.py\", line 271, in __call__\n    ret = func(*args)\n\n  File \"/Users/rahuln/opt/miniconda/envs/picarnet/lib/python3.8/site-packages/tensorflow/python/autograph/impl/api.py\", line 642, in wrapper\n    return func(*args, **kwargs)\n\n  File \"/Users/rahuln/opt/miniconda/envs/picarnet/lib/python3.8/site-packages/tensorflow/python/data/ops/dataset_ops.py\", line 1039, in generator_py_func\n    values = next(generator_state.get_iterator(iterator_id))\n\n  File \"/Users/rahuln/opt/miniconda/envs/picarnet/lib/python3.8/site-packages/keras/engine/data_adapter.py\", line 901, in wrapped_generator\n    for data in generator_fn():\n\n  File \"/Users/rahuln/opt/miniconda/envs/picarnet/lib/python3.8/site-packages/keras/utils/data_utils.py\", line 823, in get\n    raise e\n\n  File \"/Users/rahuln/opt/miniconda/envs/picarnet/lib/python3.8/site-packages/keras/utils/data_utils.py\", line 814, in get\n    inputs = self.queue.get(block=True, timeout=5).get()\n\n  File \"/Users/rahuln/opt/miniconda/envs/picarnet/lib/python3.8/multiprocessing/pool.py\", line 771, in get\n    raise self._value\n\n  File \"/Users/rahuln/opt/miniconda/envs/picarnet/lib/python3.8/multiprocessing/pool.py\", line 125, in worker\n    result = (True, func(*args, **kwds))\n\n  File \"/Users/rahuln/opt/miniconda/envs/picarnet/lib/python3.8/site-packages/keras/utils/data_utils.py\", line 600, in get_index\n    return _SHARED_SEQUENCES[uid][i]\n\n  File \"/Users/rahuln/opt/miniconda/envs/picarnet/lib/python3.8/site-packages/keras/preprocessing/image.py\", line 116, in __getitem__\n    return self._get_batches_of_transformed_samples(index_array)\n\n  File \"/Users/rahuln/opt/miniconda/envs/picarnet/lib/python3.8/site-packages/keras/preprocessing/image.py\", line 385, in _get_batches_of_transformed_samples\n    x = self.image_data_generator.standardize(x)\n\n  File \"/Users/rahuln/opt/miniconda/envs/picarnet/lib/python3.8/site-packages/keras/preprocessing/image.py\", line 1849, in standardize\n    x = self.preprocessing_function(x)\n\n  File \"<ipython-input-14-9459467cad89>\", line 15, in modify_rgb\n    img = tf.image.per_image_standardization(img) # normalize pixel values between -1 and 1\n\n  File \"/Users/rahuln/opt/miniconda/envs/picarnet/lib/python3.8/site-packages/tensorflow/python/util/traceback_utils.py\", line 153, in error_handler\n    raise e.with_traceback(filtered_tb) from None\n\n  File \"/Users/rahuln/opt/miniconda/envs/picarnet/lib/python3.8/site-packages/tensorflow/python/framework/ops.py\", line 7215, in raise_from_not_ok_status\n    raise core._status_to_exception(e) from None  # pylint: disable=protected-access\n\ntensorflow.python.framework.errors_impl.InvalidArgumentError: {{function_node __wrapped__Prod_device_/job:localhost/replica:0/task:0/device:GPU:0}} Invalid reduction dimension (-2 for input with 1 dimension(s) [Op:Prod]\n\n\n\t [[{{node PyFunc}}]]\n\t [[IteratorGetNext]]\n0 successful operations.\n0 derived errors ignored. [Op:__inference_train_function_12227]"
     ]
    }
   ],
   "source": [
    "with tf.device(device_name='GPU:0'):\n",
    "    baseline_history = train(name='baseline_model', model=baseline_model, train_generator=train_generator, val_generator=val_generator, epochs=epochs, BATCH_SIZE=BATCH_SIZE,  step_size=step_size, val_step_size=val_step_size)"
   ]
  },
  {
   "cell_type": "markdown",
   "metadata": {
    "collapsed": false
   },
   "source": [
    "## Hyperparameter tuning using Keras-Tuner"
   ]
  },
  {
   "cell_type": "code",
   "execution_count": null,
   "metadata": {
    "collapsed": false
   },
   "outputs": [],
   "source": [
    "# model tuning function\n",
    "def build_model(hp):\n",
    "    \"\"\"\n",
    "    Build model for hyperparamter tuning\n",
    "\n",
    "    Params\n",
    "    ------\n",
    "    hp: HyperParameters class instance\n",
    "\n",
    "    Returns\n",
    "    -------\n",
    "    Model: Keras model object\n",
    "    \"\"\"\n",
    "    # Define number of classes for both outputs\n",
    "    #num_angle_classes = 1024\n",
    "    #num_speed_classes = 100\n",
    "\n",
    "    # Define kernel_initializers for Dense layers\n",
    "    glorot_init = tf.keras.initializers.GlorotNormal(seed=42)\n",
    "    he_init = tf.keras.initializers.HeNormal(seed=42)\n",
    "\n",
    "    # Define input\n",
    "    input_shape = (224, 224, 3)\n",
    "\n",
    "    # Define base model\n",
    "    base = xception.Xception(include_top=False, weights='imagenet', input_shape=input_shape)\n",
    "\n",
    "    # Define hyper-parameter tuning space\n",
    "    # Choice of baseline model\n",
    "    \"\"\" baseline_choice = hp.Choice(name = 'baseline', values=['resnet50', 'mobilenetv2', 'vgg16'], ordered=False)\n",
    "    if baseline_choice == 'resnet50':\n",
    "        hp_baseline = resnet.ResNet50(include_top=False, weights='imagenet', input_shape=input_shape)\n",
    "    elif baseline_choice == 'mobilenetv2':\n",
    "        hp_baseline = mobilenet_v2.MobileNetV2(include_top=False, weights='imagenet', input_shape=input_shape)\n",
    "    else:\n",
    "        hp_baseline = vgg16.VGG16(include_top=False, weights='imagenet', input_shape=input_shape)\"\"\"\n",
    "    # Tune dropout rate\n",
    "    hp_dropout_rate = hp.Choice(name = 'dropout_rate', values=[2e-1, 3e-1, 4e-1, 5e-1])\n",
    "    # Choose layers to freeze in base model\n",
    "    #hp_layers_to_freeze = hp.Int(name = 'layers_to_freeze', min_value=0, max_value=len(hp_baseline.layers), step=2)\n",
    "    hp_layers_to_train = hp.Int('layers_to_train', min_value=1, max_value=20, step=2)\n",
    "    # Tune the kernel size in convolution layers\n",
    "    #hp_kernel_size = hp.Choice(name='kernel_size', values=[3, 5])\n",
    "    # Tune the number of strides in convolution layers\n",
    "    #hp_strides = hp.Choice(name='strides', values=[1, 2])\n",
    "    # Tune the number of units in the Dense layers\n",
    "    hp_units1 = hp.Choice(name='dense1', values=[256, 512, 1024], ordered=False)\n",
    "    hp_units2 = hp.Choice(name='dense2', values=[64, 128, 256], ordered=False)\n",
    "    hp_units3 = hp.Choice(name='dense3', values=[16, 32, 64], ordered=False)\n",
    "    #hp_units4 = hp.Choice(name='dense4', values=[8, 16, 32, 64, 128, 256, 512], ordered=False)\n",
    "    #hp_l2 = hp.Choice(name = 'kernel_regularizer', values=[0.1, 0.01, 0.001])\n",
    "    hp_activation = hp.Choice(name = 'activation', values=['relu', 'elu'], ordered=False)\n",
    "    #hp_output_activation = hp.Choice(name = 'output_activation', values=['linear', 'sigmoid'], ordered=False)\n",
    "    # Tune momentum with RMSprop optimizer\n",
    "    hp_momentum = hp.Choice(name='momentum', values=[0.0, 0.1, 0.01, 0.99, 0.001, 0.0001])\n",
    "    # Tune the learning rate for the optimizer\n",
    "    # Choose an optimal value from different values of learning rate\n",
    "    hp_learning_rate = hp.Choice('learning_rate', values=[2e-3, 4e-3, 7e-3, 6e-4])\n",
    "    # Choose optimal weight decay\n",
    "    hp_decay = hp.Choice(name='decay', values=[1e-3, 2e-3, 2e-4])\n",
    "    # choose optimal optimizer\n",
    "    optimizer_choice = hp.Choice('optimizer', ['Adam', 'Nadam', 'Adagrad', 'RMSprop'], ordered=False)\n",
    "    if optimizer_choice == 'Adam':\n",
    "        hp_optimizer = Adam(learning_rate=hp_learning_rate, decay=hp_decay)\n",
    "    elif optimizer_choice == 'Nadam':\n",
    "        hp_optimizer = Nadam(learning_rate=hp_learning_rate, decay=hp_decay)\n",
    "    elif optimizer_choice == 'Adagrad':\n",
    "            hp_optimizer = Adagrad(learning_rate=hp_learning_rate)\n",
    "    else:\n",
    "        hp_optimizer = RMSprop(learning_rate=hp_learning_rate, momentum=hp_momentum, decay=hp_decay)\n",
    "\n",
    "    base.trainable = False # Freeze the model\n",
    "    for layer in base.layers[-hp_layers_to_train:]:\n",
    "        layer.trainable = True\n",
    "\n",
    "    # Rebuild top\n",
    "    model = Sequential(name='tuned_baseline_model')\n",
    "    model.add(base)\n",
    "    model.add(GlobalAveragePooling2D())\n",
    "    model.add(Flatten())\n",
    "    model.add(Dropout(hp_dropout_rate))\n",
    "    model.add(Dense(hp_units1, kernel_initializer=he_init))\n",
    "    model.add(BatchNormalization())\n",
    "    model.add(Activation(hp_activation))\n",
    "    model.add(Dropout(hp_dropout_rate))\n",
    "    model.add(Dense(hp_units2, kernel_initializer=he_init))\n",
    "    model.add(BatchNormalization())\n",
    "    model.add(Activation(hp_activation))\n",
    "    model.add(Dropout(hp_dropout_rate))\n",
    "    model.add(Dense(hp_units3, kernel_initializer=he_init))\n",
    "    model.add(BatchNormalization())\n",
    "    model.add(Activation(hp_activation))\n",
    "    model.add(Dropout(hp_dropout_rate))\n",
    "    model.add(Dense(32, activation=hp_activation, kernel_initializer=he_init))\n",
    "    model.add(Dense(2, activation='linear', kernel_initializer=glorot_init))\n",
    "\n",
    "    # Compile model\n",
    "    model.compile(loss='mean_squared_error',\n",
    "                  optimizer=hp_optimizer,\n",
    "                  metrics=['mse', 'accuracy'])\n",
    "\n",
    "    return model"
   ]
  },
  {
   "cell_type": "code",
   "execution_count": null,
   "metadata": {
    "collapsed": false
   },
   "outputs": [],
   "source": [
    "tuning_dir = (\n",
    "        'logs/tuned_scalars/' + 'tuned_baseline_model' + '_' + datetime.now().strftime('%Y%m%d-%H%M%S')\n",
    "    ) # dir to save tuning logs\n",
    "\n",
    "# Define tuner\n",
    "tuner = kt.BayesianOptimization(hypermodel=build_model,\n",
    "                    objective=kt.Objective('val_loss', direction='min'),\n",
    "                    max_trials=5,\n",
    "                    overwrite=True,\n",
    "                    directory='./data/tuned_models/',\n",
    "                    project_name='tuned_baseline_model')"
   ]
  },
  {
   "cell_type": "code",
   "execution_count": null,
   "outputs": [],
   "source": [
    "tf.keras.backend.clear_session() # clear keras session before starting search"
   ],
   "metadata": {
    "collapsed": false
   }
  },
  {
   "cell_type": "code",
   "execution_count": null,
   "metadata": {
    "collapsed": false
   },
   "outputs": [],
   "source": [
    "tuner.search(train_generator,\n",
    "             epochs = 100,\n",
    "             callbacks = [\n",
    "                 EarlyStopping(monitor='val_loss', patience=10, min_delta=0.0001),\n",
    "                 TensorBoard(log_dir=tuning_dir),\n",
    "                 ModelCheckpoint('./data/tuned_models/tuned_baseline/best_weights.h5',save_best_only=True, monitor='val_loss'),\n",
    "                 ReduceLROnPlateau(monitor='val_loss', factor=0.1, min_lr=1e-9, patience=5, cooldown=5, min_delta=0.00001),\n",
    "                 TerminateOnNaN(),\n",
    "                 CustomLearningRateScheduler()\n",
    "             ],\n",
    "             validation_data=val_generator,\n",
    "             batch_size = BATCH_SIZE,\n",
    "             steps_per_epoch = 150,\n",
    "             validation_steps = 80\n",
    "             )"
   ]
  },
  {
   "cell_type": "code",
   "execution_count": null,
   "metadata": {
    "collapsed": false
   },
   "outputs": [],
   "source": [
    "tuner.results_summary()"
   ]
  },
  {
   "cell_type": "code",
   "execution_count": null,
   "metadata": {
    "collapsed": false
   },
   "outputs": [],
   "source": [
    "best_params = tuner.get_best_hyperparameters()[0]"
   ]
  },
  {
   "cell_type": "code",
   "execution_count": null,
   "metadata": {
    "collapsed": false
   },
   "outputs": [],
   "source": [
    "best_model = tuner.get_best_models()[0]\n",
    "best_model.summary()"
   ]
  },
  {
   "cell_type": "code",
   "execution_count": null,
   "metadata": {
    "collapsed": false
   },
   "outputs": [],
   "source": [
    "tf.keras.backend.clear_session() # clear keras session"
   ]
  },
  {
   "cell_type": "code",
   "execution_count": null,
   "metadata": {
    "collapsed": false
   },
   "outputs": [],
   "source": [
    "train_history = train(name='tuned_baseline_model', model=best_model, train_generator=train_generator, val_generator=val_generator, epochs=50, BATCH_SIZE=BATCH_SIZE,  step_size=step_size, val_step_size=val_step_size)"
   ]
  },
  {
   "cell_type": "code",
   "execution_count": null,
   "metadata": {
    "collapsed": false
   },
   "outputs": [],
   "source": [
    "def plot_loss(history):\n",
    "    loss_list = ['loss']\n",
    "    val_loss_list = ['val_loss']\n",
    "\n",
    "    if len(loss_list) == 0:\n",
    "        print('Loss is missing in history')\n",
    "        return\n",
    "\n",
    "    ## As loss always exists\n",
    "    epochs = np.arange(0,len(history.history[loss_list[0]]))\n",
    "\n",
    "    ## Loss\n",
    "    plt.figure(1)\n",
    "    for l in loss_list:\n",
    "        plt.plot(epochs - 0.5, history.history[l], 'lightblue', label='Training loss (' + str(str(format(history.history[l][-1],'.5f'))+')'))\n",
    "    for l in val_loss_list:\n",
    "        plt.plot(epochs, history.history[l], 'coral', label='Validation loss (' + str(str(format(history.history[l][-1],'.5f'))+')'))\n",
    "\n",
    "    plt.title('Tuned-Baseline Model: Loss')\n",
    "    plt.xlabel('Epochs')\n",
    "    plt.ylabel('Loss')\n",
    "    plt.grid(False)\n",
    "    plt.legend()\n",
    "    #plt.savefig('baseline_model_loss_plot.pdf')\n",
    "    plt.show()"
   ]
  },
  {
   "cell_type": "code",
   "execution_count": null,
   "metadata": {
    "collapsed": false
   },
   "outputs": [],
   "source": [
    "plot_loss(train_history)"
   ]
  },
  {
   "cell_type": "code",
   "execution_count": null,
   "metadata": {
    "execution": {
     "iopub.status.busy": "2023-03-17T23:56:44.935873Z",
     "iopub.status.idle": "2023-03-17T23:56:44.936202Z",
     "shell.execute_reply": "2023-03-17T23:56:44.936047Z",
     "shell.execute_reply.started": "2023-03-17T23:56:44.936031Z"
    },
    "id": "vjC71urSx_df",
    "trusted": true
   },
   "outputs": [],
   "source": [
    "def get_predictions(test_generator: Iterator, model: Sequential) -> pd.DataFrame:\n",
    "    \"\"\"\n",
    "    Params\n",
    "    ------\n",
    "    test_generator: Iterator\n",
    "        Data generator for testing\n",
    "    model: Sequential model\n",
    "        trained model to make\n",
    "\n",
    "    Returns\n",
    "    -------\n",
    "    pd.DataFrame\n",
    "        predictions as pandas dataframe\n",
    "    \"\"\"\n",
    "    \n",
    "    # extract image_id from test_generator\n",
    "    image_ids = [filename.split('/')[1] for filename in test_generator.filenames]\n",
    "    # convert to pandas dataframe with image_id as column name\n",
    "    png_df = pd.DataFrame(data=image_ids, columns=['image_id'])\n",
    "    png_df['image_id'] = png_df.image_id.apply(lambda x: os.path.split(x)[-1].split('.png')[0])\n",
    "\n",
    "    # make predictions\n",
    "    pred = model.predict(test_generator)\n",
    "\n",
    "    # convert prediction numpy.ndarray( to pd.DataFrame\n",
    "    pred_df = pd.concat([png_df, pd.DataFrame(data=pred, columns=['angle', 'speed'])], axis=1)\n",
    "    # dropping index from dataframe\n",
    "    pred_df.reset_index(drop=True)\n",
    "\n",
    "    # return predictions\n",
    "    return pred_df"
   ]
  },
  {
   "cell_type": "code",
   "execution_count": null,
   "metadata": {
    "execution": {
     "iopub.status.busy": "2023-03-17T23:56:44.937725Z",
     "iopub.status.idle": "2023-03-17T23:56:44.938101Z",
     "shell.execute_reply": "2023-03-17T23:56:44.937930Z",
     "shell.execute_reply.started": "2023-03-17T23:56:44.937912Z"
    },
    "id": "raC2R1y3yAIj",
    "trusted": true
   },
   "outputs": [],
   "source": [
    "def save_csv(pred_df: pd.DataFrame) -> None:\n",
    "    \"\"\"\n",
    "    Params\n",
    "    ------\n",
    "    pred_df: pd.DataFrame\n",
    "        predictions in pandas dataframe\n",
    "\n",
    "    Returns\n",
    "    -------\n",
    "    None\n",
    "    \"\"\"\n",
    "\n",
    "    savedir='./submissions' # submissions directory\n",
    "    if not os.path.exists(savedir):\n",
    "        os.mkdir(savedir)\n",
    "\n",
    "    csvfile = 'submission' + '_' + datetime.now().strftime('%d-%b_%I-%M%p') + '.csv' # csv file name\n",
    "    savedir = str(os.path.join(savedir, csvfile))\n",
    "    pred_df.to_csv(savedir, sep=',', index=False) # save to disk\n",
    "    print('Saved CSV file on disk!')"
   ]
  },
  {
   "cell_type": "code",
   "execution_count": null,
   "metadata": {
    "colab": {
     "base_uri": "https://localhost:8080/"
    },
    "execution": {
     "iopub.status.busy": "2023-03-17T23:56:44.939105Z",
     "iopub.status.idle": "2023-03-17T23:56:44.939514Z",
     "shell.execute_reply": "2023-03-17T23:56:44.939317Z",
     "shell.execute_reply.started": "2023-03-17T23:56:44.939293Z"
    },
    "id": "5NulLTRvUx2v",
    "outputId": "55e607e0-d919-4e45-a0e1-de5b608b7bb1",
    "trusted": true
   },
   "outputs": [],
   "source": [
    "#test_path = os.path.join(data_path, 'test_data', 'images') # path to test data\n",
    "#test_dir = os.path.join(data_path, 'test_data')\n",
    "pred_df = get_predictions(test_generator, baseline_model)"
   ]
  },
  {
   "cell_type": "code",
   "execution_count": null,
   "metadata": {},
   "outputs": [],
   "source": [
    "pred_df"
   ]
  },
  {
   "cell_type": "code",
   "execution_count": null,
   "metadata": {
    "collapsed": false,
    "execution": {
     "iopub.status.busy": "2023-03-17T23:56:44.943443Z",
     "iopub.status.idle": "2023-03-17T23:56:44.943876Z",
     "shell.execute_reply": "2023-03-17T23:56:44.943690Z",
     "shell.execute_reply.started": "2023-03-17T23:56:44.943669Z"
    },
    "jupyter": {
     "outputs_hidden": false
    },
    "trusted": true
   },
   "outputs": [],
   "source": [
    "save_csv(pred_df)"
   ]
  }
 ],
 "metadata": {
  "accelerator": "GPU",
  "colab": {
   "machine_shape": "hm",
   "provenance": []
  },
  "gpuClass": "premium",
  "kernelspec": {
   "display_name": "Python 3",
   "language": "python",
   "name": "python3"
  },
  "language_info": {
   "codemirror_mode": {
    "name": "ipython",
    "version": 3
   },
   "file_extension": ".py",
   "mimetype": "text/x-python",
   "name": "python",
   "nbconvert_exporter": "python",
   "pygments_lexer": "ipython3",
   "version": "3.8.16"
  }
 },
 "nbformat": 4,
 "nbformat_minor": 4
}
