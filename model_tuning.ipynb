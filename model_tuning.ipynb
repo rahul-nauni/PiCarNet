{
 "cells": [
  {
   "cell_type": "code",
   "execution_count": 1,
   "metadata": {
    "execution": {
     "iopub.execute_input": "2023-03-17T23:57:13.078783Z",
     "iopub.status.busy": "2023-03-17T23:57:13.077845Z",
     "iopub.status.idle": "2023-03-17T23:57:13.092412Z",
     "shell.execute_reply": "2023-03-17T23:57:13.091095Z",
     "shell.execute_reply.started": "2023-03-17T23:57:13.078745Z"
    },
    "id": "BlIfrc1Gl2fu",
    "trusted": true
   },
   "outputs": [
    {
     "name": "stderr",
     "output_type": "stream",
     "text": [
      "2023-04-21 15:33:06.476479: I tensorflow/core/platform/cpu_feature_guard.cc:182] This TensorFlow binary is optimized to use available CPU instructions in performance-critical operations.\n",
      "To enable the following instructions: AVX2 FMA, in other operations, rebuild TensorFlow with the appropriate compiler flags.\n"
     ]
    }
   ],
   "source": [
    "# Importing dependencies\n",
    "import pandas as pd\n",
    "import os\n",
    "import numpy as np\n",
    "from datetime import datetime\n",
    "from typing import List, Union, Iterator, Tuple, Any\n",
    "%matplotlib inline\n",
    "import matplotlib.pyplot as plt\n",
    "plt.style.use('dark_background')\n",
    "from functools import partial\n",
    "from sklearn.model_selection import train_test_split\n",
    "\n",
    "# Filter and ignore some tf warnings\n",
    "# skip debug and warning logs\n",
    "import logging\n",
    "logging.getLogger(\"tensorflow\").setLevel(logging.ERROR)\n",
    "\n",
    "import tensorflow as tf\n",
    "#tf.compat.v1.logging.set_verbosity(tf.compat.v1.logging.ERROR)\n",
    "#import keras.api._v2.keras as keras # this is the exact package tensorflow loads\n",
    "from tensorflow import keras\n",
    "from keras.preprocessing.image import ImageDataGenerator\n",
    "from keras.layers import Dense, Dropout, GlobalAveragePooling2D, BatchNormalization, Input, Activation, Flatten, Lambda, Resizing, MaxPooling2D,  Conv2D, Concatenate, UpSampling2D, Cropping2D\n",
    "from keras.models import Sequential, Model, load_model\n",
    "from keras.applications import mobilenet_v2, mobilenet_v3, vgg16, xception, resnet, EfficientNetV2B3, EfficientNetV2S\n",
    "from keras.callbacks import Callback, EarlyStopping, ModelCheckpoint, TensorBoard, History, LearningRateScheduler, ReduceLROnPlateau\n",
    "from keras.optimizers import Adam, RMSprop, Adagrad, Nadam\n",
    "from keras.losses import mean_squared_error\n",
    "import keras_tuner as kt\n",
    "from keras import backend\n",
    "\n",
    "# Disable AutoShard policy\n",
    "#tf.distribute.experimental.CentralStorageStrategy()"
   ]
  },
  {
   "cell_type": "code",
   "execution_count": 2,
   "metadata": {},
   "outputs": [
    {
     "name": "stderr",
     "output_type": "stream",
     "text": [
      "2023-04-21 15:33:13.164163: I tensorflow/compiler/xla/stream_executor/cuda/cuda_gpu_executor.cc:982] could not open file to read NUMA node: /sys/bus/pci/devices/0000:09:00.0/numa_node\n",
      "Your kernel may have been built without NUMA support.\n",
      "2023-04-21 15:33:13.223137: I tensorflow/compiler/xla/stream_executor/cuda/cuda_gpu_executor.cc:982] could not open file to read NUMA node: /sys/bus/pci/devices/0000:09:00.0/numa_node\n",
      "Your kernel may have been built without NUMA support.\n",
      "2023-04-21 15:33:13.224150: I tensorflow/compiler/xla/stream_executor/cuda/cuda_gpu_executor.cc:982] could not open file to read NUMA node: /sys/bus/pci/devices/0000:09:00.0/numa_node\n",
      "Your kernel may have been built without NUMA support.\n"
     ]
    }
   ],
   "source": [
    "# Limit GPU memory growth prior to allocating any tensors\n",
    "gpus = tf.config.list_physical_devices('GPU')\n",
    "if gpus:\n",
    "    for gpu in gpus:\n",
    "        try:\n",
    "            tf.config.experimental.set_memory_growth(gpu, True)\n",
    "        except RuntimeError as e:\n",
    "            print(e)"
   ]
  },
  {
   "cell_type": "code",
   "execution_count": 3,
   "metadata": {
    "collapsed": false
   },
   "outputs": [],
   "source": [
    "# global variables\n",
    "IMG_HEIGHT = 224 # image height\n",
    "IMG_WIDTH = 224 # image width\n",
    "CHANNELS = 3 # choose 1 if you're working with grayscale images else 3\n",
    "BATCH_SIZE = 64 # number of images to process in one batch\n",
    "epochs = 100 # number of epochs\n",
    "step_size = 150 # number of steps per epoch\n",
    "val_step_size = 80 # number of steps per epoch for validation data\n",
    "data_path='./machine-learning-in-science-ii-2023' # parent path to training and testing data"
   ]
  },
  {
   "cell_type": "code",
   "execution_count": 4,
   "metadata": {
    "execution": {
     "iopub.execute_input": "2023-03-17T23:56:37.582989Z",
     "iopub.status.busy": "2023-03-17T23:56:37.582697Z",
     "iopub.status.idle": "2023-03-17T23:56:37.595473Z",
     "shell.execute_reply": "2023-03-17T23:56:37.594541Z",
     "shell.execute_reply.started": "2023-03-17T23:56:37.582964Z"
    },
    "id": "0cmhIYoJn-V0",
    "trusted": true
   },
   "outputs": [],
   "source": [
    "def load_data(data_path: str) -> pd.DataFrame:\n",
    "    \"\"\"Loads data from csv file\n",
    "    Params\n",
    "    ------\n",
    "    data_path: str\n",
    "        Data path containing images and csv data\n",
    "    Returns\n",
    "    -------\n",
    "    pd.DataFrame\n",
    "        Loaded data as pandas dataframe\n",
    "    \"\"\"\n",
    "    columns = ['image_id', 'angle', 'speed']\n",
    "    data = pd.read_csv(os.path.join(data_path, 'training_norm.csv'), delimiter= ',', header=0, names = columns)\n",
    "\n",
    "    return data"
   ]
  },
  {
   "cell_type": "code",
   "execution_count": 5,
   "metadata": {
    "execution": {
     "iopub.execute_input": "2023-03-17T23:56:37.597362Z",
     "iopub.status.busy": "2023-03-17T23:56:37.597072Z",
     "iopub.status.idle": "2023-03-17T23:56:37.608576Z",
     "shell.execute_reply": "2023-03-17T23:56:37.607567Z",
     "shell.execute_reply.started": "2023-03-17T23:56:37.597337Z"
    },
    "id": "9xggw4koo26n",
    "trusted": true
   },
   "outputs": [],
   "source": [
    "# Appends absolute path with image id column\n",
    "def append_path(data: pd.DataFrame, data_path: os.PathLike) -> pd.DataFrame:\n",
    "  data['image_id'] = data.image_id.apply(lambda x: os.path.join(data_path, 'training_data/', str(x)) + '.png')\n",
    "  return data"
   ]
  },
  {
   "cell_type": "markdown",
   "metadata": {
    "id": "AWsOtfs-o8SQ"
   },
   "source": [
    "## Data preprocessing"
   ]
  },
  {
   "cell_type": "code",
   "execution_count": 6,
   "metadata": {
    "execution": {
     "iopub.execute_input": "2023-03-17T23:56:37.610139Z",
     "iopub.status.busy": "2023-03-17T23:56:37.609823Z",
     "iopub.status.idle": "2023-03-17T23:56:37.619261Z",
     "shell.execute_reply": "2023-03-17T23:56:37.618326Z",
     "shell.execute_reply.started": "2023-03-17T23:56:37.610112Z"
    },
    "id": "6TMHCf2Go-nC",
    "trusted": true
   },
   "outputs": [],
   "source": [
    "# train test split of dataset\n",
    "def split_data(data: pd.DataFrame) -> Tuple[pd.DataFrame, pd.DataFrame]:\n",
    "    \"\"\"\n",
    "    Params\n",
    "    ------\n",
    "    data: pd.DataFrame\n",
    "        Pandas dataframe containing all data.\n",
    "    Returns\n",
    "    -------\n",
    "    Tuple[pd.DataFrame, pd.DataFrame]\n",
    "        A tuple of train and val split\n",
    "    \"\"\"\n",
    "    rnd = np.random.RandomState(seed=None)\n",
    "\n",
    "    train_data, val_data = train_test_split(data, test_size=0.2, random_state=rnd.seed(1234)) # split data with test size of 20%\n",
    "    #test_data, val_data = train_test_split(train_data, test_size=0.12, random_state=rnd.seed(1234)) # split validation data with test size of 12.5%\n",
    "    return train_data, val_data"
   ]
  },
  {
   "cell_type": "code",
   "execution_count": 7,
   "metadata": {
    "execution": {
     "iopub.execute_input": "2023-03-17T23:56:37.622551Z",
     "iopub.status.busy": "2023-03-17T23:56:37.621683Z",
     "iopub.status.idle": "2023-03-17T23:56:37.638621Z",
     "shell.execute_reply": "2023-03-17T23:56:37.637780Z",
     "shell.execute_reply.started": "2023-03-17T23:56:37.622521Z"
    },
    "id": "Ti7mUZzHKJa4",
    "trusted": true
   },
   "outputs": [],
   "source": [
    "data = load_data(data_path)"
   ]
  },
  {
   "cell_type": "code",
   "execution_count": 8,
   "metadata": {
    "colab": {
     "base_uri": "https://localhost:8080/",
     "height": 206
    },
    "execution": {
     "iopub.execute_input": "2023-03-17T23:56:37.640164Z",
     "iopub.status.busy": "2023-03-17T23:56:37.639858Z",
     "iopub.status.idle": "2023-03-17T23:56:37.650872Z",
     "shell.execute_reply": "2023-03-17T23:56:37.649944Z",
     "shell.execute_reply.started": "2023-03-17T23:56:37.640137Z"
    },
    "id": "sEErtJDaKTqQ",
    "outputId": "da41ac5c-cec2-4a23-d6c7-041528ea4906",
    "trusted": true
   },
   "outputs": [
    {
     "data": {
      "text/html": [
       "<div>\n",
       "<style scoped>\n",
       "    .dataframe tbody tr th:only-of-type {\n",
       "        vertical-align: middle;\n",
       "    }\n",
       "\n",
       "    .dataframe tbody tr th {\n",
       "        vertical-align: top;\n",
       "    }\n",
       "\n",
       "    .dataframe thead th {\n",
       "        text-align: right;\n",
       "    }\n",
       "</style>\n",
       "<table border=\"1\" class=\"dataframe\">\n",
       "  <thead>\n",
       "    <tr style=\"text-align: right;\">\n",
       "      <th></th>\n",
       "      <th>image_id</th>\n",
       "      <th>angle</th>\n",
       "      <th>speed</th>\n",
       "    </tr>\n",
       "  </thead>\n",
       "  <tbody>\n",
       "    <tr>\n",
       "      <th>0</th>\n",
       "      <td>1</td>\n",
       "      <td>0.4375</td>\n",
       "      <td>0.0</td>\n",
       "    </tr>\n",
       "    <tr>\n",
       "      <th>1</th>\n",
       "      <td>2</td>\n",
       "      <td>0.8125</td>\n",
       "      <td>1.0</td>\n",
       "    </tr>\n",
       "    <tr>\n",
       "      <th>2</th>\n",
       "      <td>3</td>\n",
       "      <td>0.4375</td>\n",
       "      <td>1.0</td>\n",
       "    </tr>\n",
       "    <tr>\n",
       "      <th>3</th>\n",
       "      <td>4</td>\n",
       "      <td>0.6250</td>\n",
       "      <td>1.0</td>\n",
       "    </tr>\n",
       "    <tr>\n",
       "      <th>4</th>\n",
       "      <td>5</td>\n",
       "      <td>0.5000</td>\n",
       "      <td>0.0</td>\n",
       "    </tr>\n",
       "  </tbody>\n",
       "</table>\n",
       "</div>"
      ],
      "text/plain": [
       "   image_id   angle  speed\n",
       "0         1  0.4375    0.0\n",
       "1         2  0.8125    1.0\n",
       "2         3  0.4375    1.0\n",
       "3         4  0.6250    1.0\n",
       "4         5  0.5000    0.0"
      ]
     },
     "execution_count": 8,
     "metadata": {},
     "output_type": "execute_result"
    }
   ],
   "source": [
    "data.head()"
   ]
  },
  {
   "cell_type": "code",
   "execution_count": 9,
   "metadata": {
    "execution": {
     "iopub.execute_input": "2023-03-17T23:56:37.652167Z",
     "iopub.status.busy": "2023-03-17T23:56:37.651894Z",
     "iopub.status.idle": "2023-03-17T23:56:37.716624Z",
     "shell.execute_reply": "2023-03-17T23:56:37.715658Z",
     "shell.execute_reply.started": "2023-03-17T23:56:37.652144Z"
    },
    "id": "cQ_RoYeBKXqB",
    "trusted": true
   },
   "outputs": [],
   "source": [
    "data = append_path(data, data_path)"
   ]
  },
  {
   "cell_type": "code",
   "execution_count": 10,
   "metadata": {
    "execution": {
     "iopub.execute_input": "2023-03-17T23:56:37.718058Z",
     "iopub.status.busy": "2023-03-17T23:56:37.717778Z",
     "iopub.status.idle": "2023-03-17T23:56:37.724303Z",
     "shell.execute_reply": "2023-03-17T23:56:37.723444Z",
     "shell.execute_reply.started": "2023-03-17T23:56:37.718034Z"
    },
    "trusted": true
   },
   "outputs": [
    {
     "data": {
      "text/plain": [
       "'./machine-learning-in-science-ii-2023/training_data/2.png'"
      ]
     },
     "execution_count": 10,
     "metadata": {},
     "output_type": "execute_result"
    }
   ],
   "source": [
    "# image_id should contain complete path for images \n",
    "data['image_id'].tolist()[1]"
   ]
  },
  {
   "cell_type": "code",
   "execution_count": 11,
   "metadata": {
    "collapsed": false
   },
   "outputs": [],
   "source": [
    "data.to_csv('./new_training_data.csv', sep=',')"
   ]
  },
  {
   "cell_type": "code",
   "execution_count": 12,
   "metadata": {
    "execution": {
     "iopub.execute_input": "2023-03-17T23:56:37.725700Z",
     "iopub.status.busy": "2023-03-17T23:56:37.725444Z",
     "iopub.status.idle": "2023-03-17T23:56:37.735690Z",
     "shell.execute_reply": "2023-03-17T23:56:37.734789Z",
     "shell.execute_reply.started": "2023-03-17T23:56:37.725677Z"
    },
    "id": "4ikSujIRK058",
    "trusted": true
   },
   "outputs": [],
   "source": [
    "# splitting data into training and validation set\n",
    "train_data, val_data = split_data(data)"
   ]
  },
  {
   "cell_type": "code",
   "execution_count": 13,
   "metadata": {
    "execution": {
     "iopub.execute_input": "2023-03-17T23:56:37.738942Z",
     "iopub.status.busy": "2023-03-17T23:56:37.738610Z",
     "iopub.status.idle": "2023-03-17T23:56:37.744803Z",
     "shell.execute_reply": "2023-03-17T23:56:37.743894Z",
     "shell.execute_reply.started": "2023-03-17T23:56:37.738916Z"
    },
    "id": "xLyPZ2tjpCEh",
    "trusted": true
   },
   "outputs": [],
   "source": [
    "# plotting distribution of output labels\n",
    "def visualize(data):\n",
    "    plt.hist(data.loc[:,'angle'])\n",
    "    plt.hist(data.loc[:,'speed'])\n",
    "    plt.legend(['Steering angle', 'Driving speed'])\n",
    "    plt.title('Distribution plot for steering angle and speed')\n",
    "    plt.grid(False)\n",
    "    plt.show()"
   ]
  },
  {
   "cell_type": "code",
   "execution_count": 14,
   "metadata": {
    "colab": {
     "base_uri": "https://localhost:8080/",
     "height": 279
    },
    "execution": {
     "iopub.execute_input": "2023-03-17T23:56:37.746148Z",
     "iopub.status.busy": "2023-03-17T23:56:37.745894Z",
     "iopub.status.idle": "2023-03-17T23:56:38.025551Z",
     "shell.execute_reply": "2023-03-17T23:56:38.024548Z",
     "shell.execute_reply.started": "2023-03-17T23:56:37.746125Z"
    },
    "id": "HZsDngK805Ap",
    "outputId": "dc67edeb-fd54-4371-ec8e-1eb054829647",
    "trusted": true
   },
   "outputs": [
    {
     "data": {
      "image/png": "[encoded data removed]",
      "text/plain": [
       "<Figure size 640x480 with 1 Axes>"
      ]
     },
     "metadata": {},
     "output_type": "display_data"
    }
   ],
   "source": [
    "# Plotting train_data\n",
    "visualize(data=train_data)"
   ]
  },
  {
   "attachments": {},
   "cell_type": "markdown",
   "metadata": {
    "id": "-BCbMBY8pJad"
   },
   "source": [
    "## Data pipeline"
   ]
  },
  {
   "cell_type": "code",
   "execution_count": 15,
   "metadata": {
    "collapsed": false
   },
   "outputs": [],
   "source": [
    "def modify_rgb(img, height: int = 224, width: int= 224, color_mode: str='rgb'):\n",
    "    img = tf.image.resize(img, size=(height, width)) # resize image to given height and width\n",
    "    img = tf.cast(img, tf.float32) # convert image to float32\n",
    "    # normalize pixel values\n",
    "    img = tf.divide(img, 255.0)\n",
    "    img = tf.multiply(img, 2)\n",
    "    img = tf.subtract(img, 1)\n",
    "    if color_mode == 'yuv':\n",
    "        img = tf.image.rgb_to_yuv(img) # convert image to YUV\n",
    "    elif color_mode == 'grayscale':\n",
    "        img = tf.image.rgb_to_grayscale(img) # convert to Grayscale\n",
    "    elif color_mode == 'hsv':\n",
    "        img = tf.image.rgb_to_hsv(img) # convert image to YUV\n",
    "    # return modified image\n",
    "    return img"
   ]
  },
  {
   "cell_type": "code",
   "execution_count": 16,
   "metadata": {
    "execution": {
     "iopub.execute_input": "2023-03-17T23:56:38.027203Z",
     "iopub.status.busy": "2023-03-17T23:56:38.026894Z",
     "iopub.status.idle": "2023-03-17T23:56:38.039886Z",
     "shell.execute_reply": "2023-03-17T23:56:38.038888Z",
     "shell.execute_reply.started": "2023-03-17T23:56:38.027177Z"
    },
    "id": "XPc65R3CpE37",
    "trusted": true
   },
   "outputs": [],
   "source": [
    "# Generate images on the fly while training model\n",
    "def img_generator(train_data: pd.DataFrame, test_dir: os.PathLike, val_data: pd.DataFrame, BATCH_SIZE: int, IMG_HEIGHT: int, IMG_WIDTH: int, color_mode: str='rgb') -> Tuple[Iterator, Iterator, Iterator]:\n",
    "    \"\"\"\n",
    "    Params\n",
    "    ------\n",
    "    train_data: pd.DataFrame\n",
    "        Pandas dataframe containing training data\n",
    "    test_dir: os.PathLike\n",
    "        Path containing testing data\n",
    "    val_data: pd.DataFrame\n",
    "        Pandas dataframe containing validation data\n",
    "    BATCH_SIZE: int\n",
    "        Number of images to process in each batch\n",
    "    IMG_HEIGHT: int\n",
    "        image height\n",
    "    IMG_WIDTH: int\n",
    "        image width\n",
    "\n",
    "    Returns\n",
    "    -------\n",
    "    Tuple[Iterator, Iterator, Iterator]\n",
    "        keras ImageDataGenerators used for training and validating model.\n",
    "    \"\"\"\n",
    "    # Define partial function to pass image height and width to preprocessing function\n",
    "    preprocess_input = partial(modify_rgb, height=IMG_HEIGHT, width=IMG_WIDTH, color_mode=color_mode)\n",
    "    # Define a dictionary of arguments for the data generators\n",
    "    datagen_args = dict(\n",
    "        #rescale=(1.0 / 255), # normalize pixels in range 0 and 1\n",
    "        rotation_range=20,\n",
    "        shear_range=0.1,\n",
    "        width_shift_range=0.1,\n",
    "        height_shift_range=0.1,\n",
    "        brightness_range=(0.75, 1),\n",
    "        zoom_range=(0.75, 1),\n",
    "        fill_mode='nearest',\n",
    "        samplewise_center=False,\n",
    "        horizontal_flip=True,\n",
    "        vertical_flip=False\n",
    "        )\n",
    "\n",
    "    # Define data generators with datagen arguments\n",
    "    train_generator = ImageDataGenerator(**datagen_args, preprocessing_function=preprocess_input)\n",
    "    test_generator = ImageDataGenerator(**datagen_args, preprocessing_function=preprocess_input)\n",
    "    val_generator = ImageDataGenerator(**datagen_args, preprocessing_function=preprocess_input)\n",
    "\n",
    "\n",
    "    train_generator = train_generator.flow_from_dataframe(dataframe=train_data,\n",
    "                                                          directory=None,\n",
    "                                                          x_col='image_id',\n",
    "                                                          y_col=['angle','speed'],\n",
    "                                                          target_size=(IMG_HEIGHT, IMG_WIDTH),\n",
    "                                                          color_mode='rgb',\n",
    "                                                          class_mode='raw',\n",
    "                                                          batch_size=BATCH_SIZE,\n",
    "                                                          seed=tf.random.set_seed(1234),\n",
    "                                                          shuffle=True)\n",
    "\n",
    "    test_generator = test_generator.flow_from_directory(directory=test_dir,\n",
    "                                                        target_size=(IMG_HEIGHT, IMG_WIDTH),\n",
    "                                                        color_mode='rgb',\n",
    "                                                        class_mode=None,\n",
    "                                                        classes=None,\n",
    "                                                        batch_size=1, # Process whole batch at once\n",
    "                                                        seed=tf.random.set_seed(1234),\n",
    "                                                        shuffle=False)\n",
    "\n",
    "    val_generator = val_generator.flow_from_dataframe(dataframe=val_data,\n",
    "                                                      directory=None,\n",
    "                                                      x_col='image_id',\n",
    "                                                      y_col=['angle', 'speed'],\n",
    "                                                      target_size=(IMG_HEIGHT, IMG_WIDTH),\n",
    "                                                      color_mode='rgb',\n",
    "                                                      class_mode='raw',\n",
    "                                                      batch_size=BATCH_SIZE,\n",
    "                                                      seed=tf.random.set_seed(1234),\n",
    "                                                      shuffle=True)\n",
    "                                                      #save_to_dir='machine-learning-in-science-ii-2023/augmentations', save_format='png')\n",
    "\n",
    "    return train_generator, test_generator, val_generator\n"
   ]
  },
  {
   "cell_type": "code",
   "execution_count": 17,
   "metadata": {
    "colab": {
     "base_uri": "https://localhost:8080/"
    },
    "execution": {
     "iopub.execute_input": "2023-03-17T23:56:38.041255Z",
     "iopub.status.busy": "2023-03-17T23:56:38.041011Z",
     "iopub.status.idle": "2023-03-17T23:56:43.197941Z",
     "shell.execute_reply": "2023-03-17T23:56:43.196645Z",
     "shell.execute_reply.started": "2023-03-17T23:56:38.041233Z"
    },
    "id": "e2qxYfeC1uim",
    "outputId": "6e5e1fb0-ac21-4f02-b996-5a0b331f27ac",
    "trusted": true
   },
   "outputs": [
    {
     "name": "stdout",
     "output_type": "stream",
     "text": [
      "Found 11034 validated image filenames.\n",
      "Found 1020 images belonging to 1 classes.\n",
      "Found 2759 validated image filenames.\n"
     ]
    }
   ],
   "source": [
    "# create data generators for train test and val data\n",
    "#training_ds, testing_ds, validation_ds = create_img_pipeline(train_ds, test_ds, val_ds)\n",
    "test_dir = os.path.join(data_path, 'test_data')\n",
    "\n",
    "train_generator, test_generator, val_generator = img_generator(train_data, test_dir, val_data, BATCH_SIZE=BATCH_SIZE, IMG_HEIGHT=IMG_HEIGHT, IMG_WIDTH=IMG_WIDTH, color_mode='rgb')"
   ]
  },
  {
   "attachments": {},
   "cell_type": "markdown",
   "metadata": {},
   "source": [
    "## Define keras Callbacks"
   ]
  },
  {
   "cell_type": "code",
   "execution_count": 18,
   "metadata": {},
   "outputs": [],
   "source": [
    "class TestMSECallback(Callback):\n",
    "    def __init__(self, test_generator):\n",
    "        super().__init__()\n",
    "        self.test_generator = test_generator\n",
    "\n",
    "    def on_epoch_end(self, epoch, logs={}):\n",
    "        y_true = self.test_generator.labels\n",
    "        y_pred = self.model.predict(self.test_generator)\n",
    "        mse = mean_squared_error(y_true, y_pred).numpy()\n",
    "        logs['test_mse'] = float(mse)\n",
    "        print(f'MSE on test data at the end of epoch {epoch+1}: {float(mse):.5f}')"
   ]
  },
  {
   "cell_type": "code",
   "execution_count": 19,
   "metadata": {
    "collapsed": false
   },
   "outputs": [],
   "source": [
    "# Define a function to adjust learning rate if val_loss has seen no improvements after 5 epochs\n",
    "class CustomLearningRateScheduler(Callback):\n",
    "    \"\"\"Custom Learning rate scheduler which sets learning rate according to a schedule\"\"\"\n",
    "    def __init__(self, factor=0.1, patience=5, verbose=0):\n",
    "        super(CustomLearningRateScheduler, self).__init__()\n",
    "        self.factor = factor\n",
    "        self.patience = patience\n",
    "        self.verbose = verbose if verbose is not None else 0\n",
    "        self.best_val_loss = float('inf')\n",
    "        self.wait = 0\n",
    "        self.new_lr = None # Initialize new_lr to None\n",
    "\n",
    "    def on_epoch_end(self, epoch, logs=None):\n",
    "        val_loss = logs.get('val_loss')\n",
    "\n",
    "        if val_loss < self.best_val_loss: # if current val_loss is less than best_val_loss\n",
    "            self.best_val_loss = val_loss # update new best_val_loss\n",
    "            self.wait = 0\n",
    "        else:\n",
    "            self.wait += 1 # Start wait timer\n",
    "            if self.wait >= self.patience and self.new_lr is None:\n",
    "                old_lr = float(backend.get_value(self.model.optimizer.learning_rate))\n",
    "                self.new_lr = old_lr * self.factor\n",
    "            if self.verbose == 1:\n",
    "                print(f'\\nEpoch {epoch}: Reducing learning rate to {self.new_lr:.6f}')\n",
    "            backend.set_value(self.model.optimizer.learning_rate, self.new_lr)\n",
    "            self.wait = 0"
   ]
  },
  {
   "cell_type": "code",
   "execution_count": 20,
   "metadata": {
    "collapsed": false
   },
   "outputs": [],
   "source": [
    "# Custom callback to end training when loss is NaN\n",
    "class TerminateOnNaN(Callback):\n",
    "    def on_epoch_end(self, epoch, logs=None):\n",
    "        loss = logs.get('loss')\n",
    "        if loss is not None and np.isnan(loss):\n",
    "            print('Training loss is NaN. Stopping training.')\n",
    "            self.model.stop_training = True"
   ]
  },
  {
   "cell_type": "code",
   "execution_count": 21,
   "metadata": {
    "execution": {
     "iopub.execute_input": "2023-03-17T23:56:43.199776Z",
     "iopub.status.busy": "2023-03-17T23:56:43.199411Z",
     "iopub.status.idle": "2023-03-17T23:56:43.208718Z",
     "shell.execute_reply": "2023-03-17T23:56:43.207823Z",
     "shell.execute_reply.started": "2023-03-17T23:56:43.199746Z"
    },
    "id": "o5T5ByyEx5HA",
    "trusted": true
   },
   "outputs": [],
   "source": [
    "# defining callbacks\n",
    "def get_callbacks(model: str) -> List[Union[TensorBoard, EarlyStopping, ModelCheckpoint, LearningRateScheduler]]:\n",
    "    \"\"\"Accepts the model name as a string and returns multiple keras callbacks\n",
    "\n",
    "    Params\n",
    "    ------\n",
    "    model: str\n",
    "        The name of model as a string\n",
    "\n",
    "    Returns\n",
    "    -------\n",
    "    A list of multiple keras callbacks\n",
    "    \"\"\"\n",
    "    logdir = (\n",
    "        'logs/scalars/' + model + '_' + datetime.now().strftime('%Y%m%d-%H%M%S')\n",
    "    ) # logging for each model\n",
    "    tensorboard_callback = TensorBoard(log_dir=logdir)\n",
    "\n",
    "    early_stopping_callback = EarlyStopping(\n",
    "        monitor='val_loss',\n",
    "        min_delta=0.001,  # model should improve by at least 0.1\n",
    "        patience=10,  # amount of epochs  with improvements worse than 1% until the model stops\n",
    "        verbose=1,\n",
    "        baseline=0.009,\n",
    "        mode='min',\n",
    "        restore_best_weights=True,  # restore the best model with the lowest validation error\n",
    "    )\n",
    "\n",
    "    model_checkpoint_callback = ModelCheckpoint(\n",
    "        './data/models/' + model + '.h5',\n",
    "        monitor='val_loss',\n",
    "        verbose=0,\n",
    "        save_best_only=True,  # save the best model\n",
    "        mode='min',\n",
    "        save_freq='epoch',  # save the model on disk at end of every epoch\n",
    "    )\n",
    "\n",
    "    #lr_callback = LearningRateScheduler(schedule_decay)\n",
    "    reduce_lr_callback = ReduceLROnPlateau(monitor='val_loss',\n",
    "                                    factor=0.1,\n",
    "                                    patience=5,\n",
    "                                    cooldown=5,\n",
    "                                    verbose=1,\n",
    "                                    mode='min',\n",
    "                                    min_delta=0.0001,\n",
    "                                    min_lr=1e-9\n",
    "    )\n",
    "    #custom_lr_callback = CustomLearningRateScheduler()\n",
    "    term_on_nan_callback = TerminateOnNaN()\n",
    "\n",
    "    return [tensorboard_callback, early_stopping_callback, model_checkpoint_callback, reduce_lr_callback, term_on_nan_callback]"
   ]
  },
  {
   "cell_type": "code",
   "execution_count": 22,
   "metadata": {
    "collapsed": false
   },
   "outputs": [],
   "source": [
    "def conv_block(input, filters, kernel_size, strides: Any=(1,1), padding: str='same', activation: str='relu'):\n",
    "    x = Conv2D(filters=filters, kernel_size=kernel_size, strides=strides, padding=padding)(input)\n",
    "    x = Activation(activation)(x)\n",
    "    #x = MaxPooling2D((2, 2), padding='same')(x)\n",
    "    return x"
   ]
  },
  {
   "cell_type": "code",
   "execution_count": 23,
   "metadata": {
    "collapsed": false
   },
   "outputs": [],
   "source": [
    "# Custom activation function\n",
    "@tf.function\n",
    "def mish(x):\n",
    "    return x * tf.math.tanh(tf.math.softplus(x))"
   ]
  },
  {
   "cell_type": "code",
   "execution_count": 24,
   "metadata": {
    "collapsed": false
   },
   "outputs": [],
   "source": [
    "# Reference to original paper: https://images.nvidia.com/content/tegra/automotive/images/2016/solutions/pdf/end-to-end-dl-using-px.pdf\n",
    "def create_nvidia_model(input_shape, dropout_rate, optimizer) -> Model:\n",
    "    \"\"\"Creates cnn model based on architecture proposed by NVIDIA\n",
    "    Parmas\n",
    "    -------\n",
    "    input_shape: Any\n",
    "    dropout_rate: float\n",
    "    optimizer: keras.optimizers\n",
    "\n",
    "    Returns\n",
    "    -------\n",
    "    \"\"\"\n",
    "    # Define kernel_initializers\n",
    "    glorot_init = tf.keras.initializers.GlorotNormal(seed=42)\n",
    "    he_init = tf.keras.initializers.HeNormal(seed=42)\n",
    "\n",
    "    # Define model\n",
    "    model = Sequential(name='nvidia_model')\n",
    "    # Cropping input image from 240x320 to 370x110\n",
    "    model.add(Cropping2D(cropping=((0, 130), (85, 5)), input_shape=input_shape))\n",
    "\n",
    "    # Resizing cropped image from 370x110 to 250x70\n",
    "    model.add(Lambda(lambda x: tf.image.resize(x, size=[70, 250])))\n",
    "\n",
    "    # Convolution blocks\n",
    "    model.add(Conv2D(36, (3, 3), strides=(1, 1), padding='same', activation='relu', kernel_initializer=he_init, input_shape=input_shape))\n",
    "    model.add(BatchNormalization())\n",
    "    model.add(MaxPooling2D((2, 2), padding='valid'))\n",
    "\n",
    "    model.add(Conv2D(48, (3, 3), strides=(1, 1), padding='same', activation='relu', kernel_initializer=he_init))\n",
    "    model.add(BatchNormalization())\n",
    "    model.add(MaxPooling2D((2, 2), padding='valid'))\n",
    "\n",
    "    model.add(Conv2D(64, (3, 3), strides=(1, 1), padding='same', activation='relu', kernel_initializer=he_init))\n",
    "    model.add(BatchNormalization())\n",
    "    model.add(MaxPooling2D((2, 2), padding='same'))\n",
    "\n",
    "    model.add(Conv2D(128, (3, 3), padding='same', activation='relu', kernel_initializer=he_init))\n",
    "    model.add(BatchNormalization())\n",
    "    model.add(MaxPooling2D((2, 2), padding='same'))\n",
    "\n",
    "    model.add(Conv2D(128, (3, 3), padding='same', activation='relu', kernel_initializer=he_init))\n",
    "    model.add(BatchNormalization())\n",
    "    model.add(MaxPooling2D((2, 2), padding='same'))\n",
    "\n",
    "    #model.add(GlobalAveragePooling2D())\n",
    "    model.add(Flatten())\n",
    "    model.add(Dropout(dropout_rate))\n",
    "    model.add(Dense(1000, activation='relu', kernel_initializer=he_init))\n",
    "    #model.add(Dropout(dropout_rate))\n",
    "    model.add(Dense(100, activation='relu', kernel_initializer=he_init))\n",
    "    #model.add(Dropout(dropout_rate))\n",
    "    model.add(Dense(2, activation='sigmoid', kernel_initializer=glorot_init))\n",
    "\n",
    "    # Compile model\n",
    "    model.compile(loss='mean_squared_error',\n",
    "                  optimizer=optimizer,\n",
    "                  metrics=['mse', 'accuracy'])\n",
    "\n",
    "    return model"
   ]
  },
  {
   "cell_type": "code",
   "execution_count": 25,
   "metadata": {
    "collapsed": false
   },
   "outputs": [],
   "source": [
    "# Autoencoder implementation\n",
    "def create_autoencoder_model(input_shape, dropout_rate, optimizer) -> Model:\n",
    "    \"\"\"Creates an autoencoder model\n",
    "    Params\n",
    "    ------\n",
    "    input_shape: input dimensions of image (224x224x3).\n",
    "    dropout_rate: Applies Dropout to the input, to prevent over-fitting.\n",
    "    optimizer: Optimization algorithm.\n",
    "\n",
    "    Returns\n",
    "    -------\n",
    "    Sequential\n",
    "        The keras model.\n",
    "    \"\"\"\n",
    "    # Define model\n",
    "\n",
    "    inputs = Input(shape=input_shape, name='input_layer')\n",
    "\n",
    "    num_angle_classes = 100\n",
    "    num_speed_classes = 2\n",
    "\n",
    "    # Encoder\n",
    "    conv1 = Conv2D(32, (3, 3), activation='relu', padding='same', name='conv1')(inputs)\n",
    "    x = BatchNormalization()(conv1)\n",
    "    pool1 = MaxPooling2D((2, 2), padding='same')(x)\n",
    "\n",
    "    conv2 = Conv2D(16, (3, 3),  activation='relu', padding='same', name='conv2')(pool1)\n",
    "    x = BatchNormalization()(conv2)\n",
    "    pool2 = MaxPooling2D((2, 2), padding='same')(x)\n",
    "\n",
    "    conv3 = Conv2D(8, (3, 3),  activation='relu', padding='same', name='conv3')(pool2)\n",
    "    x = BatchNormalization()(conv3)\n",
    "    encoded = MaxPooling2D((2, 2), padding='same')(x)\n",
    "\n",
    "    # Decoder\n",
    "    deconv1 = Conv2D(8, (3, 3), activation='relu', padding='same', name='deconv1')(encoded)\n",
    "    x = BatchNormalization()(deconv1)\n",
    "    up1 = UpSampling2D((2, 2))(x)\n",
    "\n",
    "    deconv2 = Conv2D(16, (3, 3), strides=(1, 1), activation='relu', padding='same', name='deconv2')(up1)\n",
    "    x = BatchNormalization()(deconv2)\n",
    "    up2 = UpSampling2D((2, 2))(x)\n",
    "\n",
    "    deconv3 = Conv2D(32, (3, 3), strides=(1, 1), activation='relu', padding='same', name='deconv3')(up2)\n",
    "    x = BatchNormalization()(deconv3)\n",
    "    up3 = UpSampling2D((2, 2))(x)\n",
    "\n",
    "    decoded = Conv2D(3, (3, 3), activation='sigmoid', padding='same', name='decoded')(up3)\n",
    "    #decoded = GlobalAveragePooling2D(name='decoded')(decoded)\n",
    "\n",
    "    # Define autoencoder\n",
    "    autoencoder = Model(inputs, decoded)\n",
    "    # Compile autoencoder\n",
    "    autoencoder.compile(optimizer='rmsprop', loss='binary_crossentropy', metrics='accuracy')\n",
    "\n",
    "    # Define encoder model to use for predictions\n",
    "    # add dense layers on top of endoded layer\n",
    "    flat = Flatten()(encoded)\n",
    "    fc1 = Dense(128, activation='relu')(flat)\n",
    "    fc2 = Dense(64, activation='relu')(fc1)\n",
    "    y = Dropout(dropout_rate)(fc2)\n",
    "    y = BatchNormalization()(y)\n",
    "\n",
    "    # Define output layers\n",
    "    angle_output = Dense(num_angle_classes, name='angle_output', activation='softmax')(y)\n",
    "    speed_output = Dense(num_speed_classes, name='speed_output', activation='softmax')(y)\n",
    "    concatenated = Concatenate()([angle_output, speed_output])\n",
    "    outputs = Dense(2, activation='linear')(concatenated)\n",
    "\n",
    "    model = Model(inputs=inputs, outputs=outputs)\n",
    "    model.compile(loss=['mean_squared_error'],\n",
    "                  optimizer=optimizer,\n",
    "                  metrics=['mse', 'accuracy'])\n",
    "    return model"
   ]
  },
  {
   "cell_type": "code",
   "execution_count": 26,
   "metadata": {
    "collapsed": false
   },
   "outputs": [],
   "source": [
    "# Creates hybrid model by combining steering_net and speed_net\n",
    "def create_hybrid_model(input_shape, dropout_rate, optimizer) -> Model:\n",
    "    \"\"\"Creates a hybrid model to make two separate predictions on steering angle and speed.\n",
    "\n",
    "    Params\n",
    "    ------\n",
    "    input_shape: input dimensions of images\n",
    "    dropout_rate: Applies Dropout to the input, to prevent over-fitting.\n",
    "    optimizer: Optimization algorithm.\n",
    "\n",
    "    Returns\n",
    "    -------\n",
    "    Sequential\n",
    "        The keras model.\n",
    "    \"\"\"\n",
    "    # Define kernel_initializers for Dense layers\n",
    "    glorot_init = tf.keras.initializers.GlorotNormal(seed=42)\n",
    "    he_init = tf.keras.initializers.HeNormal(seed=42)\n",
    "\n",
    "    # Define input\n",
    "    inputs = Input(\n",
    "        shape=input_shape\n",
    "    )\n",
    "    ## Define steering_net ##\n",
    "    #########################\n",
    "    steering_net = Sequential([\n",
    "        # Preprocessing\n",
    "        Cropping2D(cropping=((62, 62), (62, 62)), input_shape=input_shape), # Crop input image\n",
    "        Lambda(lambda x: tf.image.resize(x, (100, 100))), # Resize image\n",
    "        # Convolutional layers\n",
    "        Conv2D(filters=32, kernel_size=5, strides=(2, 2), padding='same', activation='relu'),\n",
    "        BatchNormalization(),\n",
    "        MaxPooling2D((2, 2), padding='same'),\n",
    "        Conv2D(filters=32, kernel_size=5, strides=(2, 2), padding='same', activation='relu'),\n",
    "        BatchNormalization(),\n",
    "        MaxPooling2D((2, 2), padding='same'),\n",
    "        Conv2D(filters=64, kernel_size=5, strides=(2, 2), padding='same', activation='relu'),\n",
    "        BatchNormalization(),\n",
    "        MaxPooling2D((2, 2), padding='same'),\n",
    "        Conv2D(filters=64, kernel_size=3, strides=(1, 1), padding='same', activation='relu'),\n",
    "        BatchNormalization(),\n",
    "        MaxPooling2D((2, 2), padding='same'),\n",
    "        Conv2D(filters=128, kernel_size=3, strides=(1, 1), padding='same', activation='relu'),\n",
    "        BatchNormalization(),\n",
    "        MaxPooling2D((2, 2), padding='same'),\n",
    "        GlobalAveragePooling2D(),\n",
    "        # Flatten the convolution output\n",
    "        Flatten(),\n",
    "        BatchNormalization(), # to reduce covariate shift\n",
    "        # Fully-connected layers, returning single output\n",
    "        Dense(100, activation='relu', kernel_initializer=he_init),\n",
    "        Dropout(dropout_rate),\n",
    "        Dense(50, activation='relu', kernel_initializer=he_init),\n",
    "        Dropout(dropout_rate),\n",
    "        Dense(10, activation='relu', kernel_initializer=he_init),\n",
    "        Dropout(dropout_rate),\n",
    "        Dense(1, activation='softmax', kernel_initializer=glorot_init)], name='steering_net')\n",
    "\n",
    "    ## Define speed_net ##\n",
    "    ######################\n",
    "    # use mobilenet as base\n",
    "    base = xception.Xception(include_top=False, weights='imagenet', input_shape=input_shape)\n",
    "    for layers in base.layers[:20]:\n",
    "        layers.trainable = False\n",
    "    # Rebuild top\n",
    "    speed_net = Sequential([\n",
    "        base,\n",
    "        GlobalAveragePooling2D(),\n",
    "        BatchNormalization(),\n",
    "        Flatten(),\n",
    "        Dense(1024, activation='relu', kernel_initializer=he_init),\n",
    "        BatchNormalization(),\n",
    "        Dropout(dropout_rate),\n",
    "        Dense(512, activation='relu', kernel_initializer=he_init),\n",
    "        BatchNormalization(),\n",
    "        Dropout(dropout_rate),\n",
    "        Dense(128, activation='relu', kernel_initializer=he_init),\n",
    "        BatchNormalization(),\n",
    "        Dropout(dropout_rate),\n",
    "        Dense(1, activation='sigmoid', kernel_initializer=glorot_init)\n",
    "    ], name='speed_net')\n",
    "\n",
    "    # Merge both models\n",
    "    merged = Concatenate()([steering_net(inputs), speed_net(inputs)])\n",
    "    outputs = Dense(2, activation='linear', name='output')(merged)\n",
    "    # Define final model\n",
    "    model = Model(inputs=inputs, outputs=outputs)\n",
    "    # Compile the model\n",
    "    model.compile(loss='mean_squared_error',\n",
    "                  optimizer=optimizer,\n",
    "                  metrics='mse')\n",
    "    return model"
   ]
  },
  {
   "cell_type": "code",
   "execution_count": 69,
   "metadata": {
    "collapsed": false
   },
   "outputs": [],
   "source": [
    "def create_baseline_model(input_shape, dropout_rate, optimizer) -> Sequential:\n",
    "    \"\"\"Creates baseline model using TL\n",
    "    Parmas\n",
    "    -------\n",
    "    input_shape: Any\n",
    "    dropout_rate: float\n",
    "    optimizer: keras.optimizers\n",
    "\n",
    "    Returns\n",
    "    -------\n",
    "    \"\"\"\n",
    "    # Define number of classes for both outputs\n",
    "    #num_angle_classes = 100\n",
    "    #num_speed_classes = 10\n",
    "    # Define kernel_initializers for Dense layers\n",
    "    glorot_init = tf.keras.initializers.GlorotNormal(seed=42)\n",
    "    he_init = tf.keras.initializers.HeNormal(seed=42)\n",
    "\n",
    "    \"\"\"\n",
    "    top = base.output\n",
    "\n",
    "    base.trainable = False # Freeze the model\n",
    "    for layers in base.layers[:40]:\n",
    "        layers.trainable = False\n",
    "\n",
    "    #top = base.output\n",
    "    pool = GlobalAveragePooling2D()(top)\n",
    "    #flat = Flatten()(pool)\n",
    "    dropout1 = Dropout(dropout_rate)(pool)\n",
    "    fc1 = Dense(1024, activation='elu', kernel_initializer=he_init)(dropout1)\n",
    "    batch_norm1 = BatchNormalization()(fc1)\n",
    "\n",
    "    dropout2 = Dropout(dropout_rate)(batch_norm1)\n",
    "    fc2 = Dense(512, activation='elu', kernel_initializer=he_init)(dropout2)\n",
    "    batch_norm2 = BatchNormalization()(fc2)\n",
    "\n",
    "    dropout3 = Dropout(dropout_rate)(batch_norm2)\n",
    "    fc3 = Dense(64, activation='elu', kernel_initializer=he_init)(dropout3)\n",
    "    batch_norm3 = BatchNormalization()(fc3)\n",
    "\n",
    "    fc4 = Dense(num_angle_classes, activation='softmax', kernel_initializer=glorot_init)(batch_norm3)\n",
    "    angle_output = BatchNormalization(name='angle_output')(fc4)\n",
    "\n",
    "    fc5 = Dense(num_speed_classes, activation='softmax', kernel_initializer=glorot_init)(batch_norm3)\n",
    "    speed_output = BatchNormalization(name='speed_output')(fc5)\n",
    "\n",
    "    concatenated = Concatenate()([angle_output, speed_output])\n",
    "    outputs = Dense(2, activation='sigmoid', kernel_initializer=glorot_init)(concatenated)\n",
    "\n",
    "    model = Model(inputs=base.input, outputs=outputs)\"\"\"\n",
    "    # Define model\n",
    "    base = mobilenet_v2.MobileNetV2(include_top=False, weights='imagenet', input_shape=input_shape)\n",
    "    base.trainable = False # Freeze model\n",
    "    \n",
    "    for layers in base.layers[-35:]:\n",
    "        layers.trainable = True\n",
    "\n",
    "    model = Sequential(name='baseline_model')\n",
    "    model.add(base)\n",
    "    model.add(GlobalAveragePooling2D())\n",
    "    model.add(Flatten())\n",
    "    model.add(Dropout(dropout_rate))\n",
    "    model.add(Dense(256, kernel_initializer=he_init))\n",
    "    model.add(BatchNormalization())\n",
    "    model.add(Activation(activation='relu'))\n",
    "    model.add(Dropout(dropout_rate))\n",
    "    model.add(Dense(64, kernel_initializer=he_init))\n",
    "    model.add(BatchNormalization())\n",
    "    model.add(Activation(activation='relu'))\n",
    "    model.add(Dense(2, activation='sigmoid', kernel_initializer=glorot_init))\n",
    "    model.compile(loss='mean_squared_error',\n",
    "                  metrics=['mse', 'accuracy'],\n",
    "                  optimizer=optimizer)\n",
    "    return model"
   ]
  },
  {
   "cell_type": "code",
   "execution_count": 70,
   "metadata": {
    "collapsed": false
   },
   "outputs": [
    {
     "name": "stdout",
     "output_type": "stream",
     "text": [
      "Model: \"baseline_model\"\n",
      "_________________________________________________________________\n",
      " Layer (type)                Output Shape              Param #   \n",
      "=================================================================\n",
      " mobilenetv2_1.00_224 (Funct  (None, 7, 7, 1280)       2257984   \n",
      " ional)                                                          \n",
      "                                                                 \n",
      " global_average_pooling2d (G  (None, 1280)             0         \n",
      " lobalAveragePooling2D)                                          \n",
      "                                                                 \n",
      " flatten (Flatten)           (None, 1280)              0         \n",
      "                                                                 \n",
      " dropout (Dropout)           (None, 1280)              0         \n",
      "                                                                 \n",
      " dense (Dense)               (None, 256)               327936    \n",
      "                                                                 \n",
      " batch_normalization (BatchN  (None, 256)              1024      \n",
      " ormalization)                                                   \n",
      "                                                                 \n",
      " activation (Activation)     (None, 256)               0         \n",
      "                                                                 \n",
      " dropout_1 (Dropout)         (None, 256)               0         \n",
      "                                                                 \n",
      " dense_1 (Dense)             (None, 64)                16448     \n",
      "                                                                 \n",
      " batch_normalization_1 (Batc  (None, 64)               256       \n",
      " hNormalization)                                                 \n",
      "                                                                 \n",
      " activation_1 (Activation)   (None, 64)                0         \n",
      "                                                                 \n",
      " dense_2 (Dense)             (None, 2)                 130       \n",
      "                                                                 \n",
      "=================================================================\n",
      "Total params: 2,603,778\n",
      "Trainable params: 345,154\n",
      "Non-trainable params: 2,258,624\n",
      "_________________________________________________________________\n"
     ]
    }
   ],
   "source": [
    "input_shape = (IMG_HEIGHT, IMG_WIDTH, CHANNELS)\n",
    "\n",
    "lr = 6e-3 # learning rate\n",
    "decay = 0.1 # weight decay\n",
    "dropout_rate = 0.3\n",
    "optimizer = Nadam(learning_rate=lr, decay=decay)  # optimizer\n",
    "\n",
    "baseline_model = create_baseline_model(input_shape, dropout_rate, optimizer)\n",
    "baseline_model.summary()"
   ]
  },
  {
   "attachments": {},
   "cell_type": "markdown",
   "metadata": {},
   "source": [
    "## Training model"
   ]
  },
  {
   "cell_type": "code",
   "execution_count": 60,
   "metadata": {
    "collapsed": false
   },
   "outputs": [],
   "source": [
    "## Define train method\n",
    "def train(name: str, model: Model, train_generator: Iterator, val_generator: Iterator, epochs: int, BATCH_SIZE: int, step_size: int, val_step_size: int) -> History:\n",
    "    \"\"\"Used to train a model\n",
    "    Params\n",
    "    ------\n",
    "    name: str\n",
    "        Model name\n",
    "    model: keras.models.Model\n",
    "        Model we are training\n",
    "    train_generator: Iterator=\n",
    "        Image data generator for training\n",
    "    test_generator: Iterator\n",
    "        Image data generator for testing\n",
    "    val_generator: Iterator\n",
    "        Image data generator for validation\n",
    "    epoch: int\n",
    "        Number of epochs to train for\n",
    "    Returns\n",
    "    -------\n",
    "    keras.callbacks.History\n",
    "    \"\"\"\n",
    "    callbacks = get_callbacks(name)\n",
    "\n",
    "    history = model.fit(train_generator,\n",
    "              epochs=epochs,\n",
    "              steps_per_epoch=step_size,\n",
    "              validation_data=val_generator,\n",
    "              validation_steps=val_step_size,\n",
    "              callbacks=callbacks,\n",
    "              workers=16,\n",
    "              verbose=1,\n",
    "              batch_size=BATCH_SIZE)\n",
    "\n",
    "    return history"
   ]
  },
  {
   "cell_type": "code",
   "execution_count": 71,
   "metadata": {
    "collapsed": false
   },
   "outputs": [],
   "source": [
    "backend.clear_session() # clear keras session"
   ]
  },
  {
   "cell_type": "code",
   "execution_count": 72,
   "metadata": {
    "collapsed": false
   },
   "outputs": [
    {
     "name": "stdout",
     "output_type": "stream",
     "text": [
      "Epoch 1/100\n"
     ]
    },
    {
     "name": "stderr",
     "output_type": "stream",
     "text": [
      "2023-04-21 00:21:04.913659: I tensorflow/core/common_runtime/executor.cc:1197] [/device:CPU:0] (DEBUG INFO) Executor start aborting (this does not indicate an error and you can ignore this message): INVALID_ARGUMENT: You must feed a value for placeholder tensor 'Placeholder/_0' with dtype int32\n",
      "\t [[{{node Placeholder/_0}}]]\n"
     ]
    },
    {
     "name": "stdout",
     "output_type": "stream",
     "text": [
      "150/150 [==============================] - ETA: 0s - loss: 0.0329 - mse: 0.0329 - accuracy: 0.9251"
     ]
    },
    {
     "name": "stderr",
     "output_type": "stream",
     "text": [
      "2023-04-21 00:21:55.198418: I tensorflow/core/common_runtime/executor.cc:1197] [/device:CPU:0] (DEBUG INFO) Executor start aborting (this does not indicate an error and you can ignore this message): INVALID_ARGUMENT: You must feed a value for placeholder tensor 'Placeholder/_0' with dtype int32\n",
      "\t [[{{node Placeholder/_0}}]]\n"
     ]
    },
    {
     "name": "stdout",
     "output_type": "stream",
     "text": [
      "150/150 [==============================] - 76s 474ms/step - loss: 0.0329 - mse: 0.0329 - accuracy: 0.9251 - val_loss: 0.0408 - val_mse: 0.0408 - val_accuracy: 0.9281 - lr: 0.0060\n",
      "Epoch 2/100\n",
      "150/150 [==============================] - 75s 478ms/step - loss: 0.0258 - mse: 0.0258 - accuracy: 0.9429 - val_loss: 0.0296 - val_mse: 0.0296 - val_accuracy: 0.9392 - lr: 0.0060\n",
      "Epoch 3/100\n",
      "150/150 [==============================] - 75s 480ms/step - loss: 0.0232 - mse: 0.0232 - accuracy: 0.9467 - val_loss: 0.0226 - val_mse: 0.0226 - val_accuracy: 0.9526 - lr: 0.0060\n",
      "Epoch 4/100\n",
      "150/150 [==============================] - 71s 455ms/step - loss: 0.0221 - mse: 0.0221 - accuracy: 0.9507 - val_loss: 0.0239 - val_mse: 0.0239 - val_accuracy: 0.9465 - lr: 0.0060\n",
      "Epoch 5/100\n",
      "150/150 [==============================] - 72s 463ms/step - loss: 0.0212 - mse: 0.0212 - accuracy: 0.9517 - val_loss: 0.0211 - val_mse: 0.0211 - val_accuracy: 0.9508 - lr: 0.0060\n",
      "Epoch 6/100\n",
      "150/150 [==============================] - 71s 456ms/step - loss: 0.0199 - mse: 0.0199 - accuracy: 0.9585 - val_loss: 0.0186 - val_mse: 0.0186 - val_accuracy: 0.9603 - lr: 0.0060\n",
      "Epoch 7/100\n",
      "150/150 [==============================] - 71s 455ms/step - loss: 0.0197 - mse: 0.0197 - accuracy: 0.9573 - val_loss: 0.0197 - val_mse: 0.0197 - val_accuracy: 0.9573 - lr: 0.0060\n",
      "Epoch 8/100\n",
      "150/150 [==============================] - 72s 462ms/step - loss: 0.0200 - mse: 0.0200 - accuracy: 0.9566 - val_loss: 0.0173 - val_mse: 0.0173 - val_accuracy: 0.9609 - lr: 0.0060\n",
      "Epoch 9/100\n",
      "150/150 [==============================] - 72s 462ms/step - loss: 0.0196 - mse: 0.0196 - accuracy: 0.9576 - val_loss: 0.0172 - val_mse: 0.0172 - val_accuracy: 0.9654 - lr: 0.0060\n",
      "Epoch 10/100\n",
      "150/150 [==============================] - 75s 485ms/step - loss: 0.0188 - mse: 0.0188 - accuracy: 0.9582 - val_loss: 0.0161 - val_mse: 0.0161 - val_accuracy: 0.9664 - lr: 0.0060\n",
      "Epoch 11/100\n",
      "150/150 [==============================] - ETA: 0s - loss: 0.0197 - mse: 0.0197 - accuracy: 0.9570Restoring model weights from the end of the best epoch: 10.\n",
      "150/150 [==============================] - 74s 475ms/step - loss: 0.0197 - mse: 0.0197 - accuracy: 0.9570 - val_loss: 0.0170 - val_mse: 0.0170 - val_accuracy: 0.9654 - lr: 0.0060\n",
      "Epoch 11: early stopping\n"
     ]
    }
   ],
   "source": [
    "with tf.device(device_name='GPU:0'):\n",
    "    baseline_history = train(name='baseline_model', model=baseline_model, train_generator=train_generator, val_generator=val_generator, epochs=epochs, BATCH_SIZE=BATCH_SIZE,  step_size=step_size, val_step_size=val_step_size)"
   ]
  },
  {
   "cell_type": "code",
   "execution_count": 33,
   "metadata": {
    "collapsed": false
   },
   "outputs": [],
   "source": [
    "def plot_loss(history):\n",
    "    loss_list = ['loss']\n",
    "    val_loss_list = ['val_loss']\n",
    "\n",
    "    if len(loss_list) == 0:\n",
    "        print('Loss is missing in history')\n",
    "        return\n",
    "\n",
    "    ## As loss always exists\n",
    "    epochs = np.arange(0,len(history.history[loss_list[0]]))\n",
    "\n",
    "    ## Loss\n",
    "    plt.figure(1)\n",
    "    for l in loss_list:\n",
    "        plt.plot(epochs - 0.5, history.history[l], 'lightblue', label='Training loss (' + str(str(format(history.history[l][-1],'.5f'))+')'))\n",
    "    for l in val_loss_list:\n",
    "        plt.plot(epochs, history.history[l], 'coral', label='Validation loss (' + str(str(format(history.history[l][-1],'.5f'))+')'))\n",
    "\n",
    "    plt.title('Tuned-Baseline Model: Loss')\n",
    "    plt.xlabel('Epochs')\n",
    "    plt.ylabel('Loss')\n",
    "    plt.grid(False)\n",
    "    plt.legend()\n",
    "    #plt.savefig('baseline_model_loss_plot.pdf')\n",
    "    plt.show()"
   ]
  },
  {
   "cell_type": "code",
   "execution_count": 73,
   "metadata": {},
   "outputs": [
    {
     "data": {
      "image/png": "[encoded data removed]",
      "text/plain": [
       "<Figure size 640x480 with 1 Axes>"
      ]
     },
     "metadata": {},
     "output_type": "display_data"
    }
   ],
   "source": [
    "plot_loss(baseline_history)"
   ]
  },
  {
   "attachments": {},
   "cell_type": "markdown",
   "metadata": {
    "collapsed": false
   },
   "source": [
    "## Hyperparameter tuning using Keras-Tuner"
   ]
  },
  {
   "cell_type": "code",
   "execution_count": 97,
   "metadata": {
    "collapsed": false
   },
   "outputs": [],
   "source": [
    "# function to build model for tuning\n",
    "def build_model(hp):\n",
    "    \"\"\"\n",
    "    Build model for hyperparamter tuning\n",
    "\n",
    "    Params\n",
    "    ------\n",
    "    hp: HyperParameters class instance\n",
    "\n",
    "    Returns\n",
    "    -------\n",
    "    Model: Keras model object\n",
    "    \"\"\"\n",
    "    # Define number of classes for both outputs\n",
    "    #num_angle_classes = 1024\n",
    "    #num_speed_classes = 100\n",
    "\n",
    "    # Define kernel_initializers for Dense layers\n",
    "    glorot_init = tf.keras.initializers.GlorotNormal(seed=42)\n",
    "    he_init = tf.keras.initializers.HeNormal(seed=42)\n",
    "\n",
    "    # Define input\n",
    "    input_shape = (224, 224, 3)\n",
    "\n",
    "    # Define base model\n",
    "    base = mobilenet_v2.MobileNetV2(include_top=False, weights='imagenet', input_shape=input_shape)\n",
    "\n",
    "    # Define hyper-parameter tuning space\n",
    "    # Choice of baseline model\n",
    "    \"\"\"baseline_choice = hp.Choice(name = 'baseline', values=['resnet50', 'mobilenet_v2', 'mobilenet_v3', 'vgg16'], ordered=False)\n",
    "    if baseline_choice == 'resnet50':\n",
    "        hp_baseline = resnet.ResNet50(include_top=False, weights='imagenet', input_shape=input_shape)\n",
    "    elif baseline_choice == 'mobilenet_v2':\n",
    "        hp_baseline = mobilenet_v2.MobileNetV2(include_top=False, weights='imagenet', input_shape=input_shape)\n",
    "    elif baseline_choice == 'mobilenet_v3':\n",
    "        hp_baseline = mobilenet_v3.MobileNetV3(include_top=False, weights='imagenet', input_shape=input_shape)\n",
    "    else:\n",
    "        hp_baseline = vgg16.VGG16(include_top=False, weights='imagenet', input_shape=input_shape)\"\"\"\n",
    "    # Tune dropout rate\n",
    "    hp_dropout_rate = hp.Choice(name = 'dropout_rate', values=[1e-1, 2e-1, 3e-1, 4e-1, 5e-1])\n",
    "    # Choose layers to freeze in base model\n",
    "    hp_layers_to_train = hp.Int(name = 'layers_to_train', min_value=1, max_value=70, step=1)\n",
    "    #hp_layers_to_train = hp.Int('layers_to_train', min_value=10, max_value=110, step=5)\n",
    "    # Tune the kernel size in convolution layers\n",
    "    #hp_kernel_size = hp.Choice(name='kernel_size', values=[3, 5])\n",
    "    # Tune the number of strides in convolution layers\n",
    "    #hp_strides = hp.Choice(name='strides', values=[1, 2])\n",
    "    # Tune the number of units in the Dense layers\n",
    "    hp_units1 = hp.Choice(name='dense1', values=[128, 256, 512, 1024], ordered=False)\n",
    "    hp_units2 = hp.Choice(name='dense2', values=[64, 128, 256], ordered=False)\n",
    "    #hp_units3 = hp.Choice(name='dense3', values=[16, 32, 64], ordered=False)\n",
    "    #hp_units4 = hp.Choice(name='dense4', values=[8, 16, 32, 64, 128, 256, 512], ordered=False)\n",
    "    #hp_l2 = hp.Choice(name = 'kernel_regularizer', values=[0.1, 0.01, 0.001])\n",
    "    hp_activation = hp.Choice(name = 'activation', values=['relu', 'elu'], ordered=False)\n",
    "    hp_output_activation = hp.Choice(name = 'output_activation', values=['linear', 'sigmoid', 'softplus'], ordered=False)\n",
    "    # Tune momentum with RMSprop optimizer\n",
    "    #hp_momentum = hp.Choice(name='momentum', values=[0.0, 0.1, 0.01, 0.99, 0.001, 0.0001])\n",
    "    # Tune the learning rate for the optimizer\n",
    "    # Choose an optimal value from different values of learning rate\n",
    "    hp_learning_rate = hp.Choice('learning_rate', values=[2e-3, 4e-3, 6e-3, 2e-4, 6e-4])\n",
    "    # Choose optimal weight decay\n",
    "    hp_decay = hp.Choice(name='decay', values=[1e-1, 1e-2, 1e-3])\n",
    "    # choose optimal optimizer\n",
    "    optimizer_choice = hp.Choice('optimizer', ['Adam', 'Nadam', 'RMSprop'], ordered=False)\n",
    "    if optimizer_choice == 'Adam':\n",
    "        hp_optimizer = Adam(learning_rate=hp_learning_rate, decay=hp_decay)\n",
    "    elif optimizer_choice == 'Nadam':\n",
    "        hp_optimizer = Nadam(learning_rate=hp_learning_rate, decay=hp_decay)\n",
    "    elif optimizer_choice == 'Adagrad':\n",
    "            hp_optimizer = Adagrad(learning_rate=hp_learning_rate, decay=hp_decay)\n",
    "    else:\n",
    "        hp_optimizer = RMSprop(learning_rate=hp_learning_rate, decay=hp_decay)\n",
    "\n",
    "    base.trainable = False # Freeze the model\n",
    "    for layer in base.layers[-hp_layers_to_train:]:\n",
    "        layer.trainable = True\n",
    "\n",
    "    # Rebuild top\n",
    "    model = Sequential(name='tuned_baseline_model')\n",
    "    model.add(base)\n",
    "    model.add(GlobalAveragePooling2D())\n",
    "    model.add(Flatten())\n",
    "    model.add(Dropout(hp_dropout_rate))\n",
    "    model.add(Dense(hp_units1, kernel_initializer=he_init))\n",
    "    model.add(BatchNormalization())\n",
    "    model.add(Activation(hp_activation))\n",
    "    model.add(Dropout(hp_dropout_rate))\n",
    "    model.add(Dense(hp_units2, kernel_initializer=he_init))\n",
    "    model.add(BatchNormalization())\n",
    "    model.add(Activation(hp_activation))\n",
    "    model.add(Dense(2, activation=hp_output_activation, kernel_initializer=glorot_init))\n",
    "\n",
    "    # Compile model\n",
    "    model.compile(loss='mean_squared_error',\n",
    "                  optimizer=hp_optimizer,\n",
    "                  metrics=['mse', 'accuracy'])\n",
    "\n",
    "    return model"
   ]
  },
  {
   "cell_type": "code",
   "execution_count": 94,
   "metadata": {
    "collapsed": false
   },
   "outputs": [],
   "source": [
    "\"\"\"tuning_dir = (\n",
    "        'logs/tuned_scalars/' + 'tuned_baseline_model' + '_' + datetime.now().strftime('%Y%m%d-%H%M%S')\n",
    "    ) # dir to save tuning logs\n",
    "\n",
    "# Define tuner\n",
    "tuner = kt.RandomSearch(hypermodel=build_model,\n",
    "                    objective=kt.Objective('val_loss', direction='min'),\n",
    "                    max_trials=5,\n",
    "                    max_retries_per_trial=1,\n",
    "                    overwrite=True,\n",
    "                    directory='./data/tuned_models/',\n",
    "                    project_name='tuned_baseline_model'+ '_' + datetime.now().strftime('%Y%m%d-%H%M%S'))\"\"\""
   ]
  },
  {
   "cell_type": "code",
   "execution_count": 95,
   "metadata": {
    "collapsed": false
   },
   "outputs": [],
   "source": [
    "\"\"\"backend.clear_session() # clear keras session before starting search\n",
    "backend.set_image_data_format('channels_last')\"\"\""
   ]
  },
  {
   "cell_type": "code",
   "execution_count": 96,
   "metadata": {
    "collapsed": false
   },
   "outputs": [
    {
     "name": "stdout",
     "output_type": "stream",
     "text": [
      "\n",
      "Search: Running Trial #1\n",
      "\n",
      "Value             |Best Value So Far |Hyperparameter\n",
      "0.2               |0.2               |dropout_rate\n",
      "2                 |2                 |layers_to_train\n",
      "512               |512               |dense1\n",
      "128               |128               |dense2\n",
      "elu               |elu               |activation\n",
      "linear            |linear            |output_activation\n",
      "0.002             |0.002             |learning_rate\n",
      "0.001             |0.001             |decay\n",
      "Adam              |Adam              |optimizer\n",
      "\n",
      "Epoch 1/100\n"
     ]
    },
    {
     "name": "stderr",
     "output_type": "stream",
     "text": [
      "2023-04-21 01:07:14.550025: I tensorflow/core/common_runtime/executor.cc:1197] [/device:CPU:0] (DEBUG INFO) Executor start aborting (this does not indicate an error and you can ignore this message): INVALID_ARGUMENT: You must feed a value for placeholder tensor 'Placeholder/_0' with dtype int32\n",
      "\t [[{{node Placeholder/_0}}]]\n"
     ]
    },
    {
     "name": "stdout",
     "output_type": "stream",
     "text": [
      "150/150 [==============================] - ETA: 0s - loss: 0.1835 - mse: 0.1835 - accuracy: 0.8300"
     ]
    },
    {
     "name": "stderr",
     "output_type": "stream",
     "text": [
      "2023-04-21 01:08:55.692978: I tensorflow/core/common_runtime/executor.cc:1197] [/device:CPU:0] (DEBUG INFO) Executor start aborting (this does not indicate an error and you can ignore this message): INVALID_ARGUMENT: You must feed a value for placeholder tensor 'Placeholder/_0' with dtype int32\n",
      "\t [[{{node Placeholder/_0}}]]\n"
     ]
    },
    {
     "name": "stdout",
     "output_type": "stream",
     "text": [
      "150/150 [==============================] - 130s 854ms/step - loss: 0.1835 - mse: 0.1835 - accuracy: 0.8300 - val_loss: 0.0711 - val_mse: 0.0711 - val_accuracy: 0.7427 - lr: 0.0020\n",
      "Epoch 2/100\n",
      "150/150 [==============================] - 100s 664ms/step - loss: 0.0402 - mse: 0.0402 - accuracy: 0.9141 - lr: 0.0020\n",
      "Epoch 3/100\n",
      "150/150 [==============================] - 101s 673ms/step - loss: 0.0341 - mse: 0.0341 - accuracy: 0.9287 - lr: 0.0020\n",
      "Epoch 4/100\n",
      "150/150 [==============================] - 97s 649ms/step - loss: 0.0311 - mse: 0.0311 - accuracy: 0.9331 - lr: 0.0020\n",
      "Epoch 5/100\n",
      " 93/150 [=================>............] - ETA: 37s - loss: 0.0299 - mse: 0.0299 - accuracy: 0.9370"
     ]
    },
    {
     "ename": "KeyboardInterrupt",
     "evalue": "",
     "output_type": "error",
     "traceback": [
      "\u001b[0;31m---------------------------------------------------------------------------\u001b[0m",
      "\u001b[0;31mKeyboardInterrupt\u001b[0m                         Traceback (most recent call last)",
      "Cell \u001b[0;32mIn[96], line 2\u001b[0m\n\u001b[1;32m      1\u001b[0m \u001b[39mwith\u001b[39;00m tf\u001b[39m.\u001b[39mdevice(device_name\u001b[39m=\u001b[39m\u001b[39m'\u001b[39m\u001b[39m/device:GPU:0\u001b[39m\u001b[39m'\u001b[39m):\n\u001b[0;32m----> 2\u001b[0m     tuner\u001b[39m.\u001b[39;49msearch(train_generator,\n\u001b[1;32m      3\u001b[0m              epochs \u001b[39m=\u001b[39;49m \u001b[39m100\u001b[39;49m,\n\u001b[1;32m      4\u001b[0m              callbacks \u001b[39m=\u001b[39;49m [\n\u001b[1;32m      5\u001b[0m                  EarlyStopping(monitor\u001b[39m=\u001b[39;49m\u001b[39m'\u001b[39;49m\u001b[39mval_loss\u001b[39;49m\u001b[39m'\u001b[39;49m, patience\u001b[39m=\u001b[39;49m\u001b[39m10\u001b[39;49m, min_delta\u001b[39m=\u001b[39;49m\u001b[39m0.001\u001b[39;49m),\n\u001b[1;32m      6\u001b[0m                  TensorBoard(log_dir\u001b[39m=\u001b[39;49mtuning_dir),\n\u001b[1;32m      7\u001b[0m                  ModelCheckpoint(\u001b[39m'\u001b[39;49m\u001b[39m./data/tuned_models/tuned_baseline_model/best_weights.h5\u001b[39;49m\u001b[39m'\u001b[39;49m,save_best_only\u001b[39m=\u001b[39;49m\u001b[39mTrue\u001b[39;49;00m, monitor\u001b[39m=\u001b[39;49m\u001b[39m'\u001b[39;49m\u001b[39mval_loss\u001b[39;49m\u001b[39m'\u001b[39;49m),\n\u001b[1;32m      8\u001b[0m                  ReduceLROnPlateau(monitor\u001b[39m=\u001b[39;49m\u001b[39m'\u001b[39;49m\u001b[39mval_loss\u001b[39;49m\u001b[39m'\u001b[39;49m, factor\u001b[39m=\u001b[39;49m\u001b[39m0.1\u001b[39;49m, min_lr\u001b[39m=\u001b[39;49m\u001b[39m1e-9\u001b[39;49m, patience\u001b[39m=\u001b[39;49m\u001b[39m2\u001b[39;49m, cooldown\u001b[39m=\u001b[39;49m\u001b[39m5\u001b[39;49m, min_delta\u001b[39m=\u001b[39;49m\u001b[39m0.0001\u001b[39;49m),\n\u001b[1;32m      9\u001b[0m                  TerminateOnNaN()\n\u001b[1;32m     10\u001b[0m              ],\n\u001b[1;32m     11\u001b[0m              validation_data\u001b[39m=\u001b[39;49mval_generator,\n\u001b[1;32m     12\u001b[0m              batch_size \u001b[39m=\u001b[39;49m BATCH_SIZE,\n\u001b[1;32m     13\u001b[0m              steps_per_epoch \u001b[39m=\u001b[39;49m \u001b[39m150\u001b[39;49m,\n\u001b[1;32m     14\u001b[0m              validation_steps \u001b[39m=\u001b[39;49m \u001b[39m80\u001b[39;49m\n\u001b[1;32m     15\u001b[0m             )\n",
      "File \u001b[0;32m~/miniconda3/envs/tf/lib/python3.9/site-packages/keras_tuner/engine/base_tuner.py:230\u001b[0m, in \u001b[0;36mBaseTuner.search\u001b[0;34m(self, *fit_args, **fit_kwargs)\u001b[0m\n\u001b[1;32m    227\u001b[0m         \u001b[39mcontinue\u001b[39;00m\n\u001b[1;32m    229\u001b[0m     \u001b[39mself\u001b[39m\u001b[39m.\u001b[39mon_trial_begin(trial)\n\u001b[0;32m--> 230\u001b[0m     \u001b[39mself\u001b[39;49m\u001b[39m.\u001b[39;49m_try_run_and_update_trial(trial, \u001b[39m*\u001b[39;49mfit_args, \u001b[39m*\u001b[39;49m\u001b[39m*\u001b[39;49mfit_kwargs)\n\u001b[1;32m    231\u001b[0m     \u001b[39mself\u001b[39m\u001b[39m.\u001b[39mon_trial_end(trial)\n\u001b[1;32m    232\u001b[0m \u001b[39mself\u001b[39m\u001b[39m.\u001b[39mon_search_end()\n",
      "File \u001b[0;32m~/miniconda3/envs/tf/lib/python3.9/site-packages/keras_tuner/engine/base_tuner.py:270\u001b[0m, in \u001b[0;36mBaseTuner._try_run_and_update_trial\u001b[0;34m(self, trial, *fit_args, **fit_kwargs)\u001b[0m\n\u001b[1;32m    268\u001b[0m \u001b[39mdef\u001b[39;00m \u001b[39m_try_run_and_update_trial\u001b[39m(\u001b[39mself\u001b[39m, trial, \u001b[39m*\u001b[39mfit_args, \u001b[39m*\u001b[39m\u001b[39m*\u001b[39mfit_kwargs):\n\u001b[1;32m    269\u001b[0m     \u001b[39mtry\u001b[39;00m:\n\u001b[0;32m--> 270\u001b[0m         \u001b[39mself\u001b[39;49m\u001b[39m.\u001b[39;49m_run_and_update_trial(trial, \u001b[39m*\u001b[39;49mfit_args, \u001b[39m*\u001b[39;49m\u001b[39m*\u001b[39;49mfit_kwargs)\n\u001b[1;32m    271\u001b[0m         trial\u001b[39m.\u001b[39mstatus \u001b[39m=\u001b[39m trial_module\u001b[39m.\u001b[39mTrialStatus\u001b[39m.\u001b[39mCOMPLETED\n\u001b[1;32m    272\u001b[0m         \u001b[39mreturn\u001b[39;00m\n",
      "File \u001b[0;32m~/miniconda3/envs/tf/lib/python3.9/site-packages/keras_tuner/engine/base_tuner.py:235\u001b[0m, in \u001b[0;36mBaseTuner._run_and_update_trial\u001b[0;34m(self, trial, *fit_args, **fit_kwargs)\u001b[0m\n\u001b[1;32m    234\u001b[0m \u001b[39mdef\u001b[39;00m \u001b[39m_run_and_update_trial\u001b[39m(\u001b[39mself\u001b[39m, trial, \u001b[39m*\u001b[39mfit_args, \u001b[39m*\u001b[39m\u001b[39m*\u001b[39mfit_kwargs):\n\u001b[0;32m--> 235\u001b[0m     results \u001b[39m=\u001b[39m \u001b[39mself\u001b[39;49m\u001b[39m.\u001b[39;49mrun_trial(trial, \u001b[39m*\u001b[39;49mfit_args, \u001b[39m*\u001b[39;49m\u001b[39m*\u001b[39;49mfit_kwargs)\n\u001b[1;32m    236\u001b[0m     \u001b[39mif\u001b[39;00m \u001b[39mself\u001b[39m\u001b[39m.\u001b[39moracle\u001b[39m.\u001b[39mget_trial(trial\u001b[39m.\u001b[39mtrial_id)\u001b[39m.\u001b[39mmetrics\u001b[39m.\u001b[39mexists(\n\u001b[1;32m    237\u001b[0m         \u001b[39mself\u001b[39m\u001b[39m.\u001b[39moracle\u001b[39m.\u001b[39mobjective\u001b[39m.\u001b[39mname\n\u001b[1;32m    238\u001b[0m     ):\n\u001b[1;32m    239\u001b[0m         \u001b[39m# The oracle is updated by calling `self.oracle.update_trial()` in\u001b[39;00m\n\u001b[1;32m    240\u001b[0m         \u001b[39m# `Tuner.run_trial()`. For backward compatibility, we support this\u001b[39;00m\n\u001b[1;32m    241\u001b[0m         \u001b[39m# use case. No further action needed in this case.\u001b[39;00m\n\u001b[1;32m    242\u001b[0m         warnings\u001b[39m.\u001b[39mwarn(\n\u001b[1;32m    243\u001b[0m             \u001b[39m\"\u001b[39m\u001b[39mThe use case of calling \u001b[39m\u001b[39m\"\u001b[39m\n\u001b[1;32m    244\u001b[0m             \u001b[39m\"\u001b[39m\u001b[39m`self.oracle.update_trial(trial_id, metrics)` \u001b[39m\u001b[39m\"\u001b[39m\n\u001b[0;32m   (...)\u001b[0m\n\u001b[1;32m    250\u001b[0m             stacklevel\u001b[39m=\u001b[39m\u001b[39m2\u001b[39m,\n\u001b[1;32m    251\u001b[0m         )\n",
      "File \u001b[0;32m~/miniconda3/envs/tf/lib/python3.9/site-packages/keras_tuner/engine/tuner.py:287\u001b[0m, in \u001b[0;36mTuner.run_trial\u001b[0;34m(self, trial, *args, **kwargs)\u001b[0m\n\u001b[1;32m    285\u001b[0m     callbacks\u001b[39m.\u001b[39mappend(model_checkpoint)\n\u001b[1;32m    286\u001b[0m     copied_kwargs[\u001b[39m\"\u001b[39m\u001b[39mcallbacks\u001b[39m\u001b[39m\"\u001b[39m] \u001b[39m=\u001b[39m callbacks\n\u001b[0;32m--> 287\u001b[0m     obj_value \u001b[39m=\u001b[39m \u001b[39mself\u001b[39;49m\u001b[39m.\u001b[39;49m_build_and_fit_model(trial, \u001b[39m*\u001b[39;49margs, \u001b[39m*\u001b[39;49m\u001b[39m*\u001b[39;49mcopied_kwargs)\n\u001b[1;32m    289\u001b[0m     histories\u001b[39m.\u001b[39mappend(obj_value)\n\u001b[1;32m    290\u001b[0m \u001b[39mreturn\u001b[39;00m histories\n",
      "File \u001b[0;32m~/miniconda3/envs/tf/lib/python3.9/site-packages/keras_tuner/engine/tuner.py:214\u001b[0m, in \u001b[0;36mTuner._build_and_fit_model\u001b[0;34m(self, trial, *args, **kwargs)\u001b[0m\n\u001b[1;32m    212\u001b[0m hp \u001b[39m=\u001b[39m trial\u001b[39m.\u001b[39mhyperparameters\n\u001b[1;32m    213\u001b[0m model \u001b[39m=\u001b[39m \u001b[39mself\u001b[39m\u001b[39m.\u001b[39m_try_build(hp)\n\u001b[0;32m--> 214\u001b[0m results \u001b[39m=\u001b[39m \u001b[39mself\u001b[39;49m\u001b[39m.\u001b[39;49mhypermodel\u001b[39m.\u001b[39;49mfit(hp, model, \u001b[39m*\u001b[39;49margs, \u001b[39m*\u001b[39;49m\u001b[39m*\u001b[39;49mkwargs)\n\u001b[1;32m    215\u001b[0m tuner_utils\u001b[39m.\u001b[39mvalidate_trial_results(\n\u001b[1;32m    216\u001b[0m     results, \u001b[39mself\u001b[39m\u001b[39m.\u001b[39moracle\u001b[39m.\u001b[39mobjective, \u001b[39m\"\u001b[39m\u001b[39mHyperModel.fit()\u001b[39m\u001b[39m\"\u001b[39m\n\u001b[1;32m    217\u001b[0m )\n\u001b[1;32m    218\u001b[0m \u001b[39mreturn\u001b[39;00m results\n",
      "File \u001b[0;32m~/miniconda3/envs/tf/lib/python3.9/site-packages/keras_tuner/engine/hypermodel.py:144\u001b[0m, in \u001b[0;36mHyperModel.fit\u001b[0;34m(self, hp, model, *args, **kwargs)\u001b[0m\n\u001b[1;32m    120\u001b[0m \u001b[39mdef\u001b[39;00m \u001b[39mfit\u001b[39m(\u001b[39mself\u001b[39m, hp, model, \u001b[39m*\u001b[39margs, \u001b[39m*\u001b[39m\u001b[39m*\u001b[39mkwargs):\n\u001b[1;32m    121\u001b[0m \u001b[39m    \u001b[39m\u001b[39m\"\"\"Train the model.\u001b[39;00m\n\u001b[1;32m    122\u001b[0m \n\u001b[1;32m    123\u001b[0m \u001b[39m    Args:\u001b[39;00m\n\u001b[0;32m   (...)\u001b[0m\n\u001b[1;32m    142\u001b[0m \u001b[39m        If return a float, it should be the `objective` value.\u001b[39;00m\n\u001b[1;32m    143\u001b[0m \u001b[39m    \"\"\"\u001b[39;00m\n\u001b[0;32m--> 144\u001b[0m     \u001b[39mreturn\u001b[39;00m model\u001b[39m.\u001b[39;49mfit(\u001b[39m*\u001b[39;49margs, \u001b[39m*\u001b[39;49m\u001b[39m*\u001b[39;49mkwargs)\n",
      "File \u001b[0;32m~/miniconda3/envs/tf/lib/python3.9/site-packages/keras/utils/traceback_utils.py:65\u001b[0m, in \u001b[0;36mfilter_traceback.<locals>.error_handler\u001b[0;34m(*args, **kwargs)\u001b[0m\n\u001b[1;32m     63\u001b[0m filtered_tb \u001b[39m=\u001b[39m \u001b[39mNone\u001b[39;00m\n\u001b[1;32m     64\u001b[0m \u001b[39mtry\u001b[39;00m:\n\u001b[0;32m---> 65\u001b[0m     \u001b[39mreturn\u001b[39;00m fn(\u001b[39m*\u001b[39;49margs, \u001b[39m*\u001b[39;49m\u001b[39m*\u001b[39;49mkwargs)\n\u001b[1;32m     66\u001b[0m \u001b[39mexcept\u001b[39;00m \u001b[39mException\u001b[39;00m \u001b[39mas\u001b[39;00m e:\n\u001b[1;32m     67\u001b[0m     filtered_tb \u001b[39m=\u001b[39m _process_traceback_frames(e\u001b[39m.\u001b[39m__traceback__)\n",
      "File \u001b[0;32m~/miniconda3/envs/tf/lib/python3.9/site-packages/keras/engine/training.py:1685\u001b[0m, in \u001b[0;36mModel.fit\u001b[0;34m(self, x, y, batch_size, epochs, verbose, callbacks, validation_split, validation_data, shuffle, class_weight, sample_weight, initial_epoch, steps_per_epoch, validation_steps, validation_batch_size, validation_freq, max_queue_size, workers, use_multiprocessing)\u001b[0m\n\u001b[1;32m   1677\u001b[0m \u001b[39mwith\u001b[39;00m tf\u001b[39m.\u001b[39mprofiler\u001b[39m.\u001b[39mexperimental\u001b[39m.\u001b[39mTrace(\n\u001b[1;32m   1678\u001b[0m     \u001b[39m\"\u001b[39m\u001b[39mtrain\u001b[39m\u001b[39m\"\u001b[39m,\n\u001b[1;32m   1679\u001b[0m     epoch_num\u001b[39m=\u001b[39mepoch,\n\u001b[0;32m   (...)\u001b[0m\n\u001b[1;32m   1682\u001b[0m     _r\u001b[39m=\u001b[39m\u001b[39m1\u001b[39m,\n\u001b[1;32m   1683\u001b[0m ):\n\u001b[1;32m   1684\u001b[0m     callbacks\u001b[39m.\u001b[39mon_train_batch_begin(step)\n\u001b[0;32m-> 1685\u001b[0m     tmp_logs \u001b[39m=\u001b[39m \u001b[39mself\u001b[39;49m\u001b[39m.\u001b[39;49mtrain_function(iterator)\n\u001b[1;32m   1686\u001b[0m     \u001b[39mif\u001b[39;00m data_handler\u001b[39m.\u001b[39mshould_sync:\n\u001b[1;32m   1687\u001b[0m         context\u001b[39m.\u001b[39masync_wait()\n",
      "File \u001b[0;32m~/miniconda3/envs/tf/lib/python3.9/site-packages/tensorflow/python/util/traceback_utils.py:150\u001b[0m, in \u001b[0;36mfilter_traceback.<locals>.error_handler\u001b[0;34m(*args, **kwargs)\u001b[0m\n\u001b[1;32m    148\u001b[0m filtered_tb \u001b[39m=\u001b[39m \u001b[39mNone\u001b[39;00m\n\u001b[1;32m    149\u001b[0m \u001b[39mtry\u001b[39;00m:\n\u001b[0;32m--> 150\u001b[0m   \u001b[39mreturn\u001b[39;00m fn(\u001b[39m*\u001b[39;49margs, \u001b[39m*\u001b[39;49m\u001b[39m*\u001b[39;49mkwargs)\n\u001b[1;32m    151\u001b[0m \u001b[39mexcept\u001b[39;00m \u001b[39mException\u001b[39;00m \u001b[39mas\u001b[39;00m e:\n\u001b[1;32m    152\u001b[0m   filtered_tb \u001b[39m=\u001b[39m _process_traceback_frames(e\u001b[39m.\u001b[39m__traceback__)\n",
      "File \u001b[0;32m~/miniconda3/envs/tf/lib/python3.9/site-packages/tensorflow/python/eager/polymorphic_function/polymorphic_function.py:894\u001b[0m, in \u001b[0;36mFunction.__call__\u001b[0;34m(self, *args, **kwds)\u001b[0m\n\u001b[1;32m    891\u001b[0m compiler \u001b[39m=\u001b[39m \u001b[39m\"\u001b[39m\u001b[39mxla\u001b[39m\u001b[39m\"\u001b[39m \u001b[39mif\u001b[39;00m \u001b[39mself\u001b[39m\u001b[39m.\u001b[39m_jit_compile \u001b[39melse\u001b[39;00m \u001b[39m\"\u001b[39m\u001b[39mnonXla\u001b[39m\u001b[39m\"\u001b[39m\n\u001b[1;32m    893\u001b[0m \u001b[39mwith\u001b[39;00m OptionalXlaContext(\u001b[39mself\u001b[39m\u001b[39m.\u001b[39m_jit_compile):\n\u001b[0;32m--> 894\u001b[0m   result \u001b[39m=\u001b[39m \u001b[39mself\u001b[39;49m\u001b[39m.\u001b[39;49m_call(\u001b[39m*\u001b[39;49margs, \u001b[39m*\u001b[39;49m\u001b[39m*\u001b[39;49mkwds)\n\u001b[1;32m    896\u001b[0m new_tracing_count \u001b[39m=\u001b[39m \u001b[39mself\u001b[39m\u001b[39m.\u001b[39mexperimental_get_tracing_count()\n\u001b[1;32m    897\u001b[0m without_tracing \u001b[39m=\u001b[39m (tracing_count \u001b[39m==\u001b[39m new_tracing_count)\n",
      "File \u001b[0;32m~/miniconda3/envs/tf/lib/python3.9/site-packages/tensorflow/python/eager/polymorphic_function/polymorphic_function.py:926\u001b[0m, in \u001b[0;36mFunction._call\u001b[0;34m(self, *args, **kwds)\u001b[0m\n\u001b[1;32m    923\u001b[0m   \u001b[39mself\u001b[39m\u001b[39m.\u001b[39m_lock\u001b[39m.\u001b[39mrelease()\n\u001b[1;32m    924\u001b[0m   \u001b[39m# In this case we have created variables on the first call, so we run the\u001b[39;00m\n\u001b[1;32m    925\u001b[0m   \u001b[39m# defunned version which is guaranteed to never create variables.\u001b[39;00m\n\u001b[0;32m--> 926\u001b[0m   \u001b[39mreturn\u001b[39;00m \u001b[39mself\u001b[39;49m\u001b[39m.\u001b[39;49m_no_variable_creation_fn(\u001b[39m*\u001b[39;49margs, \u001b[39m*\u001b[39;49m\u001b[39m*\u001b[39;49mkwds)  \u001b[39m# pylint: disable=not-callable\u001b[39;00m\n\u001b[1;32m    927\u001b[0m \u001b[39melif\u001b[39;00m \u001b[39mself\u001b[39m\u001b[39m.\u001b[39m_variable_creation_fn \u001b[39mis\u001b[39;00m \u001b[39mnot\u001b[39;00m \u001b[39mNone\u001b[39;00m:\n\u001b[1;32m    928\u001b[0m   \u001b[39m# Release the lock early so that multiple threads can perform the call\u001b[39;00m\n\u001b[1;32m    929\u001b[0m   \u001b[39m# in parallel.\u001b[39;00m\n\u001b[1;32m    930\u001b[0m   \u001b[39mself\u001b[39m\u001b[39m.\u001b[39m_lock\u001b[39m.\u001b[39mrelease()\n",
      "File \u001b[0;32m~/miniconda3/envs/tf/lib/python3.9/site-packages/tensorflow/python/eager/polymorphic_function/tracing_compiler.py:143\u001b[0m, in \u001b[0;36mTracingCompiler.__call__\u001b[0;34m(self, *args, **kwargs)\u001b[0m\n\u001b[1;32m    140\u001b[0m \u001b[39mwith\u001b[39;00m \u001b[39mself\u001b[39m\u001b[39m.\u001b[39m_lock:\n\u001b[1;32m    141\u001b[0m   (concrete_function,\n\u001b[1;32m    142\u001b[0m    filtered_flat_args) \u001b[39m=\u001b[39m \u001b[39mself\u001b[39m\u001b[39m.\u001b[39m_maybe_define_function(args, kwargs)\n\u001b[0;32m--> 143\u001b[0m \u001b[39mreturn\u001b[39;00m concrete_function\u001b[39m.\u001b[39;49m_call_flat(\n\u001b[1;32m    144\u001b[0m     filtered_flat_args, captured_inputs\u001b[39m=\u001b[39;49mconcrete_function\u001b[39m.\u001b[39;49mcaptured_inputs)\n",
      "File \u001b[0;32m~/miniconda3/envs/tf/lib/python3.9/site-packages/tensorflow/python/eager/polymorphic_function/monomorphic_function.py:1757\u001b[0m, in \u001b[0;36mConcreteFunction._call_flat\u001b[0;34m(self, args, captured_inputs, cancellation_manager)\u001b[0m\n\u001b[1;32m   1753\u001b[0m possible_gradient_type \u001b[39m=\u001b[39m gradients_util\u001b[39m.\u001b[39mPossibleTapeGradientTypes(args)\n\u001b[1;32m   1754\u001b[0m \u001b[39mif\u001b[39;00m (possible_gradient_type \u001b[39m==\u001b[39m gradients_util\u001b[39m.\u001b[39mPOSSIBLE_GRADIENT_TYPES_NONE\n\u001b[1;32m   1755\u001b[0m     \u001b[39mand\u001b[39;00m executing_eagerly):\n\u001b[1;32m   1756\u001b[0m   \u001b[39m# No tape is watching; skip to running the function.\u001b[39;00m\n\u001b[0;32m-> 1757\u001b[0m   \u001b[39mreturn\u001b[39;00m \u001b[39mself\u001b[39m\u001b[39m.\u001b[39m_build_call_outputs(\u001b[39mself\u001b[39;49m\u001b[39m.\u001b[39;49m_inference_function\u001b[39m.\u001b[39;49mcall(\n\u001b[1;32m   1758\u001b[0m       ctx, args, cancellation_manager\u001b[39m=\u001b[39;49mcancellation_manager))\n\u001b[1;32m   1759\u001b[0m forward_backward \u001b[39m=\u001b[39m \u001b[39mself\u001b[39m\u001b[39m.\u001b[39m_select_forward_and_backward_functions(\n\u001b[1;32m   1760\u001b[0m     args,\n\u001b[1;32m   1761\u001b[0m     possible_gradient_type,\n\u001b[1;32m   1762\u001b[0m     executing_eagerly)\n\u001b[1;32m   1763\u001b[0m forward_function, args_with_tangents \u001b[39m=\u001b[39m forward_backward\u001b[39m.\u001b[39mforward()\n",
      "File \u001b[0;32m~/miniconda3/envs/tf/lib/python3.9/site-packages/tensorflow/python/eager/polymorphic_function/monomorphic_function.py:381\u001b[0m, in \u001b[0;36m_EagerDefinedFunction.call\u001b[0;34m(self, ctx, args, cancellation_manager)\u001b[0m\n\u001b[1;32m    379\u001b[0m \u001b[39mwith\u001b[39;00m _InterpolateFunctionError(\u001b[39mself\u001b[39m):\n\u001b[1;32m    380\u001b[0m   \u001b[39mif\u001b[39;00m cancellation_manager \u001b[39mis\u001b[39;00m \u001b[39mNone\u001b[39;00m:\n\u001b[0;32m--> 381\u001b[0m     outputs \u001b[39m=\u001b[39m execute\u001b[39m.\u001b[39;49mexecute(\n\u001b[1;32m    382\u001b[0m         \u001b[39mstr\u001b[39;49m(\u001b[39mself\u001b[39;49m\u001b[39m.\u001b[39;49msignature\u001b[39m.\u001b[39;49mname),\n\u001b[1;32m    383\u001b[0m         num_outputs\u001b[39m=\u001b[39;49m\u001b[39mself\u001b[39;49m\u001b[39m.\u001b[39;49m_num_outputs,\n\u001b[1;32m    384\u001b[0m         inputs\u001b[39m=\u001b[39;49margs,\n\u001b[1;32m    385\u001b[0m         attrs\u001b[39m=\u001b[39;49mattrs,\n\u001b[1;32m    386\u001b[0m         ctx\u001b[39m=\u001b[39;49mctx)\n\u001b[1;32m    387\u001b[0m   \u001b[39melse\u001b[39;00m:\n\u001b[1;32m    388\u001b[0m     outputs \u001b[39m=\u001b[39m execute\u001b[39m.\u001b[39mexecute_with_cancellation(\n\u001b[1;32m    389\u001b[0m         \u001b[39mstr\u001b[39m(\u001b[39mself\u001b[39m\u001b[39m.\u001b[39msignature\u001b[39m.\u001b[39mname),\n\u001b[1;32m    390\u001b[0m         num_outputs\u001b[39m=\u001b[39m\u001b[39mself\u001b[39m\u001b[39m.\u001b[39m_num_outputs,\n\u001b[0;32m   (...)\u001b[0m\n\u001b[1;32m    393\u001b[0m         ctx\u001b[39m=\u001b[39mctx,\n\u001b[1;32m    394\u001b[0m         cancellation_manager\u001b[39m=\u001b[39mcancellation_manager)\n",
      "File \u001b[0;32m~/miniconda3/envs/tf/lib/python3.9/site-packages/tensorflow/python/eager/execute.py:52\u001b[0m, in \u001b[0;36mquick_execute\u001b[0;34m(op_name, num_outputs, inputs, attrs, ctx, name)\u001b[0m\n\u001b[1;32m     50\u001b[0m \u001b[39mtry\u001b[39;00m:\n\u001b[1;32m     51\u001b[0m   ctx\u001b[39m.\u001b[39mensure_initialized()\n\u001b[0;32m---> 52\u001b[0m   tensors \u001b[39m=\u001b[39m pywrap_tfe\u001b[39m.\u001b[39;49mTFE_Py_Execute(ctx\u001b[39m.\u001b[39;49m_handle, device_name, op_name,\n\u001b[1;32m     53\u001b[0m                                       inputs, attrs, num_outputs)\n\u001b[1;32m     54\u001b[0m \u001b[39mexcept\u001b[39;00m core\u001b[39m.\u001b[39m_NotOkStatusException \u001b[39mas\u001b[39;00m e:\n\u001b[1;32m     55\u001b[0m   \u001b[39mif\u001b[39;00m name \u001b[39mis\u001b[39;00m \u001b[39mnot\u001b[39;00m \u001b[39mNone\u001b[39;00m:\n",
      "\u001b[0;31mKeyboardInterrupt\u001b[0m: "
     ]
    }
   ],
   "source": [
    "\"\"\"with tf.device(device_name='/device:GPU:0'):\n",
    "    tuner.search(train_generator,\n",
    "             epochs = 100,\n",
    "             callbacks = [\n",
    "                 EarlyStopping(monitor='val_loss', patience=10, min_delta=0.001),\n",
    "                 TensorBoard(log_dir=tuning_dir),\n",
    "                 ModelCheckpoint('./data/tuned_models/tuned_baseline_model/best_weights.h5',save_best_only=True, monitor='val_loss'),\n",
    "                 ReduceLROnPlateau(monitor='val_loss', factor=0.1, min_lr=1e-9, patience=2, cooldown=5, min_delta=0.0001),\n",
    "                 TerminateOnNaN()\n",
    "             ],\n",
    "             validation_data=val_generator,\n",
    "             batch_size = BATCH_SIZE,\n",
    "             steps_per_epoch = 150,\n",
    "             validation_steps = 80\n",
    "            )\"\"\""
   ]
  },
  {
   "cell_type": "code",
   "execution_count": 45,
   "metadata": {
    "collapsed": false
   },
   "outputs": [
    {
     "name": "stdout",
     "output_type": "stream",
     "text": [
      "Results summary\n",
      "Results in ./data/tuned_models/tuned_baseline_model\n",
      "Showing 10 best trials\n",
      "Objective(name=\"val_loss\", direction=\"min\")\n",
      "\n",
      "Trial 01 summary\n",
      "Hyperparameters:\n",
      "dropout_rate: 0.4\n",
      "layers_to_train: 34\n",
      "dense1: 256\n",
      "dense2: 64\n",
      "activation: relu\n",
      "output_activation: sigmoid\n",
      "learning_rate: 0.006\n",
      "decay: 0.1\n",
      "optimizer: Nadam\n",
      "Score: 0.013392709195613861\n",
      "\n",
      "Trial 3 summary\n",
      "Hyperparameters:\n",
      "dropout_rate: 0.2\n",
      "layers_to_train: 19\n",
      "dense1: 512\n",
      "dense2: 128\n",
      "activation: relu\n",
      "output_activation: linear\n",
      "learning_rate: 0.002\n",
      "decay: 0.01\n",
      "optimizer: RMSprop\n",
      "Score: 0.01602204702794552\n",
      "\n",
      "Trial 4 summary\n",
      "Hyperparameters:\n",
      "dropout_rate: 0.4\n",
      "layers_to_train: 43\n",
      "dense1: 512\n",
      "dense2: 128\n",
      "activation: relu\n",
      "output_activation: softplus\n",
      "learning_rate: 0.0006\n",
      "decay: 0.01\n",
      "optimizer: Nadam\n",
      "Score: 0.01611521653831005\n",
      "\n",
      "Trial 00 summary\n",
      "Hyperparameters:\n",
      "dropout_rate: 0.1\n",
      "layers_to_train: 49\n",
      "dense1: 1024\n",
      "dense2: 128\n",
      "activation: elu\n",
      "output_activation: linear\n",
      "learning_rate: 0.004\n",
      "decay: 0.01\n",
      "optimizer: RMSprop\n",
      "Score: 0.01640515774488449\n",
      "\n",
      "Trial 02 summary\n",
      "Hyperparameters:\n",
      "dropout_rate: 0.1\n",
      "layers_to_train: 64\n",
      "dense1: 512\n",
      "dense2: 128\n",
      "activation: elu\n",
      "output_activation: softplus\n",
      "learning_rate: 0.0006\n",
      "decay: 0.1\n",
      "optimizer: Adam\n",
      "Score: 0.04396131634712219\n"
     ]
    }
   ],
   "source": [
    "#tuner.results_summary()"
   ]
  },
  {
   "cell_type": "code",
   "execution_count": 55,
   "metadata": {
    "collapsed": false
   },
   "outputs": [],
   "source": [
    "#best_params = tuner.get_best_hyperparameters()[0]"
   ]
  },
  {
   "cell_type": "code",
   "execution_count": 56,
   "metadata": {
    "collapsed": false
   },
   "outputs": [
    {
     "name": "stdout",
     "output_type": "stream",
     "text": [
      "Model: \"tuned_baseline_model\"\n",
      "_________________________________________________________________\n",
      " Layer (type)                Output Shape              Param #   \n",
      "=================================================================\n",
      " mobilenetv2_1.00_224 (Funct  (None, 7, 7, 1280)       2257984   \n",
      " ional)                                                          \n",
      "                                                                 \n",
      " global_average_pooling2d (G  (None, 1280)             0         \n",
      " lobalAveragePooling2D)                                          \n",
      "                                                                 \n",
      " flatten (Flatten)           (None, 1280)              0         \n",
      "                                                                 \n",
      " dropout (Dropout)           (None, 1280)              0         \n",
      "                                                                 \n",
      " dense (Dense)               (None, 256)               327936    \n",
      "                                                                 \n",
      " batch_normalization (BatchN  (None, 256)              1024      \n",
      " ormalization)                                                   \n",
      "                                                                 \n",
      " activation (Activation)     (None, 256)               0         \n",
      "                                                                 \n",
      " dropout_1 (Dropout)         (None, 256)               0         \n",
      "                                                                 \n",
      " dense_1 (Dense)             (None, 64)                16448     \n",
      "                                                                 \n",
      " batch_normalization_1 (Batc  (None, 64)               256       \n",
      " hNormalization)                                                 \n",
      "                                                                 \n",
      " activation_1 (Activation)   (None, 64)                0         \n",
      "                                                                 \n",
      " dense_2 (Dense)             (None, 2)                 130       \n",
      "                                                                 \n",
      "=================================================================\n",
      "Total params: 2,603,778\n",
      "Trainable params: 345,154\n",
      "Non-trainable params: 2,258,624\n",
      "_________________________________________________________________\n"
     ]
    }
   ],
   "source": [
    "#best_model = tuner.get_best_models()[0]\n",
    "#best_model.summary()"
   ]
  },
  {
   "cell_type": "code",
   "execution_count": 66,
   "metadata": {
    "collapsed": false
   },
   "outputs": [],
   "source": [
    "#backend.clear_session() # clear keras session"
   ]
  },
  {
   "cell_type": "code",
   "execution_count": 67,
   "metadata": {
    "collapsed": false
   },
   "outputs": [
    {
     "name": "stdout",
     "output_type": "stream",
     "text": [
      "Epoch 1/100\n"
     ]
    },
    {
     "name": "stderr",
     "output_type": "stream",
     "text": [
      "2023-04-21 00:07:08.888706: I tensorflow/core/common_runtime/executor.cc:1197] [/device:CPU:0] (DEBUG INFO) Executor start aborting (this does not indicate an error and you can ignore this message): INVALID_ARGUMENT: You must feed a value for placeholder tensor 'Placeholder/_0' with dtype int32\n",
      "\t [[{{node Placeholder/_0}}]]\n"
     ]
    },
    {
     "name": "stdout",
     "output_type": "stream",
     "text": [
      "150/150 [==============================] - ETA: 0s - loss: 0.0185 - mse: 0.0185 - accuracy: 0.9594"
     ]
    },
    {
     "name": "stderr",
     "output_type": "stream",
     "text": [
      "2023-04-21 00:07:57.001911: I tensorflow/core/common_runtime/executor.cc:1197] [/device:CPU:0] (DEBUG INFO) Executor start aborting (this does not indicate an error and you can ignore this message): INVALID_ARGUMENT: You must feed a value for placeholder tensor 'Placeholder/_0' with dtype int32\n",
      "\t [[{{node Placeholder/_0}}]]\n"
     ]
    },
    {
     "name": "stdout",
     "output_type": "stream",
     "text": [
      "150/150 [==============================] - 73s 462ms/step - loss: 0.0185 - mse: 0.0185 - accuracy: 0.9594 - val_loss: 0.0124 - val_mse: 0.0124 - val_accuracy: 0.9733 - lr: 0.0060\n",
      "Epoch 2/100\n",
      "150/150 [==============================] - 74s 479ms/step - loss: 0.0182 - mse: 0.0182 - accuracy: 0.9621 - val_loss: 0.0132 - val_mse: 0.0132 - val_accuracy: 0.9729 - lr: 0.0060\n",
      "Epoch 3/100\n",
      "150/150 [==============================] - 81s 522ms/step - loss: 0.0184 - mse: 0.0184 - accuracy: 0.9595 - val_loss: 0.0129 - val_mse: 0.0129 - val_accuracy: 0.9735 - lr: 0.0060\n",
      "Epoch 4/100\n",
      "150/150 [==============================] - 79s 508ms/step - loss: 0.0170 - mse: 0.0170 - accuracy: 0.9640 - val_loss: 0.0135 - val_mse: 0.0135 - val_accuracy: 0.9722 - lr: 0.0060\n",
      "Epoch 5/100\n",
      "150/150 [==============================] - 74s 475ms/step - loss: 0.0174 - mse: 0.0174 - accuracy: 0.9622 - val_loss: 0.0129 - val_mse: 0.0129 - val_accuracy: 0.9749 - lr: 0.0060\n",
      "Epoch 6/100\n",
      "150/150 [==============================] - 76s 490ms/step - loss: 0.0170 - mse: 0.0170 - accuracy: 0.9643 - val_loss: 0.0118 - val_mse: 0.0118 - val_accuracy: 0.9755 - lr: 0.0060\n",
      "Epoch 7/100\n",
      "150/150 [==============================] - 74s 477ms/step - loss: 0.0165 - mse: 0.0165 - accuracy: 0.9663 - val_loss: 0.0140 - val_mse: 0.0140 - val_accuracy: 0.9690 - lr: 0.0060\n",
      "Epoch 8/100\n",
      "150/150 [==============================] - 73s 471ms/step - loss: 0.0183 - mse: 0.0183 - accuracy: 0.9596 - val_loss: 0.0118 - val_mse: 0.0118 - val_accuracy: 0.9783 - lr: 0.0060\n",
      "Epoch 9/100\n",
      "150/150 [==============================] - 73s 473ms/step - loss: 0.0174 - mse: 0.0174 - accuracy: 0.9628 - val_loss: 0.0125 - val_mse: 0.0125 - val_accuracy: 0.9763 - lr: 0.0060\n",
      "Epoch 10/100\n",
      "150/150 [==============================] - ETA: 0s - loss: 0.0169 - mse: 0.0169 - accuracy: 0.9637Restoring model weights from the end of the best epoch: 1.\n",
      "150/150 [==============================] - 73s 468ms/step - loss: 0.0169 - mse: 0.0169 - accuracy: 0.9637 - val_loss: 0.0124 - val_mse: 0.0124 - val_accuracy: 0.9735 - lr: 0.0060\n",
      "Epoch 10: early stopping\n"
     ]
    }
   ],
   "source": [
    "#train_history = train(name='tuned_baseline_model', model=best_model, train_generator=train_generator, val_generator=val_generator, epochs=100, BATCH_SIZE=BATCH_SIZE,  step_size=step_size, val_step_size=val_step_size)"
   ]
  },
  {
   "cell_type": "code",
   "execution_count": 68,
   "metadata": {
    "collapsed": false
   },
   "outputs": [
    {
     "data": {
      "image/png": "[encoded data removed]",
      "text/plain": [
       "<Figure size 640x480 with 1 Axes>"
      ]
     },
     "metadata": {},
     "output_type": "display_data"
    }
   ],
   "source": [
    "plot_loss(train_history)"
   ]
  },
  {
   "attachments": {},
   "cell_type": "markdown",
   "metadata": {},
   "source": [
    "## Hyperparameter tuning with GridSearchCV"
   ]
  },
  {
   "cell_type": "code",
   "execution_count": 35,
   "metadata": {},
   "outputs": [],
   "source": [
    "# function to build estimator for grid search\n",
    "def build_estimator(optimizer='adam', learning_rate=0.001, decay=0.1, dropout_rate=0.1, trainable_layers=10, dense1_nodes=1024, dense2_nodes=32, activation='relu', output_activation='linear'):\n",
    "    \"\"\"\n",
    "    Build model for grid search\n",
    "\n",
    "    Params\n",
    "    ------\n",
    "\n",
    "    Returns\n",
    "    -------\n",
    "    Model: Keras model object\n",
    "    \"\"\"\n",
    "\n",
    "    # Define kernel_initializers for Dense layers\n",
    "    glorot_init = tf.keras.initializers.GlorotNormal(seed=42)\n",
    "    he_init = tf.keras.initializers.HeNormal(seed=42)\n",
    "\n",
    "    # Define input\n",
    "    input_shape = (224, 224, 3)\n",
    "\n",
    "    # Define base model\n",
    "    base = mobilenet_v2.MobileNetV2(include_top=False, weights='imagenet', input_shape=input_shape)\n",
    "\n",
    "    base.trainable = False # Freeze the model\n",
    "    for layer in base.layers[-trainable_layers:]:\n",
    "        layer.trainable = True\n",
    "\n",
    "    # Rebuild top\n",
    "    model = Sequential(name='best_baseline_model')\n",
    "    model.add(base)\n",
    "    model.add(GlobalAveragePooling2D())\n",
    "    model.add(Flatten())\n",
    "    model.add(Dropout(dropout_rate))\n",
    "    model.add(Dense(dense1_nodes, kernel_initializer=he_init))\n",
    "    model.add(BatchNormalization())\n",
    "    model.add(Activation(activation))\n",
    "    model.add(Dropout(dropout_rate))\n",
    "    model.add(Dense(dense2_nodes, kernel_initializer=he_init))\n",
    "    model.add(BatchNormalization())\n",
    "    model.add(Activation(activation))\n",
    "    model.add(Dense(2, activation=output_activation, kernel_initializer=glorot_init))\n",
    "\n",
    "    # choice of optimizer\n",
    "    optimizer=getattr(keras.optimizers, optimizer)(lr=learning_rate, decay=decay)\n",
    "\n",
    "    # Compile model\n",
    "    model.compile(loss='mean_squared_error',\n",
    "                  optimizer=optimizer,\n",
    "                  metrics=['mse', 'accuracy'])\n",
    "\n",
    "    return model"
   ]
  },
  {
   "cell_type": "code",
   "execution_count": 40,
   "metadata": {},
   "outputs": [],
   "source": [
    "# Define grid search parameters\n",
    "params = {\n",
    "    'optimizer': ['adam', 'nadam', 'rmsprop'],\n",
    "    'learning_rate': [1e-3, 4e-3, 6e-3, 2e-4, 5e-4],\n",
    "    'decay': [0.1, 0.01, 0.001],\n",
    "    'dropout_rate': [0.1, 0.2, 0.3],\n",
    "    'trainable_layers': [15, 28, 35, 40, 45, 55, 60, 75],\n",
    "    'dense1_nodes': [1024, 512, 256],\n",
    "    'dense2_nodes': [128, 64, 32],\n",
    "    'activation': ['relu', 'elu'],\n",
    "    'output_activation': ['sigmoid', 'linear', 'softplus']\n",
    "}"
   ]
  },
  {
   "cell_type": "code",
   "execution_count": 42,
   "metadata": {},
   "outputs": [
    {
     "name": "stderr",
     "output_type": "stream",
     "text": [
      "/tmp/ipykernel_243/3592995416.py:7: DeprecationWarning: KerasRegressor is deprecated, use Sci-Keras (https://github.com/adriangb/scikeras) instead. See https://www.adriangb.com/scikeras/stable/migration.html for help migrating.\n",
      "  model = KerasRegressor(build_fn=build_estimator, verbose=0, epochs=50, batch_size=BATCH_SIZE)\n"
     ]
    }
   ],
   "source": [
    "#from scikeras.wrappers import KerasRegressor\n",
    "import scikeras as sk\n",
    "from keras.wrappers.scikit_learn import KerasRegressor\n",
    "import pickle\n",
    "\n",
    "# create a scikeras wrapper model \n",
    "model = KerasRegressor(build_fn=build_estimator, verbose=0, epochs=50, batch_size=BATCH_SIZE)"
   ]
  },
  {
   "cell_type": "code",
   "execution_count": 43,
   "metadata": {},
   "outputs": [],
   "source": [
    "# keras model serialization to use with scikeras\n",
    "\n",
    "def serialize_model(model, path):\n",
    "    with open(path, 'wb') as f:\n",
    "        return pickle.dump(model, f)\n",
    "\n",
    "def deserialize_model(path):\n",
    "    with open(path, 'rb') as f:\n",
    "        return pickle.load(f)"
   ]
  },
  {
   "cell_type": "code",
   "execution_count": 44,
   "metadata": {},
   "outputs": [],
   "source": [
    "serialize_model(model, 'model.pkl')\n",
    "deserialized_model = deserialize_model('model.pkl')"
   ]
  },
  {
   "cell_type": "code",
   "execution_count": 45,
   "metadata": {},
   "outputs": [
    {
     "name": "stdout",
     "output_type": "stream",
     "text": [
      "Fitting 2 folds for each of 10 candidates, totalling 20 fits\n"
     ]
    }
   ],
   "source": [
    "# perform grid search\n",
    "from sklearn.model_selection import GridSearchCV, RandomizedSearchCV\n",
    "grid = RandomizedSearchCV(estimator=model, param_distributions=params, n_jobs=-1, cv=2, verbose=1)\n",
    "\n",
    "search_results = grid.fit(X=train_data['image_id'],\n",
    "                          y=train_data[['angle', 'speed']],\n",
    "                          epochs=50, \n",
    "                          steps_per_epoch=100)"
   ]
  },
  {
   "cell_type": "code",
   "execution_count": null,
   "metadata": {
    "execution": {
     "iopub.status.busy": "2023-03-17T23:56:44.935873Z",
     "iopub.status.idle": "2023-03-17T23:56:44.936202Z",
     "shell.execute_reply": "2023-03-17T23:56:44.936047Z",
     "shell.execute_reply.started": "2023-03-17T23:56:44.936031Z"
    },
    "id": "vjC71urSx_df",
    "trusted": true
   },
   "outputs": [],
   "source": [
    "def get_predictions(test_generator: Iterator, model: Sequential) -> pd.DataFrame:\n",
    "    \"\"\"\n",
    "    Params\n",
    "    ------\n",
    "    test_generator: Iterator\n",
    "        Data generator for testing\n",
    "    model: Sequential model\n",
    "        trained model to make\n",
    "\n",
    "    Returns\n",
    "    -------\n",
    "    pd.DataFrame\n",
    "        predictions as pandas dataframe\n",
    "    \"\"\"\n",
    "    \n",
    "    # extract image_id from test_generator\n",
    "    image_ids = [filename.split('/')[1] for filename in test_generator.filenames]\n",
    "    # convert to pandas dataframe with image_id as column name\n",
    "    png_df = pd.DataFrame(data=image_ids, columns=['image_id'])\n",
    "    png_df['image_id'] = png_df.image_id.apply(lambda x: os.path.split(x)[-1].split('.png')[0])\n",
    "\n",
    "    # make predictions\n",
    "    pred = model.predict(test_generator)\n",
    "\n",
    "    # convert prediction numpy.ndarray( to pd.DataFrame\n",
    "    pred_df = pd.concat([png_df, pd.DataFrame(data=pred, columns=['angle', 'speed'])], axis=1)\n",
    "    # dropping index from dataframe\n",
    "    pred_df.reset_index(drop=True)\n",
    "\n",
    "    # return predictions\n",
    "    return pred_df"
   ]
  },
  {
   "cell_type": "code",
   "execution_count": null,
   "metadata": {
    "execution": {
     "iopub.status.busy": "2023-03-17T23:56:44.937725Z",
     "iopub.status.idle": "2023-03-17T23:56:44.938101Z",
     "shell.execute_reply": "2023-03-17T23:56:44.937930Z",
     "shell.execute_reply.started": "2023-03-17T23:56:44.937912Z"
    },
    "id": "raC2R1y3yAIj",
    "trusted": true
   },
   "outputs": [],
   "source": [
    "def save_csv(pred_df: pd.DataFrame) -> None:\n",
    "    \"\"\"\n",
    "    Params\n",
    "    ------\n",
    "    pred_df: pd.DataFrame\n",
    "        predictions in pandas dataframe\n",
    "\n",
    "    Returns\n",
    "    -------\n",
    "    None\n",
    "    \"\"\"\n",
    "\n",
    "    savedir='./submissions' # submissions directory\n",
    "    if not os.path.exists(savedir):\n",
    "        os.mkdir(savedir)\n",
    "\n",
    "    csvfile = 'submission' + '_' + datetime.now().strftime('%d-%b_%I-%M%p') + '.csv' # csv file name\n",
    "    savedir = str(os.path.join(savedir, csvfile))\n",
    "    pred_df.to_csv(savedir, sep=',', index=False) # save to disk\n",
    "    print('Saved CSV file on disk!')"
   ]
  },
  {
   "cell_type": "code",
   "execution_count": null,
   "metadata": {
    "colab": {
     "base_uri": "https://localhost:8080/"
    },
    "execution": {
     "iopub.status.busy": "2023-03-17T23:56:44.939105Z",
     "iopub.status.idle": "2023-03-17T23:56:44.939514Z",
     "shell.execute_reply": "2023-03-17T23:56:44.939317Z",
     "shell.execute_reply.started": "2023-03-17T23:56:44.939293Z"
    },
    "id": "5NulLTRvUx2v",
    "outputId": "55e607e0-d919-4e45-a0e1-de5b608b7bb1",
    "trusted": true
   },
   "outputs": [],
   "source": [
    "#test_path = os.path.join(data_path, 'test_data', 'images') # path to test data\n",
    "#test_dir = os.path.join(data_path, 'test_data')\n",
    "pred_df = get_predictions(test_generator, best_model)"
   ]
  },
  {
   "cell_type": "code",
   "execution_count": null,
   "metadata": {},
   "outputs": [],
   "source": [
    "pred_df"
   ]
  },
  {
   "cell_type": "code",
   "execution_count": null,
   "metadata": {
    "collapsed": false,
    "execution": {
     "iopub.status.busy": "2023-03-17T23:56:44.943443Z",
     "iopub.status.idle": "2023-03-17T23:56:44.943876Z",
     "shell.execute_reply": "2023-03-17T23:56:44.943690Z",
     "shell.execute_reply.started": "2023-03-17T23:56:44.943669Z"
    },
    "jupyter": {
     "outputs_hidden": false
    },
    "trusted": true
   },
   "outputs": [],
   "source": [
    "save_csv(pred_df)"
   ]
  }
 ],
 "metadata": {
  "accelerator": "GPU",
  "colab": {
   "machine_shape": "hm",
   "provenance": []
  },
  "gpuClass": "premium",
  "kernelspec": {
   "display_name": "Python 3 (ipykernel)",
   "language": "python",
   "name": "python3"
  },
  "language_info": {
   "codemirror_mode": {
    "name": "ipython",
    "version": 3
   },
   "file_extension": ".py",
   "mimetype": "text/x-python",
   "name": "python",
   "nbconvert_exporter": "python",
   "pygments_lexer": "ipython3",
   "version": "3.9.16"
  }
 },
 "nbformat": 4,
 "nbformat_minor": 4
}
